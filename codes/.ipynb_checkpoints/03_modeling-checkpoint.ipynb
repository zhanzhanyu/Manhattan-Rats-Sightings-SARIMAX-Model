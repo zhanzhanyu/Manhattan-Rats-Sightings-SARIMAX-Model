{
 "cells": [
  {
   "cell_type": "markdown",
   "metadata": {},
   "source": [
    "# Modeling"
   ]
  },
  {
   "cell_type": "code",
   "execution_count": null,
   "metadata": {},
   "outputs": [],
   "source": []
  },
  {
   "cell_type": "code",
   "execution_count": 1,
   "metadata": {},
   "outputs": [
    {
     "name": "stderr",
     "output_type": "stream",
     "text": [
      "/Users/zhan/opt/anaconda3/envs/dsi/lib/python3.7/site-packages/statsmodels/tools/_testing.py:19: FutureWarning: pandas.util.testing is deprecated. Use the functions in the public API at pandas.testing instead.\n",
      "  import pandas.util.testing as tm\n"
     ]
    }
   ],
   "source": [
    "import pandas as pd\n",
    "import numpy as np\n",
    "import matplotlib.pyplot as plt\n",
    "from datetime import datetime\n",
    "from sklearn.model_selection import train_test_split\n",
    "\n",
    "import statsmodels.api as sm\n",
    "\n",
    "%matplotlib inline\n",
    "\n",
    "from pandas.plotting import register_matplotlib_converters\n",
    "register_matplotlib_converters()"
   ]
  },
  {
   "cell_type": "code",
   "execution_count": 6,
   "metadata": {},
   "outputs": [],
   "source": [
    "grand_st = pd.read_csv('../datasets/grand_st.csv')"
   ]
  },
  {
   "cell_type": "code",
   "execution_count": 7,
   "metadata": {},
   "outputs": [
    {
     "data": {
      "text/html": [
       "<div>\n",
       "<style scoped>\n",
       "    .dataframe tbody tr th:only-of-type {\n",
       "        vertical-align: middle;\n",
       "    }\n",
       "\n",
       "    .dataframe tbody tr th {\n",
       "        vertical-align: top;\n",
       "    }\n",
       "\n",
       "    .dataframe thead th {\n",
       "        text-align: right;\n",
       "    }\n",
       "</style>\n",
       "<table border=\"1\" class=\"dataframe\">\n",
       "  <thead>\n",
       "    <tr style=\"text-align: right;\">\n",
       "      <th></th>\n",
       "      <th>inspection_type</th>\n",
       "      <th>job_progress</th>\n",
       "      <th>latitude</th>\n",
       "      <th>longitude</th>\n",
       "      <th>result</th>\n",
       "      <th>approved_date</th>\n",
       "    </tr>\n",
       "    <tr>\n",
       "      <th>inspection_date</th>\n",
       "      <th></th>\n",
       "      <th></th>\n",
       "      <th></th>\n",
       "      <th></th>\n",
       "      <th></th>\n",
       "      <th></th>\n",
       "    </tr>\n",
       "  </thead>\n",
       "  <tbody>\n",
       "    <tr>\n",
       "      <th>2019-11-18 14:40:34</th>\n",
       "      <td>INITIAL</td>\n",
       "      <td>1</td>\n",
       "      <td>40.718009</td>\n",
       "      <td>-73.993427</td>\n",
       "      <td>Passed Inspection</td>\n",
       "      <td>2019-11-19 13:38:14</td>\n",
       "    </tr>\n",
       "    <tr>\n",
       "      <th>2019-10-23 16:41:06</th>\n",
       "      <td>INITIAL</td>\n",
       "      <td>1</td>\n",
       "      <td>40.718009</td>\n",
       "      <td>-73.993427</td>\n",
       "      <td>Active Rat Signs</td>\n",
       "      <td>2019-10-24 12:12:51</td>\n",
       "    </tr>\n",
       "    <tr>\n",
       "      <th>2019-09-18 15:15:50</th>\n",
       "      <td>INITIAL</td>\n",
       "      <td>1</td>\n",
       "      <td>40.718009</td>\n",
       "      <td>-73.993427</td>\n",
       "      <td>Active Rat Signs</td>\n",
       "      <td>2019-09-19 11:03:46</td>\n",
       "    </tr>\n",
       "    <tr>\n",
       "      <th>2019-08-26 15:16:25</th>\n",
       "      <td>INITIAL</td>\n",
       "      <td>1</td>\n",
       "      <td>40.718009</td>\n",
       "      <td>-73.993427</td>\n",
       "      <td>Active Rat Signs</td>\n",
       "      <td>2019-08-27 13:01:51</td>\n",
       "    </tr>\n",
       "    <tr>\n",
       "      <th>2019-07-25 15:16:16</th>\n",
       "      <td>INITIAL</td>\n",
       "      <td>1</td>\n",
       "      <td>40.718009</td>\n",
       "      <td>-73.993427</td>\n",
       "      <td>Active Rat Signs</td>\n",
       "      <td>2019-07-29 08:39:23</td>\n",
       "    </tr>\n",
       "  </tbody>\n",
       "</table>\n",
       "</div>"
      ],
      "text/plain": [
       "                    inspection_type  job_progress   latitude  longitude  \\\n",
       "inspection_date                                                           \n",
       "2019-11-18 14:40:34         INITIAL             1  40.718009 -73.993427   \n",
       "2019-10-23 16:41:06         INITIAL             1  40.718009 -73.993427   \n",
       "2019-09-18 15:15:50         INITIAL             1  40.718009 -73.993427   \n",
       "2019-08-26 15:16:25         INITIAL             1  40.718009 -73.993427   \n",
       "2019-07-25 15:16:16         INITIAL             1  40.718009 -73.993427   \n",
       "\n",
       "                                result       approved_date  \n",
       "inspection_date                                             \n",
       "2019-11-18 14:40:34  Passed Inspection 2019-11-19 13:38:14  \n",
       "2019-10-23 16:41:06   Active Rat Signs 2019-10-24 12:12:51  \n",
       "2019-09-18 15:15:50   Active Rat Signs 2019-09-19 11:03:46  \n",
       "2019-08-26 15:16:25   Active Rat Signs 2019-08-27 13:01:51  \n",
       "2019-07-25 15:16:16   Active Rat Signs 2019-07-29 08:39:23  "
      ]
     },
     "execution_count": 7,
     "metadata": {},
     "output_type": "execute_result"
    }
   ],
   "source": [
    "# Changing date columns into datetime form: \n",
    "grand_st['inspection_date'] = pd.to_datetime(grand_st['inspection_date'])\n",
    "grand_st['approved_date'] = pd.to_datetime(grand_st['approved_date'])\n",
    "grand_st.set_index('inspection_date',inplace = True)\n",
    "grand_st.head()"
   ]
  },
  {
   "cell_type": "code",
   "execution_count": 8,
   "metadata": {},
   "outputs": [
    {
     "data": {
      "text/html": [
       "<div>\n",
       "<style scoped>\n",
       "    .dataframe tbody tr th:only-of-type {\n",
       "        vertical-align: middle;\n",
       "    }\n",
       "\n",
       "    .dataframe tbody tr th {\n",
       "        vertical-align: top;\n",
       "    }\n",
       "\n",
       "    .dataframe thead th {\n",
       "        text-align: right;\n",
       "    }\n",
       "</style>\n",
       "<table border=\"1\" class=\"dataframe\">\n",
       "  <thead>\n",
       "    <tr style=\"text-align: right;\">\n",
       "      <th></th>\n",
       "      <th>inspection_type</th>\n",
       "      <th>job_progress</th>\n",
       "      <th>result</th>\n",
       "      <th>approved_date</th>\n",
       "    </tr>\n",
       "    <tr>\n",
       "      <th>inspection_date</th>\n",
       "      <th></th>\n",
       "      <th></th>\n",
       "      <th></th>\n",
       "      <th></th>\n",
       "    </tr>\n",
       "  </thead>\n",
       "  <tbody>\n",
       "    <tr>\n",
       "      <th>2019-11-18 14:40:34</th>\n",
       "      <td>INITIAL</td>\n",
       "      <td>1</td>\n",
       "      <td>Passed Inspection</td>\n",
       "      <td>2019-11-19 13:38:14</td>\n",
       "    </tr>\n",
       "    <tr>\n",
       "      <th>2019-10-23 16:41:06</th>\n",
       "      <td>INITIAL</td>\n",
       "      <td>1</td>\n",
       "      <td>Active Rat Signs</td>\n",
       "      <td>2019-10-24 12:12:51</td>\n",
       "    </tr>\n",
       "    <tr>\n",
       "      <th>2019-09-18 15:15:50</th>\n",
       "      <td>INITIAL</td>\n",
       "      <td>1</td>\n",
       "      <td>Active Rat Signs</td>\n",
       "      <td>2019-09-19 11:03:46</td>\n",
       "    </tr>\n",
       "    <tr>\n",
       "      <th>2019-08-26 15:16:25</th>\n",
       "      <td>INITIAL</td>\n",
       "      <td>1</td>\n",
       "      <td>Active Rat Signs</td>\n",
       "      <td>2019-08-27 13:01:51</td>\n",
       "    </tr>\n",
       "    <tr>\n",
       "      <th>2019-07-25 15:16:16</th>\n",
       "      <td>INITIAL</td>\n",
       "      <td>1</td>\n",
       "      <td>Active Rat Signs</td>\n",
       "      <td>2019-07-29 08:39:23</td>\n",
       "    </tr>\n",
       "  </tbody>\n",
       "</table>\n",
       "</div>"
      ],
      "text/plain": [
       "                    inspection_type  job_progress             result  \\\n",
       "inspection_date                                                        \n",
       "2019-11-18 14:40:34         INITIAL             1  Passed Inspection   \n",
       "2019-10-23 16:41:06         INITIAL             1   Active Rat Signs   \n",
       "2019-09-18 15:15:50         INITIAL             1   Active Rat Signs   \n",
       "2019-08-26 15:16:25         INITIAL             1   Active Rat Signs   \n",
       "2019-07-25 15:16:16         INITIAL             1   Active Rat Signs   \n",
       "\n",
       "                          approved_date  \n",
       "inspection_date                          \n",
       "2019-11-18 14:40:34 2019-11-19 13:38:14  \n",
       "2019-10-23 16:41:06 2019-10-24 12:12:51  \n",
       "2019-09-18 15:15:50 2019-09-19 11:03:46  \n",
       "2019-08-26 15:16:25 2019-08-27 13:01:51  \n",
       "2019-07-25 15:16:16 2019-07-29 08:39:23  "
      ]
     },
     "execution_count": 8,
     "metadata": {},
     "output_type": "execute_result"
    }
   ],
   "source": [
    "grand_st.drop(columns=['latitude', 'longitude'], inplace = True)\n",
    "grand_st.head()"
   ]
  },
  {
   "cell_type": "code",
   "execution_count": 9,
   "metadata": {},
   "outputs": [
    {
     "data": {
      "text/plain": [
       "{'BAIT', 'INITIAL'}"
      ]
     },
     "execution_count": 9,
     "metadata": {},
     "output_type": "execute_result"
    }
   ],
   "source": [
    "set(grand_st['inspection_type'])"
   ]
  },
  {
   "cell_type": "code",
   "execution_count": 13,
   "metadata": {},
   "outputs": [],
   "source": [
    "grand_st['inspection_type'] = grand_st['inspection_type'].map({'BAIT': 1, 'INITIAL': 2})"
   ]
  },
  {
   "cell_type": "code",
   "execution_count": 10,
   "metadata": {},
   "outputs": [
    {
     "data": {
      "text/plain": [
       "{'Active Rat Signs', 'Bait applied', 'Monitoring visit', 'Passed Inspection'}"
      ]
     },
     "execution_count": 10,
     "metadata": {},
     "output_type": "execute_result"
    }
   ],
   "source": [
    "set(grand_st['result'])"
   ]
  },
  {
   "cell_type": "code",
   "execution_count": 15,
   "metadata": {},
   "outputs": [],
   "source": [
    "grand_st['result'] = grand_st['result'].map({'Active Rat Signs': 1, \n",
    "                                             'Bait applied': 2, \n",
    "                                             'Monitoring visit': 3, \n",
    "                                             'Passed Inspection': 4})"
   ]
  },
  {
   "cell_type": "code",
   "execution_count": 16,
   "metadata": {},
   "outputs": [
    {
     "data": {
      "text/html": [
       "<div>\n",
       "<style scoped>\n",
       "    .dataframe tbody tr th:only-of-type {\n",
       "        vertical-align: middle;\n",
       "    }\n",
       "\n",
       "    .dataframe tbody tr th {\n",
       "        vertical-align: top;\n",
       "    }\n",
       "\n",
       "    .dataframe thead th {\n",
       "        text-align: right;\n",
       "    }\n",
       "</style>\n",
       "<table border=\"1\" class=\"dataframe\">\n",
       "  <thead>\n",
       "    <tr style=\"text-align: right;\">\n",
       "      <th></th>\n",
       "      <th>inspection_type</th>\n",
       "      <th>job_progress</th>\n",
       "      <th>result</th>\n",
       "      <th>approved_date</th>\n",
       "    </tr>\n",
       "    <tr>\n",
       "      <th>inspection_date</th>\n",
       "      <th></th>\n",
       "      <th></th>\n",
       "      <th></th>\n",
       "      <th></th>\n",
       "    </tr>\n",
       "  </thead>\n",
       "  <tbody>\n",
       "    <tr>\n",
       "      <th>2019-11-18 14:40:34</th>\n",
       "      <td>2</td>\n",
       "      <td>1</td>\n",
       "      <td>4</td>\n",
       "      <td>2019-11-19 13:38:14</td>\n",
       "    </tr>\n",
       "    <tr>\n",
       "      <th>2019-10-23 16:41:06</th>\n",
       "      <td>2</td>\n",
       "      <td>1</td>\n",
       "      <td>1</td>\n",
       "      <td>2019-10-24 12:12:51</td>\n",
       "    </tr>\n",
       "    <tr>\n",
       "      <th>2019-09-18 15:15:50</th>\n",
       "      <td>2</td>\n",
       "      <td>1</td>\n",
       "      <td>1</td>\n",
       "      <td>2019-09-19 11:03:46</td>\n",
       "    </tr>\n",
       "    <tr>\n",
       "      <th>2019-08-26 15:16:25</th>\n",
       "      <td>2</td>\n",
       "      <td>1</td>\n",
       "      <td>1</td>\n",
       "      <td>2019-08-27 13:01:51</td>\n",
       "    </tr>\n",
       "    <tr>\n",
       "      <th>2019-07-25 15:16:16</th>\n",
       "      <td>2</td>\n",
       "      <td>1</td>\n",
       "      <td>1</td>\n",
       "      <td>2019-07-29 08:39:23</td>\n",
       "    </tr>\n",
       "  </tbody>\n",
       "</table>\n",
       "</div>"
      ],
      "text/plain": [
       "                     inspection_type  job_progress  result       approved_date\n",
       "inspection_date                                                               \n",
       "2019-11-18 14:40:34                2             1       4 2019-11-19 13:38:14\n",
       "2019-10-23 16:41:06                2             1       1 2019-10-24 12:12:51\n",
       "2019-09-18 15:15:50                2             1       1 2019-09-19 11:03:46\n",
       "2019-08-26 15:16:25                2             1       1 2019-08-27 13:01:51\n",
       "2019-07-25 15:16:16                2             1       1 2019-07-29 08:39:23"
      ]
     },
     "execution_count": 16,
     "metadata": {},
     "output_type": "execute_result"
    }
   ],
   "source": [
    "grand_st.head()"
   ]
  },
  {
   "cell_type": "code",
   "execution_count": 18,
   "metadata": {},
   "outputs": [],
   "source": [
    "def plot_series(df, cols=None, title='Title', xlab=None, ylab=None, steps=1):\n",
    "    \n",
    "    # Set figure size to be (18, 9).\n",
    "    plt.figure(figsize=(18,9))\n",
    "    \n",
    "    # Iterate through each column name.\n",
    "    for col in cols:\n",
    "            \n",
    "        # Generate a line plot of the column name.\n",
    "        # You only have to specify Y, since our\n",
    "        # index will be a datetime index.\n",
    "        plt.plot(df[col])\n",
    "        \n",
    "    # Generate title and labels.\n",
    "    plt.title(title, fontsize=26)\n",
    "    plt.xlabel(xlab, fontsize=20)\n",
    "    plt.ylabel(ylab, fontsize=20)\n",
    "    \n",
    "    # Enlarge tick marks.\n",
    "    plt.yticks(fontsize=18)\n",
    "    plt.xticks(df.index[0::steps], fontsize=18);"
   ]
  },
  {
   "cell_type": "code",
   "execution_count": 24,
   "metadata": {},
   "outputs": [
    {
     "data": {
      "image/png": "[encoded data removed]",
      "text/plain": [
       "<Figure size 1296x648 with 1 Axes>"
      ]
     },
     "metadata": {
      "needs_background": "light"
     },
     "output_type": "display_data"
    }
   ],
   "source": [
    "plot_series(grand_st,\n",
    "            ['result'],\n",
    "            steps=1000)"
   ]
  },
  {
   "cell_type": "code",
   "execution_count": null,
   "metadata": {},
   "outputs": [],
   "source": []
  }
 ],
 "metadata": {
  "kernelspec": {
   "display_name": "Python 3",
   "language": "python",
   "name": "python3"
  },
  "language_info": {
   "codemirror_mode": {
    "name": "ipython",
    "version": 3
   },
   "file_extension": ".py",
   "mimetype": "text/x-python",
   "name": "python",
   "nbconvert_exporter": "python",
   "pygments_lexer": "ipython3",
   "version": "3.7.3"
  }
 },
 "nbformat": 4,
 "nbformat_minor": 2
}

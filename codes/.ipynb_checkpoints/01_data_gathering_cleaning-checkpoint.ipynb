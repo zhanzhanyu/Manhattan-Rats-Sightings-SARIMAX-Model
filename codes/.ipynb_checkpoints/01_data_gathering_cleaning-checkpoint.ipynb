{
 "cells": [
  {
   "cell_type": "markdown",
   "metadata": {},
   "source": [
    "# Data Gathering and Data Cleaning\n",
    "#### By: _Zhan Yu_"
   ]
  },
  {
   "cell_type": "markdown",
   "metadata": {},
   "source": [
    "## Table of Contents\n",
    "- [Loading Libraries & Data](#Loading-Libraries-&-Data)\n",
    "- [Data Preprocessing](#Data-Preprocessing)"
   ]
  },
  {
   "cell_type": "markdown",
   "metadata": {},
   "source": [
    "## Loading Libraries & Data"
   ]
  },
  {
   "cell_type": "markdown",
   "metadata": {},
   "source": [
    "In this project, the datasets [Rodent Inspection in NYC](https://data.cityofnewyork.us/Health/Rodent-Inspection/p937-wjvj), [Rat Sightings](https://data.cityofnewyork.us/Social-Services/Rat-Sightings/3q43-55fe) and [Restaurant-Inspection](https://data.cityofnewyork.us/Health/DOHMH-New-York-City-Restaurant-Inspection-Results/43nn-pn8j ) are public datasets from data.cityofnewyork.us.  \n",
    "The Property Address Directory (PAD) dataset is from [NYC Department of City Planning](https://www1.nyc.gov/site/planning/data-maps/open-data.page) and can be downloaded [HERE](https://www1.nyc.gov/assets/planning/download/zip/data-maps/open-data/pad20a.zip)"
   ]
  },
  {
   "cell_type": "code",
   "execution_count": 1,
   "metadata": {},
   "outputs": [],
   "source": [
    "# Libraries: \n",
    "import pandas as pd\n",
    "import numpy as np\n",
    "import os\n",
    "\n",
    "from sodapy import Socrata\n",
    "\n",
    "import warnings\n",
    "warnings.simplefilter(action=\"ignore\")"
   ]
  },
  {
   "cell_type": "markdown",
   "metadata": {},
   "source": [
    "### SoQL(Socrata Query Language)  \n",
    "\n",
    "The Socrata APIs provide rich query functionality through a query language we call the “Socrata Query Language” or “SoQL”.   \n",
    "Install packages at the current environment (for example, mine is (dsi)) before running:\n",
    "``` Terminal\n",
    "pip install sodapy\n",
    "```"
   ]
  },
  {
   "cell_type": "code",
   "execution_count": 2,
   "metadata": {},
   "outputs": [
    {
     "name": "stderr",
     "output_type": "stream",
     "text": [
      "WARNING:root:Requests made without an app_token will be subject to strict throttling limits.\n"
     ]
    }
   ],
   "source": [
    "# Unauthenticated client only works with public data sets. Note 'None'\n",
    "# in place of application token, and no username or password:\n",
    "client = Socrata(\"data.cityofnewyork.us\", None)\n",
    "\n",
    "# In this case they are public datasets.\n",
    "\n",
    "# First 1,000,000 results, returned as JSON from API / converted to Python list of\n",
    "# dictionaries by sodapy.\n",
    "results = client.get(\"p937-wjvj\",                                # Rodent Inspection dataset\n",
    "                     limit=1_000_000, where=\"boro_code = 1\")\n",
    "\n",
    "# Convert to pandas DataFrame\n",
    "rats = pd.DataFrame.from_records(results)"
   ]
  },
  {
   "cell_type": "code",
   "execution_count": 3,
   "metadata": {},
   "outputs": [],
   "source": [
    "# First 500,000 results, returned as JSON from API / converted to Python list of\n",
    "# dictionaries by sodapy.\n",
    "results = client.get(\"43nn-pn8j\",                                # NYC Restaurant Inspection dataset\n",
    "                     limit=500_000)\n",
    "\n",
    "# Convert to pandas DataFrame\n",
    "restaurants = pd.DataFrame.from_records(results)"
   ]
  },
  {
   "cell_type": "code",
   "execution_count": 3,
   "metadata": {},
   "outputs": [
    {
     "name": "stderr",
     "output_type": "stream",
     "text": [
      "WARNING:root:Requests made without an app_token will be subject to strict throttling limits.\n"
     ]
    }
   ],
   "source": [
    "# First 150,000 results, returned as JSON from API / converted to Python list of\n",
    "# dictionaries by sodapy.\n",
    "\n",
    "results = client.get(\"3q43-55fe\",                                # Rat Sightings dataset\n",
    "                     limit=150_000)\n",
    "\n",
    "# Convert to pandas DataFrame\n",
    "rat_sightings = pd.DataFrame.from_records(results)"
   ]
  },
  {
   "cell_type": "markdown",
   "metadata": {},
   "source": [
    "Because the datasets are too big (about 200 MB), we are going to do some data cleaning and trimming before we export them."
   ]
  },
  {
   "cell_type": "markdown",
   "metadata": {},
   "source": [
    "### autocensus"
   ]
  },
  {
   "cell_type": "markdown",
   "metadata": {},
   "source": [
    "|Name|Label|Concept|\n",
    "|---|---|---|\n",
    "|B00001_001E|Estimate Total|UNWEIGHTED SAMPLE COUNT OF THE POPULATION|"
   ]
  },
  {
   "cell_type": "markdown",
   "metadata": {},
   "source": [
    "New York County (Manhattan Borough), New York"
   ]
  },
  {
   "cell_type": "code",
   "execution_count": 84,
   "metadata": {},
   "outputs": [],
   "source": [
    "from autocensus import Query"
   ]
  },
  {
   "cell_type": "code",
   "execution_count": 146,
   "metadata": {
    "scrolled": true
   },
   "outputs": [
    {
     "name": "stdout",
     "output_type": "stream",
     "text": [
      "Retrieving variables...\n",
      "Retrieving ACS tables...\n"
     ]
    },
    {
     "ename": "CensusAPIUnknownError",
     "evalue": "Non-200 response from: https://api.census.gov/data/2013/acs/acs5?get=NAME,GEO_ID,B00001_001E&for=zip+code+tabulation+area:*&in=state:36&key=9991b4ab66903673ef2f2f5dae3ec63d2ab4f4f2\nerror: unknown/unsupported geography heirarchy",
     "output_type": "error",
     "traceback": [
      "\u001b[0;31m---------------------------------------------------------------------------\u001b[0m",
      "\u001b[0;31mCensusAPIUnknownError\u001b[0m                     Traceback (most recent call last)",
      "\u001b[0;32m<ipython-input-146-1c1e2287eabd>\u001b[0m in \u001b[0;36m<module>\u001b[0;34m\u001b[0m\n\u001b[1;32m      8\u001b[0m     \u001b[0mcensus_api_key\u001b[0m\u001b[0;34m=\u001b[0m\u001b[0;34m'9991b4ab66903673ef2f2f5dae3ec63d2ab4f4f2'\u001b[0m\u001b[0;34m\u001b[0m\u001b[0;34m\u001b[0m\u001b[0m\n\u001b[1;32m      9\u001b[0m )\n\u001b[0;32m---> 10\u001b[0;31m \u001b[0mdataframe\u001b[0m \u001b[0;34m=\u001b[0m \u001b[0mquery\u001b[0m\u001b[0;34m.\u001b[0m\u001b[0mrun\u001b[0m\u001b[0;34m(\u001b[0m\u001b[0;34m)\u001b[0m\u001b[0;34m\u001b[0m\u001b[0;34m\u001b[0m\u001b[0m\n\u001b[0m\u001b[1;32m     11\u001b[0m \u001b[0mdataframe\u001b[0m\u001b[0;34m.\u001b[0m\u001b[0mhead\u001b[0m\u001b[0;34m(\u001b[0m\u001b[0;34m)\u001b[0m\u001b[0;34m\u001b[0m\u001b[0;34m\u001b[0m\u001b[0m\n",
      "\u001b[0;32m~/opt/anaconda3/envs/dsi/lib/python3.7/site-packages/autocensus/query.py\u001b[0m in \u001b[0;36mrun\u001b[0;34m(self)\u001b[0m\n\u001b[1;32m    404\u001b[0m             \u001b[0mvariables\u001b[0m\u001b[0;34m:\u001b[0m \u001b[0mVariables\u001b[0m \u001b[0;34m=\u001b[0m \u001b[0mself\u001b[0m\u001b[0;34m.\u001b[0m\u001b[0mget_variables\u001b[0m\u001b[0;34m(\u001b[0m\u001b[0;34m)\u001b[0m\u001b[0;34m\u001b[0m\u001b[0;34m\u001b[0m\u001b[0m\n\u001b[1;32m    405\u001b[0m             \u001b[0mprint\u001b[0m\u001b[0;34m(\u001b[0m\u001b[0;34m'Retrieving ACS tables...'\u001b[0m\u001b[0;34m)\u001b[0m\u001b[0;34m\u001b[0m\u001b[0;34m\u001b[0m\u001b[0m\n\u001b[0;32m--> 406\u001b[0;31m             \u001b[0mtables\u001b[0m\u001b[0;34m:\u001b[0m \u001b[0mTables\u001b[0m \u001b[0;34m=\u001b[0m \u001b[0mself\u001b[0m\u001b[0;34m.\u001b[0m\u001b[0mget_tables\u001b[0m\u001b[0;34m(\u001b[0m\u001b[0;34m)\u001b[0m\u001b[0;34m\u001b[0m\u001b[0;34m\u001b[0m\u001b[0m\n\u001b[0m\u001b[1;32m    407\u001b[0m             \u001b[0;32mif\u001b[0m \u001b[0mself\u001b[0m\u001b[0;34m.\u001b[0m\u001b[0mjoin_geography\u001b[0m \u001b[0;32mis\u001b[0m \u001b[0;32mTrue\u001b[0m\u001b[0;34m:\u001b[0m\u001b[0;34m\u001b[0m\u001b[0;34m\u001b[0m\u001b[0m\n\u001b[1;32m    408\u001b[0m                 \u001b[0mprint\u001b[0m\u001b[0;34m(\u001b[0m\u001b[0;34m'Retrieving shapefiles...'\u001b[0m\u001b[0;34m)\u001b[0m\u001b[0;34m\u001b[0m\u001b[0;34m\u001b[0m\u001b[0m\n",
      "\u001b[0;32m~/opt/anaconda3/envs/dsi/lib/python3.7/site-packages/autocensus/query.py\u001b[0m in \u001b[0;36mget_tables\u001b[0;34m(self)\u001b[0m\n\u001b[1;32m    211\u001b[0m                 \u001b[0mcalls\u001b[0m\u001b[0;34m.\u001b[0m\u001b[0mappend\u001b[0m\u001b[0;34m(\u001b[0m\u001b[0mcall\u001b[0m\u001b[0;34m)\u001b[0m\u001b[0;34m\u001b[0m\u001b[0;34m\u001b[0m\u001b[0m\n\u001b[1;32m    212\u001b[0m         \u001b[0;31m# Make concurrent API calls\u001b[0m\u001b[0;34m\u001b[0m\u001b[0;34m\u001b[0m\u001b[0;34m\u001b[0m\u001b[0m\n\u001b[0;32m--> 213\u001b[0;31m         \u001b[0mresults\u001b[0m\u001b[0;34m:\u001b[0m \u001b[0mFuture\u001b[0m \u001b[0;34m=\u001b[0m \u001b[0masyncio\u001b[0m\u001b[0;34m.\u001b[0m\u001b[0mrun\u001b[0m\u001b[0;34m(\u001b[0m\u001b[0mself\u001b[0m\u001b[0;34m.\u001b[0m\u001b[0m_census_api\u001b[0m\u001b[0;34m.\u001b[0m\u001b[0mgather_calls\u001b[0m\u001b[0;34m(\u001b[0m\u001b[0mcalls\u001b[0m\u001b[0;34m)\u001b[0m\u001b[0;34m)\u001b[0m\u001b[0;34m\u001b[0m\u001b[0;34m\u001b[0m\u001b[0m\n\u001b[0m\u001b[1;32m    214\u001b[0m         \u001b[0mtables\u001b[0m \u001b[0;34m=\u001b[0m \u001b[0mlist\u001b[0m\u001b[0;34m(\u001b[0m\u001b[0mresults\u001b[0m\u001b[0;34m)\u001b[0m\u001b[0;34m\u001b[0m\u001b[0;34m\u001b[0m\u001b[0m\n\u001b[1;32m    215\u001b[0m         \u001b[0;32mreturn\u001b[0m \u001b[0mtables\u001b[0m\u001b[0;34m\u001b[0m\u001b[0;34m\u001b[0m\u001b[0m\n",
      "\u001b[0;32m~/opt/anaconda3/envs/dsi/lib/python3.7/site-packages/nest_asyncio.py\u001b[0m in \u001b[0;36mrun\u001b[0;34m(future, debug)\u001b[0m\n\u001b[1;32m     29\u001b[0m         \u001b[0mloop\u001b[0m \u001b[0;34m=\u001b[0m \u001b[0masyncio\u001b[0m\u001b[0;34m.\u001b[0m\u001b[0mget_event_loop\u001b[0m\u001b[0;34m(\u001b[0m\u001b[0;34m)\u001b[0m\u001b[0;34m\u001b[0m\u001b[0;34m\u001b[0m\u001b[0m\n\u001b[1;32m     30\u001b[0m         \u001b[0mloop\u001b[0m\u001b[0;34m.\u001b[0m\u001b[0mset_debug\u001b[0m\u001b[0;34m(\u001b[0m\u001b[0mdebug\u001b[0m\u001b[0;34m)\u001b[0m\u001b[0;34m\u001b[0m\u001b[0;34m\u001b[0m\u001b[0m\n\u001b[0;32m---> 31\u001b[0;31m         \u001b[0;32mreturn\u001b[0m \u001b[0mloop\u001b[0m\u001b[0;34m.\u001b[0m\u001b[0mrun_until_complete\u001b[0m\u001b[0;34m(\u001b[0m\u001b[0mfuture\u001b[0m\u001b[0;34m)\u001b[0m\u001b[0;34m\u001b[0m\u001b[0;34m\u001b[0m\u001b[0m\n\u001b[0m\u001b[1;32m     32\u001b[0m \u001b[0;34m\u001b[0m\u001b[0m\n\u001b[1;32m     33\u001b[0m     \u001b[0;32mif\u001b[0m \u001b[0msys\u001b[0m\u001b[0;34m.\u001b[0m\u001b[0mversion_info\u001b[0m \u001b[0;34m>=\u001b[0m \u001b[0;34m(\u001b[0m\u001b[0;36m3\u001b[0m\u001b[0;34m,\u001b[0m \u001b[0;36m6\u001b[0m\u001b[0;34m,\u001b[0m \u001b[0;36m0\u001b[0m\u001b[0;34m)\u001b[0m\u001b[0;34m:\u001b[0m\u001b[0;34m\u001b[0m\u001b[0;34m\u001b[0m\u001b[0m\n",
      "\u001b[0;32m~/opt/anaconda3/envs/dsi/lib/python3.7/asyncio/base_events.py\u001b[0m in \u001b[0;36mrun_until_complete\u001b[0;34m(self, future)\u001b[0m\n\u001b[1;32m    582\u001b[0m             \u001b[0;32mraise\u001b[0m \u001b[0mRuntimeError\u001b[0m\u001b[0;34m(\u001b[0m\u001b[0;34m'Event loop stopped before Future completed.'\u001b[0m\u001b[0;34m)\u001b[0m\u001b[0;34m\u001b[0m\u001b[0;34m\u001b[0m\u001b[0m\n\u001b[1;32m    583\u001b[0m \u001b[0;34m\u001b[0m\u001b[0m\n\u001b[0;32m--> 584\u001b[0;31m         \u001b[0;32mreturn\u001b[0m \u001b[0mfuture\u001b[0m\u001b[0;34m.\u001b[0m\u001b[0mresult\u001b[0m\u001b[0;34m(\u001b[0m\u001b[0;34m)\u001b[0m\u001b[0;34m\u001b[0m\u001b[0;34m\u001b[0m\u001b[0m\n\u001b[0m\u001b[1;32m    585\u001b[0m \u001b[0;34m\u001b[0m\u001b[0m\n\u001b[1;32m    586\u001b[0m     \u001b[0;32mdef\u001b[0m \u001b[0mstop\u001b[0m\u001b[0;34m(\u001b[0m\u001b[0mself\u001b[0m\u001b[0;34m)\u001b[0m\u001b[0;34m:\u001b[0m\u001b[0;34m\u001b[0m\u001b[0;34m\u001b[0m\u001b[0m\n",
      "\u001b[0;32m~/opt/anaconda3/envs/dsi/lib/python3.7/asyncio/futures.py\u001b[0m in \u001b[0;36mresult\u001b[0;34m(self)\u001b[0m\n\u001b[1;32m    176\u001b[0m         \u001b[0mself\u001b[0m\u001b[0;34m.\u001b[0m\u001b[0m__log_traceback\u001b[0m \u001b[0;34m=\u001b[0m \u001b[0;32mFalse\u001b[0m\u001b[0;34m\u001b[0m\u001b[0;34m\u001b[0m\u001b[0m\n\u001b[1;32m    177\u001b[0m         \u001b[0;32mif\u001b[0m \u001b[0mself\u001b[0m\u001b[0;34m.\u001b[0m\u001b[0m_exception\u001b[0m \u001b[0;32mis\u001b[0m \u001b[0;32mnot\u001b[0m \u001b[0;32mNone\u001b[0m\u001b[0;34m:\u001b[0m\u001b[0;34m\u001b[0m\u001b[0;34m\u001b[0m\u001b[0m\n\u001b[0;32m--> 178\u001b[0;31m             \u001b[0;32mraise\u001b[0m \u001b[0mself\u001b[0m\u001b[0;34m.\u001b[0m\u001b[0m_exception\u001b[0m\u001b[0;34m\u001b[0m\u001b[0;34m\u001b[0m\u001b[0m\n\u001b[0m\u001b[1;32m    179\u001b[0m         \u001b[0;32mreturn\u001b[0m \u001b[0mself\u001b[0m\u001b[0;34m.\u001b[0m\u001b[0m_result\u001b[0m\u001b[0;34m\u001b[0m\u001b[0;34m\u001b[0m\u001b[0m\n\u001b[1;32m    180\u001b[0m \u001b[0;34m\u001b[0m\u001b[0m\n",
      "\u001b[0;32m~/opt/anaconda3/envs/dsi/lib/python3.7/asyncio/tasks.py\u001b[0m in \u001b[0;36m__step\u001b[0;34m(***failed resolving arguments***)\u001b[0m\n\u001b[1;32m    223\u001b[0m                 \u001b[0mresult\u001b[0m \u001b[0;34m=\u001b[0m \u001b[0mcoro\u001b[0m\u001b[0;34m.\u001b[0m\u001b[0msend\u001b[0m\u001b[0;34m(\u001b[0m\u001b[0;32mNone\u001b[0m\u001b[0;34m)\u001b[0m\u001b[0;34m\u001b[0m\u001b[0;34m\u001b[0m\u001b[0m\n\u001b[1;32m    224\u001b[0m             \u001b[0;32melse\u001b[0m\u001b[0;34m:\u001b[0m\u001b[0;34m\u001b[0m\u001b[0;34m\u001b[0m\u001b[0m\n\u001b[0;32m--> 225\u001b[0;31m                 \u001b[0mresult\u001b[0m \u001b[0;34m=\u001b[0m \u001b[0mcoro\u001b[0m\u001b[0;34m.\u001b[0m\u001b[0mthrow\u001b[0m\u001b[0;34m(\u001b[0m\u001b[0mexc\u001b[0m\u001b[0;34m)\u001b[0m\u001b[0;34m\u001b[0m\u001b[0;34m\u001b[0m\u001b[0m\n\u001b[0m\u001b[1;32m    226\u001b[0m         \u001b[0;32mexcept\u001b[0m \u001b[0mStopIteration\u001b[0m \u001b[0;32mas\u001b[0m \u001b[0mexc\u001b[0m\u001b[0;34m:\u001b[0m\u001b[0;34m\u001b[0m\u001b[0;34m\u001b[0m\u001b[0m\n\u001b[1;32m    227\u001b[0m             \u001b[0;32mif\u001b[0m \u001b[0mself\u001b[0m\u001b[0;34m.\u001b[0m\u001b[0m_must_cancel\u001b[0m\u001b[0;34m:\u001b[0m\u001b[0;34m\u001b[0m\u001b[0;34m\u001b[0m\u001b[0m\n",
      "\u001b[0;32m~/opt/anaconda3/envs/dsi/lib/python3.7/site-packages/autocensus/api.py\u001b[0m in \u001b[0;36mgather_calls\u001b[0;34m(self, calls)\u001b[0m\n\u001b[1;32m    169\u001b[0m         \u001b[0;34m\"\"\"Gather a series of fetch calls for concurrent scheduling.\"\"\"\u001b[0m\u001b[0;34m\u001b[0m\u001b[0;34m\u001b[0m\u001b[0m\n\u001b[1;32m    170\u001b[0m         \u001b[0;32masync\u001b[0m \u001b[0;32mwith\u001b[0m \u001b[0mself\u001b[0m\u001b[0;34m.\u001b[0m\u001b[0mcreate_session\u001b[0m\u001b[0;34m(\u001b[0m\u001b[0;34m)\u001b[0m\u001b[0;34m:\u001b[0m\u001b[0;34m\u001b[0m\u001b[0;34m\u001b[0m\u001b[0m\n\u001b[0;32m--> 171\u001b[0;31m             \u001b[0mgathered\u001b[0m\u001b[0;34m:\u001b[0m \u001b[0mFuture\u001b[0m \u001b[0;34m=\u001b[0m \u001b[0;32mawait\u001b[0m \u001b[0mgather\u001b[0m\u001b[0;34m(\u001b[0m\u001b[0;34m*\u001b[0m\u001b[0mcalls\u001b[0m\u001b[0;34m)\u001b[0m\u001b[0;34m\u001b[0m\u001b[0;34m\u001b[0m\u001b[0m\n\u001b[0m\u001b[1;32m    172\u001b[0m             \u001b[0;32mreturn\u001b[0m \u001b[0mgathered\u001b[0m\u001b[0;34m\u001b[0m\u001b[0;34m\u001b[0m\u001b[0m\n",
      "\u001b[0;32m~/opt/anaconda3/envs/dsi/lib/python3.7/asyncio/tasks.py\u001b[0m in \u001b[0;36m__wakeup\u001b[0;34m(self, future)\u001b[0m\n\u001b[1;32m    290\u001b[0m     \u001b[0;32mdef\u001b[0m \u001b[0m__wakeup\u001b[0m\u001b[0;34m(\u001b[0m\u001b[0mself\u001b[0m\u001b[0;34m,\u001b[0m \u001b[0mfuture\u001b[0m\u001b[0;34m)\u001b[0m\u001b[0;34m:\u001b[0m\u001b[0;34m\u001b[0m\u001b[0;34m\u001b[0m\u001b[0m\n\u001b[1;32m    291\u001b[0m         \u001b[0;32mtry\u001b[0m\u001b[0;34m:\u001b[0m\u001b[0;34m\u001b[0m\u001b[0;34m\u001b[0m\u001b[0m\n\u001b[0;32m--> 292\u001b[0;31m             \u001b[0mfuture\u001b[0m\u001b[0;34m.\u001b[0m\u001b[0mresult\u001b[0m\u001b[0;34m(\u001b[0m\u001b[0;34m)\u001b[0m\u001b[0;34m\u001b[0m\u001b[0;34m\u001b[0m\u001b[0m\n\u001b[0m\u001b[1;32m    293\u001b[0m         \u001b[0;32mexcept\u001b[0m \u001b[0mException\u001b[0m \u001b[0;32mas\u001b[0m \u001b[0mexc\u001b[0m\u001b[0;34m:\u001b[0m\u001b[0;34m\u001b[0m\u001b[0;34m\u001b[0m\u001b[0m\n\u001b[1;32m    294\u001b[0m             \u001b[0;31m# This may also be a cancellation.\u001b[0m\u001b[0;34m\u001b[0m\u001b[0;34m\u001b[0m\u001b[0;34m\u001b[0m\u001b[0m\n",
      "\u001b[0;32m~/opt/anaconda3/envs/dsi/lib/python3.7/asyncio/tasks.py\u001b[0m in \u001b[0;36m__step\u001b[0;34m(***failed resolving arguments***)\u001b[0m\n\u001b[1;32m    221\u001b[0m                 \u001b[0;31m# We use the `send` method directly, because coroutines\u001b[0m\u001b[0;34m\u001b[0m\u001b[0;34m\u001b[0m\u001b[0;34m\u001b[0m\u001b[0m\n\u001b[1;32m    222\u001b[0m                 \u001b[0;31m# don't have `__iter__` and `__next__` methods.\u001b[0m\u001b[0;34m\u001b[0m\u001b[0;34m\u001b[0m\u001b[0;34m\u001b[0m\u001b[0m\n\u001b[0;32m--> 223\u001b[0;31m                 \u001b[0mresult\u001b[0m \u001b[0;34m=\u001b[0m \u001b[0mcoro\u001b[0m\u001b[0;34m.\u001b[0m\u001b[0msend\u001b[0m\u001b[0;34m(\u001b[0m\u001b[0;32mNone\u001b[0m\u001b[0;34m)\u001b[0m\u001b[0;34m\u001b[0m\u001b[0;34m\u001b[0m\u001b[0m\n\u001b[0m\u001b[1;32m    224\u001b[0m             \u001b[0;32melse\u001b[0m\u001b[0;34m:\u001b[0m\u001b[0;34m\u001b[0m\u001b[0;34m\u001b[0m\u001b[0m\n\u001b[1;32m    225\u001b[0m                 \u001b[0mresult\u001b[0m \u001b[0;34m=\u001b[0m \u001b[0mcoro\u001b[0m\u001b[0;34m.\u001b[0m\u001b[0mthrow\u001b[0m\u001b[0;34m(\u001b[0m\u001b[0mexc\u001b[0m\u001b[0;34m)\u001b[0m\u001b[0;34m\u001b[0m\u001b[0;34m\u001b[0m\u001b[0m\n",
      "\u001b[0;32m~/opt/anaconda3/envs/dsi/lib/python3.7/site-packages/tenacity/_asyncio.py\u001b[0m in \u001b[0;36mcall\u001b[0;34m(self, fn, *args, **kwargs)\u001b[0m\n\u001b[1;32m     40\u001b[0m             retry_object=self, fn=fn, args=args, kwargs=kwargs)\n\u001b[1;32m     41\u001b[0m         \u001b[0;32mwhile\u001b[0m \u001b[0;32mTrue\u001b[0m\u001b[0;34m:\u001b[0m\u001b[0;34m\u001b[0m\u001b[0;34m\u001b[0m\u001b[0m\n\u001b[0;32m---> 42\u001b[0;31m             \u001b[0mdo\u001b[0m \u001b[0;34m=\u001b[0m \u001b[0mself\u001b[0m\u001b[0;34m.\u001b[0m\u001b[0miter\u001b[0m\u001b[0;34m(\u001b[0m\u001b[0mretry_state\u001b[0m\u001b[0;34m=\u001b[0m\u001b[0mretry_state\u001b[0m\u001b[0;34m)\u001b[0m\u001b[0;34m\u001b[0m\u001b[0;34m\u001b[0m\u001b[0m\n\u001b[0m\u001b[1;32m     43\u001b[0m             \u001b[0;32mif\u001b[0m \u001b[0misinstance\u001b[0m\u001b[0;34m(\u001b[0m\u001b[0mdo\u001b[0m\u001b[0;34m,\u001b[0m \u001b[0mDoAttempt\u001b[0m\u001b[0;34m)\u001b[0m\u001b[0;34m:\u001b[0m\u001b[0;34m\u001b[0m\u001b[0;34m\u001b[0m\u001b[0m\n\u001b[1;32m     44\u001b[0m                 \u001b[0;32mtry\u001b[0m\u001b[0;34m:\u001b[0m\u001b[0;34m\u001b[0m\u001b[0;34m\u001b[0m\u001b[0m\n",
      "\u001b[0;32m~/opt/anaconda3/envs/dsi/lib/python3.7/site-packages/tenacity/__init__.py\u001b[0m in \u001b[0;36miter\u001b[0;34m(self, retry_state)\u001b[0m\n\u001b[1;32m    348\u001b[0m             \u001b[0mretry_exc\u001b[0m \u001b[0;34m=\u001b[0m \u001b[0mself\u001b[0m\u001b[0;34m.\u001b[0m\u001b[0mretry_error_cls\u001b[0m\u001b[0;34m(\u001b[0m\u001b[0mfut\u001b[0m\u001b[0;34m)\u001b[0m\u001b[0;34m\u001b[0m\u001b[0;34m\u001b[0m\u001b[0m\n\u001b[1;32m    349\u001b[0m             \u001b[0;32mif\u001b[0m \u001b[0mself\u001b[0m\u001b[0;34m.\u001b[0m\u001b[0mreraise\u001b[0m\u001b[0;34m:\u001b[0m\u001b[0;34m\u001b[0m\u001b[0;34m\u001b[0m\u001b[0m\n\u001b[0;32m--> 350\u001b[0;31m                 \u001b[0;32mraise\u001b[0m \u001b[0mretry_exc\u001b[0m\u001b[0;34m.\u001b[0m\u001b[0mreraise\u001b[0m\u001b[0;34m(\u001b[0m\u001b[0;34m)\u001b[0m\u001b[0;34m\u001b[0m\u001b[0;34m\u001b[0m\u001b[0m\n\u001b[0m\u001b[1;32m    351\u001b[0m             \u001b[0msix\u001b[0m\u001b[0;34m.\u001b[0m\u001b[0mraise_from\u001b[0m\u001b[0;34m(\u001b[0m\u001b[0mretry_exc\u001b[0m\u001b[0;34m,\u001b[0m \u001b[0mfut\u001b[0m\u001b[0;34m.\u001b[0m\u001b[0mexception\u001b[0m\u001b[0;34m(\u001b[0m\u001b[0;34m)\u001b[0m\u001b[0;34m)\u001b[0m\u001b[0;34m\u001b[0m\u001b[0;34m\u001b[0m\u001b[0m\n\u001b[1;32m    352\u001b[0m \u001b[0;34m\u001b[0m\u001b[0m\n",
      "\u001b[0;32m~/opt/anaconda3/envs/dsi/lib/python3.7/site-packages/tenacity/__init__.py\u001b[0m in \u001b[0;36mreraise\u001b[0;34m(self)\u001b[0m\n\u001b[1;32m    166\u001b[0m     \u001b[0;32mdef\u001b[0m \u001b[0mreraise\u001b[0m\u001b[0;34m(\u001b[0m\u001b[0mself\u001b[0m\u001b[0;34m)\u001b[0m\u001b[0;34m:\u001b[0m\u001b[0;34m\u001b[0m\u001b[0;34m\u001b[0m\u001b[0m\n\u001b[1;32m    167\u001b[0m         \u001b[0;32mif\u001b[0m \u001b[0mself\u001b[0m\u001b[0;34m.\u001b[0m\u001b[0mlast_attempt\u001b[0m\u001b[0;34m.\u001b[0m\u001b[0mfailed\u001b[0m\u001b[0;34m:\u001b[0m\u001b[0;34m\u001b[0m\u001b[0;34m\u001b[0m\u001b[0m\n\u001b[0;32m--> 168\u001b[0;31m             \u001b[0;32mraise\u001b[0m \u001b[0mself\u001b[0m\u001b[0;34m.\u001b[0m\u001b[0mlast_attempt\u001b[0m\u001b[0;34m.\u001b[0m\u001b[0mresult\u001b[0m\u001b[0;34m(\u001b[0m\u001b[0;34m)\u001b[0m\u001b[0;34m\u001b[0m\u001b[0;34m\u001b[0m\u001b[0m\n\u001b[0m\u001b[1;32m    169\u001b[0m         \u001b[0;32mraise\u001b[0m \u001b[0mself\u001b[0m\u001b[0;34m\u001b[0m\u001b[0;34m\u001b[0m\u001b[0m\n\u001b[1;32m    170\u001b[0m \u001b[0;34m\u001b[0m\u001b[0m\n",
      "\u001b[0;32m~/opt/anaconda3/envs/dsi/lib/python3.7/concurrent/futures/_base.py\u001b[0m in \u001b[0;36mresult\u001b[0;34m(self, timeout)\u001b[0m\n\u001b[1;32m    423\u001b[0m                 \u001b[0;32mraise\u001b[0m \u001b[0mCancelledError\u001b[0m\u001b[0;34m(\u001b[0m\u001b[0;34m)\u001b[0m\u001b[0;34m\u001b[0m\u001b[0;34m\u001b[0m\u001b[0m\n\u001b[1;32m    424\u001b[0m             \u001b[0;32melif\u001b[0m \u001b[0mself\u001b[0m\u001b[0;34m.\u001b[0m\u001b[0m_state\u001b[0m \u001b[0;34m==\u001b[0m \u001b[0mFINISHED\u001b[0m\u001b[0;34m:\u001b[0m\u001b[0;34m\u001b[0m\u001b[0;34m\u001b[0m\u001b[0m\n\u001b[0;32m--> 425\u001b[0;31m                 \u001b[0;32mreturn\u001b[0m \u001b[0mself\u001b[0m\u001b[0;34m.\u001b[0m\u001b[0m__get_result\u001b[0m\u001b[0;34m(\u001b[0m\u001b[0;34m)\u001b[0m\u001b[0;34m\u001b[0m\u001b[0;34m\u001b[0m\u001b[0m\n\u001b[0m\u001b[1;32m    426\u001b[0m \u001b[0;34m\u001b[0m\u001b[0m\n\u001b[1;32m    427\u001b[0m             \u001b[0mself\u001b[0m\u001b[0;34m.\u001b[0m\u001b[0m_condition\u001b[0m\u001b[0;34m.\u001b[0m\u001b[0mwait\u001b[0m\u001b[0;34m(\u001b[0m\u001b[0mtimeout\u001b[0m\u001b[0;34m)\u001b[0m\u001b[0;34m\u001b[0m\u001b[0;34m\u001b[0m\u001b[0m\n",
      "\u001b[0;32m~/opt/anaconda3/envs/dsi/lib/python3.7/concurrent/futures/_base.py\u001b[0m in \u001b[0;36m__get_result\u001b[0;34m(self)\u001b[0m\n\u001b[1;32m    382\u001b[0m     \u001b[0;32mdef\u001b[0m \u001b[0m__get_result\u001b[0m\u001b[0;34m(\u001b[0m\u001b[0mself\u001b[0m\u001b[0;34m)\u001b[0m\u001b[0;34m:\u001b[0m\u001b[0;34m\u001b[0m\u001b[0;34m\u001b[0m\u001b[0m\n\u001b[1;32m    383\u001b[0m         \u001b[0;32mif\u001b[0m \u001b[0mself\u001b[0m\u001b[0;34m.\u001b[0m\u001b[0m_exception\u001b[0m\u001b[0;34m:\u001b[0m\u001b[0;34m\u001b[0m\u001b[0;34m\u001b[0m\u001b[0m\n\u001b[0;32m--> 384\u001b[0;31m             \u001b[0;32mraise\u001b[0m \u001b[0mself\u001b[0m\u001b[0;34m.\u001b[0m\u001b[0m_exception\u001b[0m\u001b[0;34m\u001b[0m\u001b[0;34m\u001b[0m\u001b[0m\n\u001b[0m\u001b[1;32m    385\u001b[0m         \u001b[0;32melse\u001b[0m\u001b[0;34m:\u001b[0m\u001b[0;34m\u001b[0m\u001b[0;34m\u001b[0m\u001b[0m\n\u001b[1;32m    386\u001b[0m             \u001b[0;32mreturn\u001b[0m \u001b[0mself\u001b[0m\u001b[0;34m.\u001b[0m\u001b[0m_result\u001b[0m\u001b[0;34m\u001b[0m\u001b[0;34m\u001b[0m\u001b[0m\n",
      "\u001b[0;32m~/opt/anaconda3/envs/dsi/lib/python3.7/site-packages/tenacity/_asyncio.py\u001b[0m in \u001b[0;36mcall\u001b[0;34m(self, fn, *args, **kwargs)\u001b[0m\n\u001b[1;32m     43\u001b[0m             \u001b[0;32mif\u001b[0m \u001b[0misinstance\u001b[0m\u001b[0;34m(\u001b[0m\u001b[0mdo\u001b[0m\u001b[0;34m,\u001b[0m \u001b[0mDoAttempt\u001b[0m\u001b[0;34m)\u001b[0m\u001b[0;34m:\u001b[0m\u001b[0;34m\u001b[0m\u001b[0;34m\u001b[0m\u001b[0m\n\u001b[1;32m     44\u001b[0m                 \u001b[0;32mtry\u001b[0m\u001b[0;34m:\u001b[0m\u001b[0;34m\u001b[0m\u001b[0;34m\u001b[0m\u001b[0m\n\u001b[0;32m---> 45\u001b[0;31m                     \u001b[0mresult\u001b[0m \u001b[0;34m=\u001b[0m \u001b[0;32mawait\u001b[0m \u001b[0mfn\u001b[0m\u001b[0;34m(\u001b[0m\u001b[0;34m*\u001b[0m\u001b[0margs\u001b[0m\u001b[0;34m,\u001b[0m \u001b[0;34m**\u001b[0m\u001b[0mkwargs\u001b[0m\u001b[0;34m)\u001b[0m\u001b[0;34m\u001b[0m\u001b[0;34m\u001b[0m\u001b[0m\n\u001b[0m\u001b[1;32m     46\u001b[0m                 \u001b[0;32mexcept\u001b[0m \u001b[0mBaseException\u001b[0m\u001b[0;34m:\u001b[0m\u001b[0;34m\u001b[0m\u001b[0;34m\u001b[0m\u001b[0m\n\u001b[1;32m     47\u001b[0m                     \u001b[0mretry_state\u001b[0m\u001b[0;34m.\u001b[0m\u001b[0mset_exception\u001b[0m\u001b[0;34m(\u001b[0m\u001b[0msys\u001b[0m\u001b[0;34m.\u001b[0m\u001b[0mexc_info\u001b[0m\u001b[0;34m(\u001b[0m\u001b[0;34m)\u001b[0m\u001b[0;34m)\u001b[0m\u001b[0;34m\u001b[0m\u001b[0;34m\u001b[0m\u001b[0m\n",
      "\u001b[0;32m~/opt/anaconda3/envs/dsi/lib/python3.7/site-packages/autocensus/api.py\u001b[0m in \u001b[0;36mfetch_table\u001b[0;34m(self, estimate, year, table_name, variables, for_geo, in_geo)\u001b[0m\n\u001b[1;32m    136\u001b[0m             \u001b[0;32mif\u001b[0m \u001b[0mresponse\u001b[0m\u001b[0;34m.\u001b[0m\u001b[0mstatus\u001b[0m \u001b[0;34m!=\u001b[0m \u001b[0;36m200\u001b[0m\u001b[0;34m:\u001b[0m\u001b[0;34m\u001b[0m\u001b[0;34m\u001b[0m\u001b[0m\n\u001b[1;32m    137\u001b[0m                 \u001b[0mtext\u001b[0m\u001b[0;34m:\u001b[0m \u001b[0mstr\u001b[0m \u001b[0;34m=\u001b[0m \u001b[0;32mawait\u001b[0m \u001b[0mresponse\u001b[0m\u001b[0;34m.\u001b[0m\u001b[0mtext\u001b[0m\u001b[0;34m(\u001b[0m\u001b[0;34m)\u001b[0m\u001b[0;34m\u001b[0m\u001b[0;34m\u001b[0m\u001b[0m\n\u001b[0;32m--> 138\u001b[0;31m                 \u001b[0;32mraise\u001b[0m \u001b[0mCensusAPIUnknownError\u001b[0m\u001b[0;34m(\u001b[0m\u001b[0;34mf'Non-200 response from: {response.url}\\n{text}'\u001b[0m\u001b[0;34m)\u001b[0m\u001b[0;34m\u001b[0m\u001b[0;34m\u001b[0m\u001b[0m\n\u001b[0m\u001b[1;32m    139\u001b[0m             \u001b[0mresponse_json\u001b[0m\u001b[0;34m:\u001b[0m \u001b[0mTable\u001b[0m \u001b[0;34m=\u001b[0m \u001b[0;32mawait\u001b[0m \u001b[0mresponse\u001b[0m\u001b[0;34m.\u001b[0m\u001b[0mjson\u001b[0m\u001b[0;34m(\u001b[0m\u001b[0;34m)\u001b[0m\u001b[0;34m\u001b[0m\u001b[0;34m\u001b[0m\u001b[0m\n\u001b[1;32m    140\u001b[0m             \u001b[0;31m# Add geo_type\u001b[0m\u001b[0;34m\u001b[0m\u001b[0;34m\u001b[0m\u001b[0;34m\u001b[0m\u001b[0m\n",
      "\u001b[0;31mCensusAPIUnknownError\u001b[0m: Non-200 response from: https://api.census.gov/data/2013/acs/acs5?get=NAME,GEO_ID,B00001_001E&for=zip+code+tabulation+area:*&in=state:36&key=9991b4ab66903673ef2f2f5dae3ec63d2ab4f4f2\nerror: unknown/unsupported geography heirarchy"
     ]
    }
   ],
   "source": [
    "query = Query(\n",
    "    estimate=5,\n",
    "    years=[2013],\n",
    "    variables=['B00001_001E'],\n",
    "    for_geo='tract:*',\n",
    "    in_geo=['state:36', 'county:061'],\n",
    "    # Fill in the following with your actual Census API key\n",
    "    census_api_key='9991b4ab66903673ef2f2f5dae3ec63d2ab4f4f2'\n",
    ")\n",
    "dataframe = query.run()\n",
    "dataframe.head()"
   ]
  },
  {
   "cell_type": "code",
   "execution_count": 144,
   "metadata": {
    "scrolled": true
   },
   "outputs": [
    {
     "data": {
      "text/plain": [
       "0      POINT (-74.04266 40.69441)\n",
       "1      POINT (-73.97342 40.71203)\n",
       "2      POINT (-73.97391 40.71625)\n",
       "3      POINT (-73.97119 40.75824)\n",
       "4      POINT (-73.99154 40.74973)\n",
       "                  ...            \n",
       "283    POINT (-73.99336 40.74724)\n",
       "284    POINT (-73.98088 40.75638)\n",
       "285    POINT (-73.99904 40.74966)\n",
       "286    POINT (-73.96778 40.75579)\n",
       "287    POINT (-74.00816 40.75238)\n",
       "Name: centroid, Length: 288, dtype: geometry"
      ]
     },
     "execution_count": 144,
     "metadata": {},
     "output_type": "execute_result"
    }
   ],
   "source": [
    "dataframe.centroid"
   ]
  },
  {
   "cell_type": "code",
   "execution_count": null,
   "metadata": {},
   "outputs": [],
   "source": []
  },
  {
   "cell_type": "code",
   "execution_count": null,
   "metadata": {},
   "outputs": [],
   "source": []
  },
  {
   "cell_type": "code",
   "execution_count": null,
   "metadata": {},
   "outputs": [],
   "source": []
  },
  {
   "cell_type": "code",
   "execution_count": null,
   "metadata": {},
   "outputs": [],
   "source": []
  },
  {
   "cell_type": "code",
   "execution_count": 92,
   "metadata": {},
   "outputs": [],
   "source": [
    "import censusdata"
   ]
  },
  {
   "cell_type": "code",
   "execution_count": 109,
   "metadata": {},
   "outputs": [],
   "source": [
    "import uszipcode"
   ]
  },
  {
   "cell_type": "code",
   "execution_count": 112,
   "metadata": {
    "scrolled": true
   },
   "outputs": [
    {
     "data": {
      "text/plain": [
       "Zipcode(zipcode_type=None, major_city=None, post_office_city=None, common_city_list=None, county=None, state=None, lat=None, lng=None, timezone=None, radius_in_miles=None, area_code_list=None, population=None, population_density=None, land_area_in_sqmi=None, water_area_in_sqmi=None, housing_units=None, occupied_housing_units=None, median_home_value=None, median_household_income=None, bounds_west=None, bounds_east=None, bounds_north=None, bounds_south=None, zipcode=None, polygon=None, population_by_year=2015, population_by_age=None, population_by_gender=None, population_by_race=None, head_of_household_by_age=None, families_vs_singles=None, households_with_kids=None, children_by_age=None, housing_type=None, year_housing_was_built=None, housing_occupancy=None, vancancy_reason=None, owner_occupied_home_values=None, rental_properties_by_number_of_rooms=None, monthly_rent_including_utilities_studio_apt=None, monthly_rent_including_utilities_1_b=None, monthly_rent_including_utilities_2_b=None, monthly_rent_including_utilities_3plus_b=None, employment_status=None, average_household_income_over_time=None, household_income=None, annual_individual_earnings=None, sources_of_household_income____percent_of_households_receiving_income=None, sources_of_household_income____average_income_per_household_by_income_source=None, household_investment_income____percent_of_households_receiving_investment_income=None, household_investment_income____average_income_per_household_by_income_source=None, household_retirement_income____percent_of_households_receiving_retirement_incom=None, household_retirement_income____average_income_per_household_by_income_source=None, source_of_earnings=None, means_of_transportation_to_work_for_workers_16_and_over=None, travel_time_to_work_in_minutes=None, educational_attainment_for_population_25_and_over=None, school_enrollment_age_3_to_17=None)"
      ]
     },
     "execution_count": 112,
     "metadata": {},
     "output_type": "execute_result"
    }
   ],
   "source": [
    "uszipcode.model.Zipcode(population_by_year = 2015)"
   ]
  },
  {
   "cell_type": "code",
   "execution_count": null,
   "metadata": {},
   "outputs": [],
   "source": [
    "from uszipcode import Zipcode\n",
    "# Search zipcode within 30 miles, ordered from closest to farthest\n",
    ">>> result = search."
   ]
  },
  {
   "cell_type": "code",
   "execution_count": 122,
   "metadata": {},
   "outputs": [],
   "source": [
    "search = uszipcode.SearchEngine(simple_zipcode=True)\n",
    "zipcode = search.by_zipcode('10010')"
   ]
  },
  {
   "cell_type": "code",
   "execution_count": 161,
   "metadata": {},
   "outputs": [
    {
     "data": {
      "text/plain": [
       "SimpleZipcode(zipcode='10010', zipcode_type='Standard', major_city='New York', post_office_city='New York, NY', common_city_list=['New York'], county='New York County', state='NY', lat=40.73, lng=-73.98, timezone='Eastern', radius_in_miles=1.0, area_code_list=['212', '646', '917', '718'], population=31834, population_density=81487.0, land_area_in_sqmi=0.39, water_area_in_sqmi=0.0, housing_units=18030, occupied_housing_units=16556, median_home_value=746200, median_household_income=97955, bounds_west=-73.994028, bounds_east=-73.971566, bounds_north=40.745421, bounds_south=40.73231)"
      ]
     },
     "execution_count": 161,
     "metadata": {},
     "output_type": "execute_result"
    }
   ],
   "source": [
    "zipcode"
   ]
  },
  {
   "cell_type": "code",
   "execution_count": 123,
   "metadata": {},
   "outputs": [
    {
     "data": {
      "text/plain": [
       "-73.971566"
      ]
     },
     "execution_count": 123,
     "metadata": {},
     "output_type": "execute_result"
    }
   ],
   "source": [
    "zipcode.bounds_east"
   ]
  },
  {
   "cell_type": "code",
   "execution_count": 93,
   "metadata": {
    "scrolled": true
   },
   "outputs": [
    {
     "data": {
      "text/plain": [
       "{'B00001_001E': ['UNWEIGHTED SAMPLE COUNT OF THE POPULATION',\n",
       "  'Estimate!!Total',\n",
       "  '']}"
      ]
     },
     "execution_count": 93,
     "metadata": {},
     "output_type": "execute_result"
    }
   ],
   "source": [
    "censusdata.variable_info.censusvar(src='acs5',year = 2018, var=['B00001_001E'])"
   ]
  },
  {
   "cell_type": "code",
   "execution_count": 157,
   "metadata": {},
   "outputs": [],
   "source": [
    "manhattan = censusdata.censusgeo(geo = (('state', '36'),('county', '061')))"
   ]
  },
  {
   "cell_type": "code",
   "execution_count": 147,
   "metadata": {},
   "outputs": [
    {
     "data": {
      "text/plain": [
       "{'New York County, New York': censusgeo((('state', '36'), ('county', '061')))}"
      ]
     },
     "execution_count": 147,
     "metadata": {},
     "output_type": "execute_result"
    }
   ],
   "source": [
    "censusdata.geographies(censusdata.censusgeo(geo = (('state', '36'),('county', '061'))),src='acs5',year = 2018)"
   ]
  },
  {
   "cell_type": "code",
   "execution_count": 158,
   "metadata": {},
   "outputs": [],
   "source": [
    "download = censusdata.download(src = 'acs5', \n",
    "                               year = 2018, \n",
    "                               geo = manhattan, \n",
    "                               var = ['B00001_001E'], \n",
    "                               key = '9991b4ab66903673ef2f2f5dae3ec63d2ab4f4f2')"
   ]
  },
  {
   "cell_type": "code",
   "execution_count": 159,
   "metadata": {
    "scrolled": true
   },
   "outputs": [
    {
     "data": {
      "text/html": [
       "<div>\n",
       "<style scoped>\n",
       "    .dataframe tbody tr th:only-of-type {\n",
       "        vertical-align: middle;\n",
       "    }\n",
       "\n",
       "    .dataframe tbody tr th {\n",
       "        vertical-align: top;\n",
       "    }\n",
       "\n",
       "    .dataframe thead th {\n",
       "        text-align: right;\n",
       "    }\n",
       "</style>\n",
       "<table border=\"1\" class=\"dataframe\">\n",
       "  <thead>\n",
       "    <tr style=\"text-align: right;\">\n",
       "      <th></th>\n",
       "      <th>B00001_001E</th>\n",
       "    </tr>\n",
       "  </thead>\n",
       "  <tbody>\n",
       "    <tr>\n",
       "      <th>New York County, New York: Summary level: 050, state:36&gt; county:061</th>\n",
       "      <td>79000</td>\n",
       "    </tr>\n",
       "  </tbody>\n",
       "</table>\n",
       "</div>"
      ],
      "text/plain": [
       "                                                    B00001_001E\n",
       "New York County, New York: Summary level: 050, ...        79000"
      ]
     },
     "execution_count": 159,
     "metadata": {},
     "output_type": "execute_result"
    }
   ],
   "source": [
    "download.head()"
   ]
  },
  {
   "cell_type": "code",
   "execution_count": null,
   "metadata": {},
   "outputs": [],
   "source": []
  },
  {
   "cell_type": "code",
   "execution_count": 185,
   "metadata": {},
   "outputs": [],
   "source": [
    "import pandas as pd\n",
    "#make API calls with python\n",
    "import requests\n",
    "#allows us to store results of API call cleanly\n",
    "import json\n",
    "#get list of all zipcodes in Los Angeles County separated by commas\n",
    "#put your census API key here\n",
    "#construct the API call we will use\n",
    "\n",
    "api_key = '9991b4ab66903673ef2f2f5dae3ec63d2ab4f4f2'\n",
    "acs_table = 'B01003_001E'\n",
    "year = 2011\n",
    "zipcode = 10010\n",
    "\n",
    "baseAPI = f\"https://api.census.gov/data/{year}/acs/acs5?key={api_key}&get={acs_table}&for=zip%20code%20tabulation%20area:{zipcode}\"\n",
    "response = requests.get(baseAPI)\n",
    "\n",
    "formattedResponse = json.loads(response.text)[1:]\n",
    "\n",
    "formattedResponse = [item[::-1] for item in formattedResponse]\n",
    "#store the response in a dataframe\n",
    "zip_pop = pd.DataFrame(columns=['zipcode', 'population'], data=formattedResponse)"
   ]
  },
  {
   "cell_type": "code",
   "execution_count": 183,
   "metadata": {},
   "outputs": [
    {
     "data": {
      "text/html": [
       "<div>\n",
       "<style scoped>\n",
       "    .dataframe tbody tr th:only-of-type {\n",
       "        vertical-align: middle;\n",
       "    }\n",
       "\n",
       "    .dataframe tbody tr th {\n",
       "        vertical-align: top;\n",
       "    }\n",
       "\n",
       "    .dataframe thead th {\n",
       "        text-align: right;\n",
       "    }\n",
       "</style>\n",
       "<table border=\"1\" class=\"dataframe\">\n",
       "  <thead>\n",
       "    <tr style=\"text-align: right;\">\n",
       "      <th></th>\n",
       "      <th>zipcode</th>\n",
       "      <th>population</th>\n",
       "    </tr>\n",
       "  </thead>\n",
       "  <tbody>\n",
       "    <tr>\n",
       "      <th>0</th>\n",
       "      <td>10010</td>\n",
       "      <td>33119</td>\n",
       "    </tr>\n",
       "  </tbody>\n",
       "</table>\n",
       "</div>"
      ],
      "text/plain": [
       "  zipcode population\n",
       "0   10010      33119"
      ]
     },
     "execution_count": 183,
     "metadata": {},
     "output_type": "execute_result"
    }
   ],
   "source": [
    "zip_pop"
   ]
  },
  {
   "cell_type": "code",
   "execution_count": 188,
   "metadata": {},
   "outputs": [],
   "source": [
    "baseAPI = f\"https://api.census.gov/data/2010/dec/sf1?key={api_key}&get=H010001&for=zip%20code%20tabulation%20area:{zipcode}\"\n",
    "response = requests.get(baseAPI)\n",
    "\n",
    "formattedResponse = json.loads(response.text)[1:]\n",
    "\n",
    "formattedResponse = [item[::-1] for item in formattedResponse]\n",
    "#store the response in a dataframe\n",
    "zip_pop = pd.DataFrame(columns=['zipcode', 'population'], data=formattedResponse)"
   ]
  },
  {
   "cell_type": "code",
   "execution_count": 189,
   "metadata": {},
   "outputs": [
    {
     "data": {
      "text/html": [
       "<div>\n",
       "<style scoped>\n",
       "    .dataframe tbody tr th:only-of-type {\n",
       "        vertical-align: middle;\n",
       "    }\n",
       "\n",
       "    .dataframe tbody tr th {\n",
       "        vertical-align: top;\n",
       "    }\n",
       "\n",
       "    .dataframe thead th {\n",
       "        text-align: right;\n",
       "    }\n",
       "</style>\n",
       "<table border=\"1\" class=\"dataframe\">\n",
       "  <thead>\n",
       "    <tr style=\"text-align: right;\">\n",
       "      <th></th>\n",
       "      <th>zipcode</th>\n",
       "      <th>population</th>\n",
       "    </tr>\n",
       "  </thead>\n",
       "  <tbody>\n",
       "    <tr>\n",
       "      <th>0</th>\n",
       "      <td>10010</td>\n",
       "      <td>27896</td>\n",
       "    </tr>\n",
       "  </tbody>\n",
       "</table>\n",
       "</div>"
      ],
      "text/plain": [
       "  zipcode population\n",
       "0   10010      27896"
      ]
     },
     "execution_count": 189,
     "metadata": {},
     "output_type": "execute_result"
    }
   ],
   "source": [
    "zip_pop"
   ]
  },
  {
   "cell_type": "code",
   "execution_count": null,
   "metadata": {},
   "outputs": [],
   "source": []
  },
  {
   "cell_type": "markdown",
   "metadata": {},
   "source": [
    "## Data Preprocessing"
   ]
  },
  {
   "cell_type": "markdown",
   "metadata": {},
   "source": [
    "### rats.csv  "
   ]
  },
  {
   "cell_type": "code",
   "execution_count": 4,
   "metadata": {
    "scrolled": true
   },
   "outputs": [
    {
     "data": {
      "text/html": [
       "<div>\n",
       "<style scoped>\n",
       "    .dataframe tbody tr th:only-of-type {\n",
       "        vertical-align: middle;\n",
       "    }\n",
       "\n",
       "    .dataframe tbody tr th {\n",
       "        vertical-align: top;\n",
       "    }\n",
       "\n",
       "    .dataframe thead th {\n",
       "        text-align: right;\n",
       "    }\n",
       "</style>\n",
       "<table border=\"1\" class=\"dataframe\">\n",
       "  <thead>\n",
       "    <tr style=\"text-align: right;\">\n",
       "      <th></th>\n",
       "      <th>inspection_type</th>\n",
       "      <th>job_ticket_or_work_order_id</th>\n",
       "      <th>job_progress</th>\n",
       "      <th>bbl</th>\n",
       "      <th>boro_code</th>\n",
       "      <th>block</th>\n",
       "      <th>lot</th>\n",
       "      <th>house_number</th>\n",
       "      <th>street_name</th>\n",
       "      <th>zip_code</th>\n",
       "      <th>x_coord</th>\n",
       "      <th>y_coord</th>\n",
       "      <th>latitude</th>\n",
       "      <th>longitude</th>\n",
       "      <th>borough</th>\n",
       "      <th>inspection_date</th>\n",
       "      <th>result</th>\n",
       "      <th>approved_date</th>\n",
       "      <th>location</th>\n",
       "    </tr>\n",
       "    <tr>\n",
       "      <th>job_id</th>\n",
       "      <th></th>\n",
       "      <th></th>\n",
       "      <th></th>\n",
       "      <th></th>\n",
       "      <th></th>\n",
       "      <th></th>\n",
       "      <th></th>\n",
       "      <th></th>\n",
       "      <th></th>\n",
       "      <th></th>\n",
       "      <th></th>\n",
       "      <th></th>\n",
       "      <th></th>\n",
       "      <th></th>\n",
       "      <th></th>\n",
       "      <th></th>\n",
       "      <th></th>\n",
       "      <th></th>\n",
       "      <th></th>\n",
       "    </tr>\n",
       "  </thead>\n",
       "  <tbody>\n",
       "    <tr>\n",
       "      <th>PO2075886</th>\n",
       "      <td>INITIAL</td>\n",
       "      <td>2075886</td>\n",
       "      <td>1</td>\n",
       "      <td>1022430001</td>\n",
       "      <td>1</td>\n",
       "      <td>02243</td>\n",
       "      <td>0001</td>\n",
       "      <td>4977</td>\n",
       "      <td>BROADWAY</td>\n",
       "      <td>10034</td>\n",
       "      <td>1006543</td>\n",
       "      <td>255608</td>\n",
       "      <td>40.868203550611</td>\n",
       "      <td>-73.919469362846</td>\n",
       "      <td>Manhattan</td>\n",
       "      <td>2019-08-02T11:11:55.000</td>\n",
       "      <td>Active Rat Signs</td>\n",
       "      <td>2019-08-07T11:34:09.000</td>\n",
       "      <td>{'latitude': '40.868203550611', 'longitude': '...</td>\n",
       "    </tr>\n",
       "    <tr>\n",
       "      <th>PO333717</th>\n",
       "      <td>BAIT</td>\n",
       "      <td>70581</td>\n",
       "      <td>5</td>\n",
       "      <td>1009620100</td>\n",
       "      <td>1</td>\n",
       "      <td>00962</td>\n",
       "      <td>0100</td>\n",
       "      <td>462</td>\n",
       "      <td>1 AVENUE</td>\n",
       "      <td>10016</td>\n",
       "      <td>991147</td>\n",
       "      <td>208600</td>\n",
       "      <td>40.739489790595</td>\n",
       "      <td>-73.976623458224</td>\n",
       "      <td>Manhattan</td>\n",
       "      <td>2011-10-26T09:45:58.000</td>\n",
       "      <td>Bait applied</td>\n",
       "      <td>2011-10-28T07:14:07.000</td>\n",
       "      <td>{'latitude': '40.739489790595', 'longitude': '...</td>\n",
       "    </tr>\n",
       "    <tr>\n",
       "      <th>PO431003</th>\n",
       "      <td>BAIT</td>\n",
       "      <td>92841</td>\n",
       "      <td>1</td>\n",
       "      <td>1022290001</td>\n",
       "      <td>1</td>\n",
       "      <td>02229</td>\n",
       "      <td>0001</td>\n",
       "      <td>4986</td>\n",
       "      <td>BROADWAY</td>\n",
       "      <td>10034</td>\n",
       "      <td>1006611</td>\n",
       "      <td>255630</td>\n",
       "      <td>40.868266491555</td>\n",
       "      <td>-73.919201730342</td>\n",
       "      <td>Manhattan</td>\n",
       "      <td>2012-03-19T14:00:03.000</td>\n",
       "      <td>Bait applied</td>\n",
       "      <td>2012-03-20T07:20:09.000</td>\n",
       "      <td>{'latitude': '40.868266491555', 'longitude': '...</td>\n",
       "    </tr>\n",
       "    <tr>\n",
       "      <th>PO333717</th>\n",
       "      <td>BAIT</td>\n",
       "      <td>69386</td>\n",
       "      <td>4</td>\n",
       "      <td>1009620100</td>\n",
       "      <td>1</td>\n",
       "      <td>00962</td>\n",
       "      <td>0100</td>\n",
       "      <td>462</td>\n",
       "      <td>1 AVENUE</td>\n",
       "      <td>10016</td>\n",
       "      <td>991147</td>\n",
       "      <td>208600</td>\n",
       "      <td>40.739489790595</td>\n",
       "      <td>-73.976623458224</td>\n",
       "      <td>Manhattan</td>\n",
       "      <td>2011-10-17T13:50:37.000</td>\n",
       "      <td>Bait applied</td>\n",
       "      <td>2011-10-18T07:09:09.000</td>\n",
       "      <td>{'latitude': '40.739489790595', 'longitude': '...</td>\n",
       "    </tr>\n",
       "    <tr>\n",
       "      <th>PO422674</th>\n",
       "      <td>BAIT</td>\n",
       "      <td>91531</td>\n",
       "      <td>1</td>\n",
       "      <td>1022290001</td>\n",
       "      <td>1</td>\n",
       "      <td>02229</td>\n",
       "      <td>0001</td>\n",
       "      <td>4986</td>\n",
       "      <td>BROADWAY</td>\n",
       "      <td>10034</td>\n",
       "      <td>1006611</td>\n",
       "      <td>255630</td>\n",
       "      <td>40.868266491555</td>\n",
       "      <td>-73.919201730342</td>\n",
       "      <td>Manhattan</td>\n",
       "      <td>2012-03-08T13:51:50.000</td>\n",
       "      <td>Bait applied</td>\n",
       "      <td>2012-03-09T12:23:58.000</td>\n",
       "      <td>{'latitude': '40.868266491555', 'longitude': '...</td>\n",
       "    </tr>\n",
       "  </tbody>\n",
       "</table>\n",
       "</div>"
      ],
      "text/plain": [
       "          inspection_type job_ticket_or_work_order_id job_progress  \\\n",
       "job_id                                                               \n",
       "PO2075886         INITIAL                     2075886            1   \n",
       "PO333717             BAIT                       70581            5   \n",
       "PO431003             BAIT                       92841            1   \n",
       "PO333717             BAIT                       69386            4   \n",
       "PO422674             BAIT                       91531            1   \n",
       "\n",
       "                  bbl boro_code  block   lot house_number street_name  \\\n",
       "job_id                                                                  \n",
       "PO2075886  1022430001         1  02243  0001         4977    BROADWAY   \n",
       "PO333717   1009620100         1  00962  0100          462    1 AVENUE   \n",
       "PO431003   1022290001         1  02229  0001         4986    BROADWAY   \n",
       "PO333717   1009620100         1  00962  0100          462    1 AVENUE   \n",
       "PO422674   1022290001         1  02229  0001         4986    BROADWAY   \n",
       "\n",
       "          zip_code  x_coord y_coord         latitude         longitude  \\\n",
       "job_id                                                                   \n",
       "PO2075886    10034  1006543  255608  40.868203550611  -73.919469362846   \n",
       "PO333717     10016   991147  208600  40.739489790595  -73.976623458224   \n",
       "PO431003     10034  1006611  255630  40.868266491555  -73.919201730342   \n",
       "PO333717     10016   991147  208600  40.739489790595  -73.976623458224   \n",
       "PO422674     10034  1006611  255630  40.868266491555  -73.919201730342   \n",
       "\n",
       "             borough          inspection_date            result  \\\n",
       "job_id                                                            \n",
       "PO2075886  Manhattan  2019-08-02T11:11:55.000  Active Rat Signs   \n",
       "PO333717   Manhattan  2011-10-26T09:45:58.000      Bait applied   \n",
       "PO431003   Manhattan  2012-03-19T14:00:03.000      Bait applied   \n",
       "PO333717   Manhattan  2011-10-17T13:50:37.000      Bait applied   \n",
       "PO422674   Manhattan  2012-03-08T13:51:50.000      Bait applied   \n",
       "\n",
       "                     approved_date  \\\n",
       "job_id                               \n",
       "PO2075886  2019-08-07T11:34:09.000   \n",
       "PO333717   2011-10-28T07:14:07.000   \n",
       "PO431003   2012-03-20T07:20:09.000   \n",
       "PO333717   2011-10-18T07:09:09.000   \n",
       "PO422674   2012-03-09T12:23:58.000   \n",
       "\n",
       "                                                    location  \n",
       "job_id                                                        \n",
       "PO2075886  {'latitude': '40.868203550611', 'longitude': '...  \n",
       "PO333717   {'latitude': '40.739489790595', 'longitude': '...  \n",
       "PO431003   {'latitude': '40.868266491555', 'longitude': '...  \n",
       "PO333717   {'latitude': '40.739489790595', 'longitude': '...  \n",
       "PO422674   {'latitude': '40.868266491555', 'longitude': '...  "
      ]
     },
     "execution_count": 4,
     "metadata": {},
     "output_type": "execute_result"
    }
   ],
   "source": [
    "# Setting the index to 'job_id':\n",
    "rats.set_index('job_id',inplace = True)\n",
    "rats.head()"
   ]
  },
  {
   "cell_type": "code",
   "execution_count": 5,
   "metadata": {
    "scrolled": true
   },
   "outputs": [
    {
     "data": {
      "text/plain": [
       "(594536, 19)"
      ]
     },
     "execution_count": 5,
     "metadata": {},
     "output_type": "execute_result"
    }
   ],
   "source": [
    "# Check the shape of data frame:\n",
    "rats.shape"
   ]
  },
  {
   "cell_type": "markdown",
   "metadata": {},
   "source": [
    "After taking a first look at our dataset, we have a general idea of features of dataset. We are going to only keep the features we need."
   ]
  },
  {
   "cell_type": "code",
   "execution_count": 83,
   "metadata": {
    "scrolled": false
   },
   "outputs": [
    {
     "ename": "NameError",
     "evalue": "name 'rats' is not defined",
     "output_type": "error",
     "traceback": [
      "\u001b[0;31m---------------------------------------------------------------------------\u001b[0m",
      "\u001b[0;31mNameError\u001b[0m                                 Traceback (most recent call last)",
      "\u001b[0;32m<ipython-input-83-3a2efd11c8d1>\u001b[0m in \u001b[0;36m<module>\u001b[0;34m\u001b[0m\n\u001b[0;32m----> 1\u001b[0;31m rats_df = rats[['inspection_type',\n\u001b[0m\u001b[1;32m      2\u001b[0m                 \u001b[0;34m'job_progress'\u001b[0m\u001b[0;34m,\u001b[0m \u001b[0;34m'bbl'\u001b[0m\u001b[0;34m,\u001b[0m\u001b[0;34m'latitude'\u001b[0m\u001b[0;34m,\u001b[0m\u001b[0;34m\u001b[0m\u001b[0;34m\u001b[0m\u001b[0m\n\u001b[1;32m      3\u001b[0m                 'longitude','inspection_date', 'result']]\n\u001b[1;32m      4\u001b[0m \u001b[0mrats_df\u001b[0m\u001b[0;34m.\u001b[0m\u001b[0mhead\u001b[0m\u001b[0;34m(\u001b[0m\u001b[0;34m)\u001b[0m\u001b[0;34m\u001b[0m\u001b[0;34m\u001b[0m\u001b[0m\n",
      "\u001b[0;31mNameError\u001b[0m: name 'rats' is not defined"
     ]
    }
   ],
   "source": [
    "rats_df = rats[['inspection_type',\n",
    "                'job_progress', 'bbl','latitude',\n",
    "                'longitude','inspection_date', 'result']]\n",
    "rats_df.head()"
   ]
  },
  {
   "cell_type": "code",
   "execution_count": 7,
   "metadata": {},
   "outputs": [
    {
     "data": {
      "text/plain": [
       "inspection_type    0.000000\n",
       "job_progress       0.000000\n",
       "bbl                0.000000\n",
       "latitude           0.000891\n",
       "longitude          0.000891\n",
       "inspection_date    0.000000\n",
       "result             0.000002\n",
       "approved_date      0.000000\n",
       "dtype: float64"
      ]
     },
     "execution_count": 7,
     "metadata": {},
     "output_type": "execute_result"
    }
   ],
   "source": [
    "rats_df.isnull().mean()"
   ]
  },
  {
   "cell_type": "markdown",
   "metadata": {},
   "source": [
    "Since the missing values have very small percentage of total dataset, we can drop all the rows with missing values and still have a relatively large dataset."
   ]
  },
  {
   "cell_type": "code",
   "execution_count": 8,
   "metadata": {},
   "outputs": [
    {
     "data": {
      "text/plain": [
       "(594005, 8)"
      ]
     },
     "execution_count": 8,
     "metadata": {},
     "output_type": "execute_result"
    }
   ],
   "source": [
    "rats_df.dropna(inplace = True)\n",
    "rats_df.shape"
   ]
  },
  {
   "cell_type": "code",
   "execution_count": 9,
   "metadata": {
    "scrolled": true
   },
   "outputs": [
    {
     "data": {
      "text/plain": [
       "0"
      ]
     },
     "execution_count": 9,
     "metadata": {},
     "output_type": "execute_result"
    }
   ],
   "source": [
    "rats_df.isnull().sum().sum()"
   ]
  },
  {
   "cell_type": "markdown",
   "metadata": {},
   "source": [
    "We are going to check and change the original data types:"
   ]
  },
  {
   "cell_type": "code",
   "execution_count": 10,
   "metadata": {
    "scrolled": false
   },
   "outputs": [
    {
     "data": {
      "text/plain": [
       "inspection_type    object\n",
       "job_progress       object\n",
       "bbl                object\n",
       "latitude           object\n",
       "longitude          object\n",
       "inspection_date    object\n",
       "result             object\n",
       "approved_date      object\n",
       "dtype: object"
      ]
     },
     "execution_count": 10,
     "metadata": {},
     "output_type": "execute_result"
    }
   ],
   "source": [
    "# Checking the original data types:\n",
    "rats_df.dtypes"
   ]
  },
  {
   "cell_type": "code",
   "execution_count": 11,
   "metadata": {},
   "outputs": [],
   "source": [
    "# Changing date columns into datetime form: \n",
    "rats_df['inspection_date'] = pd.to_datetime(rats_df['inspection_date'])"
   ]
  },
  {
   "cell_type": "code",
   "execution_count": 12,
   "metadata": {},
   "outputs": [],
   "source": [
    "# Changing those columns which seem like numerical but actually strings:\n",
    "rats_df['job_progress']=rats_df['job_progress'].astype(int)\n",
    "rats_df['bbl']=rats_df['bbl'].astype(int)\n",
    "rats_df['latitude']=rats_df['latitude'].astype(float)\n",
    "rats_df['longitude']=rats_df['longitude'].astype(float)"
   ]
  },
  {
   "cell_type": "code",
   "execution_count": 13,
   "metadata": {},
   "outputs": [
    {
     "data": {
      "text/plain": [
       "inspection_type            object\n",
       "job_progress                int64\n",
       "bbl                         int64\n",
       "latitude                  float64\n",
       "longitude                 float64\n",
       "inspection_date    datetime64[ns]\n",
       "result                     object\n",
       "approved_date      datetime64[ns]\n",
       "dtype: object"
      ]
     },
     "execution_count": 13,
     "metadata": {},
     "output_type": "execute_result"
    }
   ],
   "source": [
    "# Checking data types again:\n",
    "rats_df.dtypes"
   ]
  },
  {
   "cell_type": "markdown",
   "metadata": {},
   "source": [
    "We are setting out dataset in chronological order because the time range of our data set is than 100 years."
   ]
  },
  {
   "cell_type": "code",
   "execution_count": 14,
   "metadata": {
    "scrolled": false
   },
   "outputs": [
    {
     "data": {
      "text/plain": [
       "{'BAIT', 'CLEAN_UPS', 'COMPLIANCE', 'INITIAL'}"
      ]
     },
     "execution_count": 14,
     "metadata": {},
     "output_type": "execute_result"
    }
   ],
   "source": [
    "set(rats_df['inspection_type'])"
   ]
  },
  {
   "cell_type": "code",
   "execution_count": 15,
   "metadata": {},
   "outputs": [
    {
     "data": {
      "text/plain": [
       "{'Active Rat Signs',\n",
       " 'Bait applied',\n",
       " 'Cleanup done',\n",
       " 'Monitoring visit',\n",
       " 'Passed Inspection',\n",
       " 'Problem Conditions'}"
      ]
     },
     "execution_count": 15,
     "metadata": {},
     "output_type": "execute_result"
    }
   ],
   "source": [
    "set(rats_df['result'])"
   ]
  },
  {
   "cell_type": "code",
   "execution_count": 16,
   "metadata": {},
   "outputs": [
    {
     "data": {
      "text/html": [
       "<div>\n",
       "<style scoped>\n",
       "    .dataframe tbody tr th:only-of-type {\n",
       "        vertical-align: middle;\n",
       "    }\n",
       "\n",
       "    .dataframe tbody tr th {\n",
       "        vertical-align: top;\n",
       "    }\n",
       "\n",
       "    .dataframe thead th {\n",
       "        text-align: right;\n",
       "    }\n",
       "</style>\n",
       "<table border=\"1\" class=\"dataframe\">\n",
       "  <thead>\n",
       "    <tr style=\"text-align: right;\">\n",
       "      <th></th>\n",
       "      <th>inspection_type</th>\n",
       "      <th>job_progress</th>\n",
       "      <th>bbl</th>\n",
       "      <th>latitude</th>\n",
       "      <th>longitude</th>\n",
       "      <th>inspection_date</th>\n",
       "      <th>result</th>\n",
       "      <th>approved_date</th>\n",
       "    </tr>\n",
       "    <tr>\n",
       "      <th>job_id</th>\n",
       "      <th></th>\n",
       "      <th></th>\n",
       "      <th></th>\n",
       "      <th></th>\n",
       "      <th></th>\n",
       "      <th></th>\n",
       "      <th></th>\n",
       "      <th></th>\n",
       "    </tr>\n",
       "  </thead>\n",
       "  <tbody>\n",
       "    <tr>\n",
       "      <th>PO2167036</th>\n",
       "      <td>COMPLIANCE</td>\n",
       "      <td>2</td>\n",
       "      <td>1016390133</td>\n",
       "      <td>40.795054</td>\n",
       "      <td>-73.943041</td>\n",
       "      <td>2020-01-08 13:20:54</td>\n",
       "      <td>Active Rat Signs</td>\n",
       "      <td>2020-01-09 08:16:29</td>\n",
       "    </tr>\n",
       "    <tr>\n",
       "      <th>PO2167008</th>\n",
       "      <td>COMPLIANCE</td>\n",
       "      <td>2</td>\n",
       "      <td>1016390021</td>\n",
       "      <td>40.795249</td>\n",
       "      <td>-73.943500</td>\n",
       "      <td>2020-01-08 13:10:44</td>\n",
       "      <td>Active Rat Signs</td>\n",
       "      <td>2020-01-09 08:16:29</td>\n",
       "    </tr>\n",
       "    <tr>\n",
       "      <th>PO2189724</th>\n",
       "      <td>INITIAL</td>\n",
       "      <td>1</td>\n",
       "      <td>1004160001</td>\n",
       "      <td>40.720992</td>\n",
       "      <td>-73.990498</td>\n",
       "      <td>2020-01-08 13:10:40</td>\n",
       "      <td>Passed Inspection</td>\n",
       "      <td>2020-01-09 09:39:57</td>\n",
       "    </tr>\n",
       "    <tr>\n",
       "      <th>PO2125410</th>\n",
       "      <td>COMPLIANCE</td>\n",
       "      <td>2</td>\n",
       "      <td>1010100046</td>\n",
       "      <td>40.765455</td>\n",
       "      <td>-73.977827</td>\n",
       "      <td>2020-01-08 13:05:13</td>\n",
       "      <td>Passed Inspection</td>\n",
       "      <td>2020-01-09 08:54:36</td>\n",
       "    </tr>\n",
       "    <tr>\n",
       "      <th>PO2167016</th>\n",
       "      <td>COMPLIANCE</td>\n",
       "      <td>2</td>\n",
       "      <td>1016390035</td>\n",
       "      <td>40.794941</td>\n",
       "      <td>-73.942221</td>\n",
       "      <td>2020-01-08 13:00:09</td>\n",
       "      <td>Passed Inspection</td>\n",
       "      <td>2020-01-09 08:16:29</td>\n",
       "    </tr>\n",
       "  </tbody>\n",
       "</table>\n",
       "</div>"
      ],
      "text/plain": [
       "          inspection_type  job_progress         bbl   latitude  longitude  \\\n",
       "job_id                                                                      \n",
       "PO2167036      COMPLIANCE             2  1016390133  40.795054 -73.943041   \n",
       "PO2167008      COMPLIANCE             2  1016390021  40.795249 -73.943500   \n",
       "PO2189724         INITIAL             1  1004160001  40.720992 -73.990498   \n",
       "PO2125410      COMPLIANCE             2  1010100046  40.765455 -73.977827   \n",
       "PO2167016      COMPLIANCE             2  1016390035  40.794941 -73.942221   \n",
       "\n",
       "              inspection_date             result       approved_date  \n",
       "job_id                                                                \n",
       "PO2167036 2020-01-08 13:20:54   Active Rat Signs 2020-01-09 08:16:29  \n",
       "PO2167008 2020-01-08 13:10:44   Active Rat Signs 2020-01-09 08:16:29  \n",
       "PO2189724 2020-01-08 13:10:40  Passed Inspection 2020-01-09 09:39:57  \n",
       "PO2125410 2020-01-08 13:05:13  Passed Inspection 2020-01-09 08:54:36  \n",
       "PO2167016 2020-01-08 13:00:09  Passed Inspection 2020-01-09 08:16:29  "
      ]
     },
     "execution_count": 16,
     "metadata": {},
     "output_type": "execute_result"
    }
   ],
   "source": [
    "rats_df = rats_df.sort_values(by = 'inspection_date', ascending = False)\n",
    "rats_df.head()"
   ]
  },
  {
   "cell_type": "markdown",
   "metadata": {},
   "source": [
    "Let's only see the last 10 years data which are still the majority of data:"
   ]
  },
  {
   "cell_type": "code",
   "execution_count": 17,
   "metadata": {
    "scrolled": true
   },
   "outputs": [
    {
     "data": {
      "text/plain": [
       "(591855, 8)"
      ]
     },
     "execution_count": 17,
     "metadata": {},
     "output_type": "execute_result"
    }
   ],
   "source": [
    "rats_df = rats_df.loc[rats_df['inspection_date'] > '2010-01-01']\n",
    "rats_df.shape"
   ]
  },
  {
   "cell_type": "code",
   "execution_count": 27,
   "metadata": {},
   "outputs": [],
   "source": [
    "rats_df = rats_df.drop(rats_df.loc[rats_df['latitude'] == 0.0].index)\n",
    "rats_df = rats_df.drop(rats_df.loc[rats_df['longitude'] == 0.0].index)"
   ]
  },
  {
   "cell_type": "code",
   "execution_count": 29,
   "metadata": {
    "scrolled": true
   },
   "outputs": [
    {
     "data": {
      "text/plain": [
       "count    589467.000000\n",
       "mean        -73.967300\n",
       "std           0.023675\n",
       "min         -74.018276\n",
       "25%         -73.987864\n",
       "50%         -73.966999\n",
       "75%         -73.946232\n",
       "max         -73.906864\n",
       "Name: longitude, dtype: float64"
      ]
     },
     "execution_count": 29,
     "metadata": {},
     "output_type": "execute_result"
    }
   ],
   "source": [
    "rats_df['longitude'].describe()"
   ]
  },
  {
   "cell_type": "code",
   "execution_count": 30,
   "metadata": {},
   "outputs": [
    {
     "data": {
      "text/plain": [
       "count    589467.000000\n",
       "mean         40.776468\n",
       "std           0.042192\n",
       "min          40.700774\n",
       "25%          40.734885\n",
       "50%          40.778963\n",
       "75%          40.806505\n",
       "max          40.878086\n",
       "Name: latitude, dtype: float64"
      ]
     },
     "execution_count": 30,
     "metadata": {},
     "output_type": "execute_result"
    }
   ],
   "source": [
    "rats_df['latitude'].describe()"
   ]
  },
  {
   "cell_type": "markdown",
   "metadata": {},
   "source": [
    "#### Export the cleaned data:"
   ]
  },
  {
   "cell_type": "code",
   "execution_count": 31,
   "metadata": {},
   "outputs": [],
   "source": [
    "rats_df.to_csv('../datasets/rats.csv', index=False)"
   ]
  },
  {
   "cell_type": "code",
   "execution_count": 32,
   "metadata": {},
   "outputs": [
    {
     "data": {
      "text/plain": [
       "1003020001    428\n",
       "1001650001    408\n",
       "1004200001    348\n",
       "1001220001    327\n",
       "1003890036    313\n",
       "1015240046    223\n",
       "1020820047    216\n",
       "1003760007    214\n",
       "1003740041    210\n",
       "1001690001    197\n",
       "Name: bbl, dtype: int64"
      ]
     },
     "execution_count": 32,
     "metadata": {},
     "output_type": "execute_result"
    }
   ],
   "source": [
    "rats_df['bbl'].value_counts().head(10)"
   ]
  },
  {
   "cell_type": "code",
   "execution_count": 33,
   "metadata": {},
   "outputs": [
    {
     "data": {
      "text/html": [
       "<div>\n",
       "<style scoped>\n",
       "    .dataframe tbody tr th:only-of-type {\n",
       "        vertical-align: middle;\n",
       "    }\n",
       "\n",
       "    .dataframe tbody tr th {\n",
       "        vertical-align: top;\n",
       "    }\n",
       "\n",
       "    .dataframe thead th {\n",
       "        text-align: right;\n",
       "    }\n",
       "</style>\n",
       "<table border=\"1\" class=\"dataframe\">\n",
       "  <thead>\n",
       "    <tr style=\"text-align: right;\">\n",
       "      <th></th>\n",
       "      <th>latitude</th>\n",
       "      <th>longitude</th>\n",
       "    </tr>\n",
       "  </thead>\n",
       "  <tbody>\n",
       "    <tr>\n",
       "      <th>1003020001</th>\n",
       "      <td>[40.718008702954]</td>\n",
       "      <td>[-73.99342724941]</td>\n",
       "    </tr>\n",
       "    <tr>\n",
       "      <th>1001650001</th>\n",
       "      <td>[40.715450766367]</td>\n",
       "      <td>[-73.999538265827]</td>\n",
       "    </tr>\n",
       "    <tr>\n",
       "      <th>1004200001</th>\n",
       "      <td>[40.718274963396, 40.719784495498, 40.72163087...</td>\n",
       "      <td>[-73.993748286251, -73.992269055289, -73.99158...</td>\n",
       "    </tr>\n",
       "    <tr>\n",
       "      <th>1001220001</th>\n",
       "      <td>[40.713806515614]</td>\n",
       "      <td>[-74.005569530537]</td>\n",
       "    </tr>\n",
       "    <tr>\n",
       "      <th>1003890036</th>\n",
       "      <td>[40.723545956581, 40.723680527621, 40.72376550...</td>\n",
       "      <td>[-73.979692000943, -73.979259113526, -73.97910...</td>\n",
       "    </tr>\n",
       "    <tr>\n",
       "      <th>1015240046</th>\n",
       "      <td>[40.785967020536]</td>\n",
       "      <td>[-73.951206362211]</td>\n",
       "    </tr>\n",
       "    <tr>\n",
       "      <th>1020820047</th>\n",
       "      <td>[40.829347984541]</td>\n",
       "      <td>[-73.945645775795]</td>\n",
       "    </tr>\n",
       "    <tr>\n",
       "      <th>1003760007</th>\n",
       "      <td>[40.7239438899, 40.72402347752]</td>\n",
       "      <td>[-73.978941506339, -73.978883756867]</td>\n",
       "    </tr>\n",
       "    <tr>\n",
       "      <th>1003740041</th>\n",
       "      <td>[40.721292227281, 40.72146797746]</td>\n",
       "      <td>[-73.978231589502, -73.977787910393]</td>\n",
       "    </tr>\n",
       "    <tr>\n",
       "      <th>1001690001</th>\n",
       "      <td>[40.715917367248]</td>\n",
       "      <td>[-74.001565578432]</td>\n",
       "    </tr>\n",
       "  </tbody>\n",
       "</table>\n",
       "</div>"
      ],
      "text/plain": [
       "                                                     latitude  \\\n",
       "1003020001                                  [40.718008702954]   \n",
       "1001650001                                  [40.715450766367]   \n",
       "1004200001  [40.718274963396, 40.719784495498, 40.72163087...   \n",
       "1001220001                                  [40.713806515614]   \n",
       "1003890036  [40.723545956581, 40.723680527621, 40.72376550...   \n",
       "1015240046                                  [40.785967020536]   \n",
       "1020820047                                  [40.829347984541]   \n",
       "1003760007                    [40.7239438899, 40.72402347752]   \n",
       "1003740041                  [40.721292227281, 40.72146797746]   \n",
       "1001690001                                  [40.715917367248]   \n",
       "\n",
       "                                                    longitude  \n",
       "1003020001                                  [-73.99342724941]  \n",
       "1001650001                                 [-73.999538265827]  \n",
       "1004200001  [-73.993748286251, -73.992269055289, -73.99158...  \n",
       "1001220001                                 [-74.005569530537]  \n",
       "1003890036  [-73.979692000943, -73.979259113526, -73.97910...  \n",
       "1015240046                                 [-73.951206362211]  \n",
       "1020820047                                 [-73.945645775795]  \n",
       "1003760007               [-73.978941506339, -73.978883756867]  \n",
       "1003740041               [-73.978231589502, -73.977787910393]  \n",
       "1001690001                                 [-74.001565578432]  "
      ]
     },
     "execution_count": 33,
     "metadata": {},
     "output_type": "execute_result"
    }
   ],
   "source": [
    "top10 = pd.DataFrame(index = rats_df['bbl'].value_counts().head(10).index, columns = ['latitude', 'longitude'])\n",
    "for i in top10.index:\n",
    "    top10.loc[i]['latitude'] = np.unique(rats_df.loc[rats_df['bbl'] == i]['latitude'])\n",
    "    top10.loc[i]['longitude'] = np.unique(rats_df.loc[rats_df['bbl'] == i]['longitude'])\n",
    "top10"
   ]
  },
  {
   "cell_type": "code",
   "execution_count": 34,
   "metadata": {
    "scrolled": true
   },
   "outputs": [
    {
     "data": {
      "text/plain": [
       "(428, 7)"
      ]
     },
     "execution_count": 34,
     "metadata": {},
     "output_type": "execute_result"
    }
   ],
   "source": [
    "grand_st = rats_df.loc[rats_df['bbl']== 1003020001].drop(columns = ['bbl'])\n",
    "grand_st.shape"
   ]
  },
  {
   "cell_type": "code",
   "execution_count": 40,
   "metadata": {},
   "outputs": [
    {
     "data": {
      "text/html": [
       "<div>\n",
       "<style scoped>\n",
       "    .dataframe tbody tr th:only-of-type {\n",
       "        vertical-align: middle;\n",
       "    }\n",
       "\n",
       "    .dataframe tbody tr th {\n",
       "        vertical-align: top;\n",
       "    }\n",
       "\n",
       "    .dataframe thead th {\n",
       "        text-align: right;\n",
       "    }\n",
       "</style>\n",
       "<table border=\"1\" class=\"dataframe\">\n",
       "  <thead>\n",
       "    <tr style=\"text-align: right;\">\n",
       "      <th></th>\n",
       "      <th>inspection_type</th>\n",
       "      <th>job_progress</th>\n",
       "      <th>latitude</th>\n",
       "      <th>longitude</th>\n",
       "      <th>result</th>\n",
       "      <th>approved_date</th>\n",
       "    </tr>\n",
       "    <tr>\n",
       "      <th>inspection_date</th>\n",
       "      <th></th>\n",
       "      <th></th>\n",
       "      <th></th>\n",
       "      <th></th>\n",
       "      <th></th>\n",
       "      <th></th>\n",
       "    </tr>\n",
       "  </thead>\n",
       "  <tbody>\n",
       "    <tr>\n",
       "      <th>2019-11-18 14:40:34</th>\n",
       "      <td>INITIAL</td>\n",
       "      <td>1</td>\n",
       "      <td>40.718009</td>\n",
       "      <td>-73.993427</td>\n",
       "      <td>Passed Inspection</td>\n",
       "      <td>2019-11-19 13:38:14</td>\n",
       "    </tr>\n",
       "    <tr>\n",
       "      <th>2019-10-23 16:41:06</th>\n",
       "      <td>INITIAL</td>\n",
       "      <td>1</td>\n",
       "      <td>40.718009</td>\n",
       "      <td>-73.993427</td>\n",
       "      <td>Active Rat Signs</td>\n",
       "      <td>2019-10-24 12:12:51</td>\n",
       "    </tr>\n",
       "    <tr>\n",
       "      <th>2019-09-18 15:15:50</th>\n",
       "      <td>INITIAL</td>\n",
       "      <td>1</td>\n",
       "      <td>40.718009</td>\n",
       "      <td>-73.993427</td>\n",
       "      <td>Active Rat Signs</td>\n",
       "      <td>2019-09-19 11:03:46</td>\n",
       "    </tr>\n",
       "    <tr>\n",
       "      <th>2019-08-26 15:16:25</th>\n",
       "      <td>INITIAL</td>\n",
       "      <td>1</td>\n",
       "      <td>40.718009</td>\n",
       "      <td>-73.993427</td>\n",
       "      <td>Active Rat Signs</td>\n",
       "      <td>2019-08-27 13:01:51</td>\n",
       "    </tr>\n",
       "    <tr>\n",
       "      <th>2019-07-25 15:16:16</th>\n",
       "      <td>INITIAL</td>\n",
       "      <td>1</td>\n",
       "      <td>40.718009</td>\n",
       "      <td>-73.993427</td>\n",
       "      <td>Active Rat Signs</td>\n",
       "      <td>2019-07-29 08:39:23</td>\n",
       "    </tr>\n",
       "    <tr>\n",
       "      <th>...</th>\n",
       "      <td>...</td>\n",
       "      <td>...</td>\n",
       "      <td>...</td>\n",
       "      <td>...</td>\n",
       "      <td>...</td>\n",
       "      <td>...</td>\n",
       "    </tr>\n",
       "    <tr>\n",
       "      <th>2012-05-10 14:34:56</th>\n",
       "      <td>INITIAL</td>\n",
       "      <td>1</td>\n",
       "      <td>40.718009</td>\n",
       "      <td>-73.993427</td>\n",
       "      <td>Active Rat Signs</td>\n",
       "      <td>2012-05-21 15:38:26</td>\n",
       "    </tr>\n",
       "    <tr>\n",
       "      <th>2011-04-29 11:04:50</th>\n",
       "      <td>INITIAL</td>\n",
       "      <td>1</td>\n",
       "      <td>40.718009</td>\n",
       "      <td>-73.993427</td>\n",
       "      <td>Active Rat Signs</td>\n",
       "      <td>2011-04-29 14:50:37</td>\n",
       "    </tr>\n",
       "    <tr>\n",
       "      <th>2011-04-15 15:31:16</th>\n",
       "      <td>INITIAL</td>\n",
       "      <td>1</td>\n",
       "      <td>40.718009</td>\n",
       "      <td>-73.993427</td>\n",
       "      <td>Active Rat Signs</td>\n",
       "      <td>2011-04-19 12:39:18</td>\n",
       "    </tr>\n",
       "    <tr>\n",
       "      <th>2011-04-14 13:29:18</th>\n",
       "      <td>INITIAL</td>\n",
       "      <td>1</td>\n",
       "      <td>40.718009</td>\n",
       "      <td>-73.993427</td>\n",
       "      <td>Active Rat Signs</td>\n",
       "      <td>2011-04-15 10:31:36</td>\n",
       "    </tr>\n",
       "    <tr>\n",
       "      <th>2010-01-22 11:06:30</th>\n",
       "      <td>INITIAL</td>\n",
       "      <td>1</td>\n",
       "      <td>40.718009</td>\n",
       "      <td>-73.993427</td>\n",
       "      <td>Active Rat Signs</td>\n",
       "      <td>2010-02-01 15:43:23</td>\n",
       "    </tr>\n",
       "  </tbody>\n",
       "</table>\n",
       "<p>428 rows × 6 columns</p>\n",
       "</div>"
      ],
      "text/plain": [
       "                    inspection_type  job_progress   latitude  longitude  \\\n",
       "inspection_date                                                           \n",
       "2019-11-18 14:40:34         INITIAL             1  40.718009 -73.993427   \n",
       "2019-10-23 16:41:06         INITIAL             1  40.718009 -73.993427   \n",
       "2019-09-18 15:15:50         INITIAL             1  40.718009 -73.993427   \n",
       "2019-08-26 15:16:25         INITIAL             1  40.718009 -73.993427   \n",
       "2019-07-25 15:16:16         INITIAL             1  40.718009 -73.993427   \n",
       "...                             ...           ...        ...        ...   \n",
       "2012-05-10 14:34:56         INITIAL             1  40.718009 -73.993427   \n",
       "2011-04-29 11:04:50         INITIAL             1  40.718009 -73.993427   \n",
       "2011-04-15 15:31:16         INITIAL             1  40.718009 -73.993427   \n",
       "2011-04-14 13:29:18         INITIAL             1  40.718009 -73.993427   \n",
       "2010-01-22 11:06:30         INITIAL             1  40.718009 -73.993427   \n",
       "\n",
       "                                result       approved_date  \n",
       "inspection_date                                             \n",
       "2019-11-18 14:40:34  Passed Inspection 2019-11-19 13:38:14  \n",
       "2019-10-23 16:41:06   Active Rat Signs 2019-10-24 12:12:51  \n",
       "2019-09-18 15:15:50   Active Rat Signs 2019-09-19 11:03:46  \n",
       "2019-08-26 15:16:25   Active Rat Signs 2019-08-27 13:01:51  \n",
       "2019-07-25 15:16:16   Active Rat Signs 2019-07-29 08:39:23  \n",
       "...                                ...                 ...  \n",
       "2012-05-10 14:34:56   Active Rat Signs 2012-05-21 15:38:26  \n",
       "2011-04-29 11:04:50   Active Rat Signs 2011-04-29 14:50:37  \n",
       "2011-04-15 15:31:16   Active Rat Signs 2011-04-19 12:39:18  \n",
       "2011-04-14 13:29:18   Active Rat Signs 2011-04-15 10:31:36  \n",
       "2010-01-22 11:06:30   Active Rat Signs 2010-02-01 15:43:23  \n",
       "\n",
       "[428 rows x 6 columns]"
      ]
     },
     "execution_count": 40,
     "metadata": {},
     "output_type": "execute_result"
    }
   ],
   "source": [
    "grand_st.set_index('inspection_date',inplace = True)"
   ]
  },
  {
   "cell_type": "code",
   "execution_count": 35,
   "metadata": {},
   "outputs": [],
   "source": [
    "# Export data: \n",
    "grand_st.to_csv('../datasets/grand_st.csv', index=False)"
   ]
  },
  {
   "cell_type": "code",
   "execution_count": 36,
   "metadata": {},
   "outputs": [
    {
     "data": {
      "text/plain": [
       "(408, 7)"
      ]
     },
     "execution_count": 36,
     "metadata": {},
     "output_type": "execute_result"
    }
   ],
   "source": [
    "columbus_pk = rats_df.loc[rats_df['bbl']== 1001650001].drop(columns = ['bbl'])\n",
    "columbus_pk.shape"
   ]
  },
  {
   "cell_type": "code",
   "execution_count": 37,
   "metadata": {},
   "outputs": [],
   "source": [
    "# Export data: \n",
    "columbus_pk.to_csv('../datasets/columbus_pk.csv', index=False)"
   ]
  },
  {
   "cell_type": "markdown",
   "metadata": {},
   "source": [
    "**restaurants.csv**"
   ]
  },
  {
   "cell_type": "code",
   "execution_count": 41,
   "metadata": {
    "scrolled": true
   },
   "outputs": [
    {
     "data": {
      "text/plain": [
       "(401346, 26)"
      ]
     },
     "execution_count": 41,
     "metadata": {},
     "output_type": "execute_result"
    }
   ],
   "source": [
    "restaurants.shape"
   ]
  },
  {
   "cell_type": "code",
   "execution_count": 42,
   "metadata": {},
   "outputs": [],
   "source": [
    "restaurants = restaurants.loc[restaurants['boro'] == 'Manhattan']"
   ]
  },
  {
   "cell_type": "code",
   "execution_count": 43,
   "metadata": {},
   "outputs": [
    {
     "data": {
      "text/html": [
       "<div>\n",
       "<style scoped>\n",
       "    .dataframe tbody tr th:only-of-type {\n",
       "        vertical-align: middle;\n",
       "    }\n",
       "\n",
       "    .dataframe tbody tr th {\n",
       "        vertical-align: top;\n",
       "    }\n",
       "\n",
       "    .dataframe thead th {\n",
       "        text-align: right;\n",
       "    }\n",
       "</style>\n",
       "<table border=\"1\" class=\"dataframe\">\n",
       "  <thead>\n",
       "    <tr style=\"text-align: right;\">\n",
       "      <th></th>\n",
       "      <th>camis</th>\n",
       "      <th>dba</th>\n",
       "      <th>boro</th>\n",
       "      <th>building</th>\n",
       "      <th>street</th>\n",
       "      <th>zipcode</th>\n",
       "      <th>phone</th>\n",
       "      <th>cuisine_description</th>\n",
       "      <th>inspection_date</th>\n",
       "      <th>action</th>\n",
       "      <th>...</th>\n",
       "      <th>record_date</th>\n",
       "      <th>inspection_type</th>\n",
       "      <th>latitude</th>\n",
       "      <th>longitude</th>\n",
       "      <th>community_board</th>\n",
       "      <th>council_district</th>\n",
       "      <th>census_tract</th>\n",
       "      <th>bin</th>\n",
       "      <th>bbl</th>\n",
       "      <th>nta</th>\n",
       "    </tr>\n",
       "  </thead>\n",
       "  <tbody>\n",
       "    <tr>\n",
       "      <th>1</th>\n",
       "      <td>40868400</td>\n",
       "      <td>ARIANA KEBAB HOUSE</td>\n",
       "      <td>Manhattan</td>\n",
       "      <td>787</td>\n",
       "      <td>9 AVENUE</td>\n",
       "      <td>10019</td>\n",
       "      <td>2122622323</td>\n",
       "      <td>Afghan</td>\n",
       "      <td>2019-08-20T00:00:00.000</td>\n",
       "      <td>Violations were cited in the following area(s).</td>\n",
       "      <td>...</td>\n",
       "      <td>2020-03-02T06:01:15.000</td>\n",
       "      <td>Cycle Inspection / Initial Inspection</td>\n",
       "      <td>40.764993098016</td>\n",
       "      <td>-73.987855987299</td>\n",
       "      <td>104</td>\n",
       "      <td>03</td>\n",
       "      <td>013300</td>\n",
       "      <td>1082418</td>\n",
       "      <td>1010620032</td>\n",
       "      <td>MN15</td>\n",
       "    </tr>\n",
       "    <tr>\n",
       "      <th>2</th>\n",
       "      <td>50064218</td>\n",
       "      <td>TAP NYC</td>\n",
       "      <td>Manhattan</td>\n",
       "      <td>267</td>\n",
       "      <td>COLUMBUS AVE</td>\n",
       "      <td>10023</td>\n",
       "      <td>9175957012</td>\n",
       "      <td>Café/Coffee/Tea</td>\n",
       "      <td>2018-10-10T00:00:00.000</td>\n",
       "      <td>Violations were cited in the following area(s).</td>\n",
       "      <td>...</td>\n",
       "      <td>2020-03-02T06:01:15.000</td>\n",
       "      <td>Cycle Inspection / Initial Inspection</td>\n",
       "      <td>40.77771642487</td>\n",
       "      <td>-73.978556145725</td>\n",
       "      <td>107</td>\n",
       "      <td>06</td>\n",
       "      <td>015700</td>\n",
       "      <td>1028631</td>\n",
       "      <td>1011250001</td>\n",
       "      <td>MN14</td>\n",
       "    </tr>\n",
       "    <tr>\n",
       "      <th>8</th>\n",
       "      <td>41397650</td>\n",
       "      <td>DUNKIN', BASKIN ROBBINS</td>\n",
       "      <td>Manhattan</td>\n",
       "      <td>360</td>\n",
       "      <td>WEST   31 STREET</td>\n",
       "      <td>10001</td>\n",
       "      <td>2129041160</td>\n",
       "      <td>Donuts</td>\n",
       "      <td>2019-04-26T00:00:00.000</td>\n",
       "      <td>Violations were cited in the following area(s).</td>\n",
       "      <td>...</td>\n",
       "      <td>2020-03-02T06:01:15.000</td>\n",
       "      <td>Cycle Inspection / Initial Inspection</td>\n",
       "      <td>40.750970713268</td>\n",
       "      <td>-73.996491829355</td>\n",
       "      <td>104</td>\n",
       "      <td>03</td>\n",
       "      <td>010300</td>\n",
       "      <td>1013540</td>\n",
       "      <td>1007540078</td>\n",
       "      <td>MN13</td>\n",
       "    </tr>\n",
       "    <tr>\n",
       "      <th>12</th>\n",
       "      <td>41271483</td>\n",
       "      <td>KATSUHAMA RESTAURANT</td>\n",
       "      <td>Manhattan</td>\n",
       "      <td>4345</td>\n",
       "      <td>WEST 55 STREET</td>\n",
       "      <td>NaN</td>\n",
       "      <td>2125417145</td>\n",
       "      <td>Japanese</td>\n",
       "      <td>2018-04-19T00:00:00.000</td>\n",
       "      <td>Violations were cited in the following area(s).</td>\n",
       "      <td>...</td>\n",
       "      <td>2020-03-02T06:01:15.000</td>\n",
       "      <td>Cycle Inspection / Re-inspection</td>\n",
       "      <td>0</td>\n",
       "      <td>0</td>\n",
       "      <td>NaN</td>\n",
       "      <td>NaN</td>\n",
       "      <td>NaN</td>\n",
       "      <td>NaN</td>\n",
       "      <td>1</td>\n",
       "      <td>NaN</td>\n",
       "    </tr>\n",
       "    <tr>\n",
       "      <th>14</th>\n",
       "      <td>50051737</td>\n",
       "      <td>SPRING PLACE</td>\n",
       "      <td>Manhattan</td>\n",
       "      <td>6</td>\n",
       "      <td>SAINT JOHNS LN</td>\n",
       "      <td>10013</td>\n",
       "      <td>2122575620</td>\n",
       "      <td>Mediterranean</td>\n",
       "      <td>2016-08-30T00:00:00.000</td>\n",
       "      <td>Violations were cited in the following area(s).</td>\n",
       "      <td>...</td>\n",
       "      <td>2020-03-02T06:01:15.000</td>\n",
       "      <td>Pre-permit (Operational) / Initial Inspection</td>\n",
       "      <td>40.720720569178</td>\n",
       "      <td>-74.005916438676</td>\n",
       "      <td>101</td>\n",
       "      <td>01</td>\n",
       "      <td>003300</td>\n",
       "      <td>1002734</td>\n",
       "      <td>1002127504</td>\n",
       "      <td>MN24</td>\n",
       "    </tr>\n",
       "  </tbody>\n",
       "</table>\n",
       "<p>5 rows × 26 columns</p>\n",
       "</div>"
      ],
      "text/plain": [
       "       camis                      dba       boro building            street  \\\n",
       "1   40868400       ARIANA KEBAB HOUSE  Manhattan      787          9 AVENUE   \n",
       "2   50064218                  TAP NYC  Manhattan      267      COLUMBUS AVE   \n",
       "8   41397650  DUNKIN', BASKIN ROBBINS  Manhattan      360  WEST   31 STREET   \n",
       "12  41271483     KATSUHAMA RESTAURANT  Manhattan     4345    WEST 55 STREET   \n",
       "14  50051737             SPRING PLACE  Manhattan        6    SAINT JOHNS LN   \n",
       "\n",
       "   zipcode       phone cuisine_description          inspection_date  \\\n",
       "1    10019  2122622323              Afghan  2019-08-20T00:00:00.000   \n",
       "2    10023  9175957012     Café/Coffee/Tea  2018-10-10T00:00:00.000   \n",
       "8    10001  2129041160              Donuts  2019-04-26T00:00:00.000   \n",
       "12     NaN  2125417145            Japanese  2018-04-19T00:00:00.000   \n",
       "14   10013  2122575620       Mediterranean  2016-08-30T00:00:00.000   \n",
       "\n",
       "                                             action  ...  \\\n",
       "1   Violations were cited in the following area(s).  ...   \n",
       "2   Violations were cited in the following area(s).  ...   \n",
       "8   Violations were cited in the following area(s).  ...   \n",
       "12  Violations were cited in the following area(s).  ...   \n",
       "14  Violations were cited in the following area(s).  ...   \n",
       "\n",
       "                record_date                                inspection_type  \\\n",
       "1   2020-03-02T06:01:15.000          Cycle Inspection / Initial Inspection   \n",
       "2   2020-03-02T06:01:15.000          Cycle Inspection / Initial Inspection   \n",
       "8   2020-03-02T06:01:15.000          Cycle Inspection / Initial Inspection   \n",
       "12  2020-03-02T06:01:15.000               Cycle Inspection / Re-inspection   \n",
       "14  2020-03-02T06:01:15.000  Pre-permit (Operational) / Initial Inspection   \n",
       "\n",
       "           latitude         longitude community_board council_district  \\\n",
       "1   40.764993098016  -73.987855987299             104               03   \n",
       "2    40.77771642487  -73.978556145725             107               06   \n",
       "8   40.750970713268  -73.996491829355             104               03   \n",
       "12                0                 0             NaN              NaN   \n",
       "14  40.720720569178  -74.005916438676             101               01   \n",
       "\n",
       "   census_tract      bin         bbl   nta  \n",
       "1        013300  1082418  1010620032  MN15  \n",
       "2        015700  1028631  1011250001  MN14  \n",
       "8        010300  1013540  1007540078  MN13  \n",
       "12          NaN      NaN           1   NaN  \n",
       "14       003300  1002734  1002127504  MN24  \n",
       "\n",
       "[5 rows x 26 columns]"
      ]
     },
     "execution_count": 43,
     "metadata": {},
     "output_type": "execute_result"
    }
   ],
   "source": [
    "restaurants.head()"
   ]
  },
  {
   "cell_type": "code",
   "execution_count": 7,
   "metadata": {
    "scrolled": true
   },
   "outputs": [
    {
     "data": {
      "text/plain": [
       "camis                    0.000000\n",
       "dba                      0.000811\n",
       "boro                     0.000000\n",
       "building                 0.000665\n",
       "street                   0.000000\n",
       "zipcode                  0.016704\n",
       "phone                    0.000000\n",
       "cuisine_description      0.000000\n",
       "inspection_date          0.000000\n",
       "action                   0.003598\n",
       "violation_code           0.013454\n",
       "violation_description    0.020105\n",
       "critical_flag            0.020105\n",
       "score                    0.042313\n",
       "grade                    0.497169\n",
       "grade_date               0.504136\n",
       "record_date              0.000000\n",
       "inspection_type          0.003598\n",
       "latitude                 0.001051\n",
       "longitude                0.001051\n",
       "community_board          0.017755\n",
       "council_district         0.017679\n",
       "census_tract             0.017679\n",
       "bin                      0.020764\n",
       "bbl                      0.001051\n",
       "nta                      0.017755\n",
       "dtype: float64"
      ]
     },
     "execution_count": 7,
     "metadata": {},
     "output_type": "execute_result"
    }
   ],
   "source": [
    "restaurants.isnull().mean()"
   ]
  },
  {
   "cell_type": "code",
   "execution_count": 8,
   "metadata": {
    "scrolled": true
   },
   "outputs": [
    {
     "data": {
      "text/html": [
       "<div>\n",
       "<style scoped>\n",
       "    .dataframe tbody tr th:only-of-type {\n",
       "        vertical-align: middle;\n",
       "    }\n",
       "\n",
       "    .dataframe tbody tr th {\n",
       "        vertical-align: top;\n",
       "    }\n",
       "\n",
       "    .dataframe thead th {\n",
       "        text-align: right;\n",
       "    }\n",
       "</style>\n",
       "<table border=\"1\" class=\"dataframe\">\n",
       "  <thead>\n",
       "    <tr style=\"text-align: right;\">\n",
       "      <th></th>\n",
       "      <th>camis</th>\n",
       "      <th>dba</th>\n",
       "      <th>boro</th>\n",
       "      <th>building</th>\n",
       "      <th>street</th>\n",
       "      <th>zipcode</th>\n",
       "      <th>phone</th>\n",
       "      <th>cuisine_description</th>\n",
       "      <th>inspection_date</th>\n",
       "      <th>action</th>\n",
       "      <th>...</th>\n",
       "      <th>record_date</th>\n",
       "      <th>inspection_type</th>\n",
       "      <th>latitude</th>\n",
       "      <th>longitude</th>\n",
       "      <th>community_board</th>\n",
       "      <th>council_district</th>\n",
       "      <th>census_tract</th>\n",
       "      <th>bin</th>\n",
       "      <th>bbl</th>\n",
       "      <th>nta</th>\n",
       "    </tr>\n",
       "  </thead>\n",
       "  <tbody>\n",
       "    <tr>\n",
       "      <th>1</th>\n",
       "      <td>40400049</td>\n",
       "      <td>PANYA/AUTRE KYOYA</td>\n",
       "      <td>Manhattan</td>\n",
       "      <td>810</td>\n",
       "      <td>STUYVESANT STREET</td>\n",
       "      <td>NaN</td>\n",
       "      <td>2125980454</td>\n",
       "      <td>Japanese</td>\n",
       "      <td>2017-01-03T00:00:00.000</td>\n",
       "      <td>Violations were cited in the following area(s).</td>\n",
       "      <td>...</td>\n",
       "      <td>2020-02-25T06:00:52.000</td>\n",
       "      <td>Cycle Inspection / Re-inspection</td>\n",
       "      <td>0</td>\n",
       "      <td>0</td>\n",
       "      <td>NaN</td>\n",
       "      <td>NaN</td>\n",
       "      <td>NaN</td>\n",
       "      <td>NaN</td>\n",
       "      <td>1</td>\n",
       "      <td>NaN</td>\n",
       "    </tr>\n",
       "    <tr>\n",
       "      <th>3</th>\n",
       "      <td>41279957</td>\n",
       "      <td>LELABAR</td>\n",
       "      <td>Manhattan</td>\n",
       "      <td>422</td>\n",
       "      <td>HUDSON STREET</td>\n",
       "      <td>10014</td>\n",
       "      <td>2122060594</td>\n",
       "      <td>American</td>\n",
       "      <td>2017-05-05T00:00:00.000</td>\n",
       "      <td>Violations were cited in the following area(s).</td>\n",
       "      <td>...</td>\n",
       "      <td>2020-02-25T06:00:52.000</td>\n",
       "      <td>Cycle Inspection / Initial Inspection</td>\n",
       "      <td>40.730478164589</td>\n",
       "      <td>-74.006801296496</td>\n",
       "      <td>102</td>\n",
       "      <td>03</td>\n",
       "      <td>006700</td>\n",
       "      <td>1009774</td>\n",
       "      <td>1005830002</td>\n",
       "      <td>MN23</td>\n",
       "    </tr>\n",
       "  </tbody>\n",
       "</table>\n",
       "<p>2 rows × 26 columns</p>\n",
       "</div>"
      ],
      "text/plain": [
       "      camis                dba       boro building             street zipcode  \\\n",
       "1  40400049  PANYA/AUTRE KYOYA  Manhattan      810  STUYVESANT STREET     NaN   \n",
       "3  41279957            LELABAR  Manhattan      422      HUDSON STREET   10014   \n",
       "\n",
       "        phone cuisine_description          inspection_date  \\\n",
       "1  2125980454            Japanese  2017-01-03T00:00:00.000   \n",
       "3  2122060594            American  2017-05-05T00:00:00.000   \n",
       "\n",
       "                                            action  ...  \\\n",
       "1  Violations were cited in the following area(s).  ...   \n",
       "3  Violations were cited in the following area(s).  ...   \n",
       "\n",
       "               record_date                        inspection_type  \\\n",
       "1  2020-02-25T06:00:52.000       Cycle Inspection / Re-inspection   \n",
       "3  2020-02-25T06:00:52.000  Cycle Inspection / Initial Inspection   \n",
       "\n",
       "          latitude         longitude community_board council_district  \\\n",
       "1                0                 0             NaN              NaN   \n",
       "3  40.730478164589  -74.006801296496             102               03   \n",
       "\n",
       "  census_tract      bin         bbl   nta  \n",
       "1          NaN      NaN           1   NaN  \n",
       "3       006700  1009774  1005830002  MN23  \n",
       "\n",
       "[2 rows x 26 columns]"
      ]
     },
     "execution_count": 8,
     "metadata": {},
     "output_type": "execute_result"
    }
   ],
   "source": [
    "restaurants.head(2)"
   ]
  },
  {
   "cell_type": "code",
   "execution_count": null,
   "metadata": {},
   "outputs": [],
   "source": []
  },
  {
   "cell_type": "code",
   "execution_count": 22,
   "metadata": {
    "scrolled": true
   },
   "outputs": [
    {
     "data": {
      "text/plain": [
       "1             3112\n",
       "1012800001     520\n",
       "1007130001     432\n",
       "1007810002     391\n",
       "1000160125     255\n",
       "              ... \n",
       "1003900036       1\n",
       "1001750029       1\n",
       "1004680039       1\n",
       "1006620003       1\n",
       "1004360042       1\n",
       "Name: bbl, Length: 7136, dtype: int64"
      ]
     },
     "execution_count": 22,
     "metadata": {},
     "output_type": "execute_result"
    }
   ],
   "source": [
    "restaurants['bbl'].value_counts()"
   ]
  },
  {
   "cell_type": "code",
   "execution_count": 45,
   "metadata": {
    "scrolled": false
   },
   "outputs": [
    {
     "data": {
      "text/plain": [
       "{'A', 'B', 'C', 'G', 'N', 'P', 'Z', nan}"
      ]
     },
     "execution_count": 45,
     "metadata": {},
     "output_type": "execute_result"
    }
   ],
   "source": [
    "set(restaurants['grade'])"
   ]
  },
  {
   "cell_type": "code",
   "execution_count": 16,
   "metadata": {},
   "outputs": [],
   "source": [
    "grad_a = restaurants.loc[restaurants['grade']=='A'].loc[restaurants['action']=='No violations were recorded at the time of this inspection.']"
   ]
  },
  {
   "cell_type": "code",
   "execution_count": 17,
   "metadata": {
    "scrolled": true
   },
   "outputs": [
    {
     "data": {
      "text/plain": [
       "(283, 26)"
      ]
     },
     "execution_count": 17,
     "metadata": {},
     "output_type": "execute_result"
    }
   ],
   "source": [
    "grad_a.shape"
   ]
  },
  {
   "cell_type": "code",
   "execution_count": 20,
   "metadata": {},
   "outputs": [
    {
     "data": {
      "text/plain": [
       "camis                      0\n",
       "dba                        0\n",
       "boro                       0\n",
       "building                   1\n",
       "street                     0\n",
       "zipcode                   15\n",
       "phone                      0\n",
       "cuisine_description        0\n",
       "inspection_date            0\n",
       "action                     0\n",
       "violation_code           283\n",
       "violation_description    283\n",
       "critical_flag            283\n",
       "score                      0\n",
       "grade                      0\n",
       "grade_date                 0\n",
       "record_date                0\n",
       "inspection_type            0\n",
       "latitude                   1\n",
       "longitude                  1\n",
       "community_board           16\n",
       "council_district          16\n",
       "census_tract              16\n",
       "bin                       16\n",
       "bbl                        1\n",
       "nta                       16\n",
       "dtype: int64"
      ]
     },
     "execution_count": 20,
     "metadata": {},
     "output_type": "execute_result"
    }
   ],
   "source": [
    "grad_a.isnull().sum()"
   ]
  },
  {
   "cell_type": "code",
   "execution_count": 46,
   "metadata": {
    "scrolled": true
   },
   "outputs": [
    {
     "data": {
      "text/plain": [
       "{'Establishment Closed by DOHMH.  Violations were cited in the following area(s) and those requiring immediate action were addressed.',\n",
       " 'Establishment re-closed by DOHMH',\n",
       " 'Establishment re-opened by DOHMH',\n",
       " 'No violations were recorded at the time of this inspection.',\n",
       " 'Violations were cited in the following area(s).',\n",
       " nan}"
      ]
     },
     "execution_count": 46,
     "metadata": {},
     "output_type": "execute_result"
    }
   ],
   "source": [
    "set(restaurants['action'])"
   ]
  },
  {
   "cell_type": "code",
   "execution_count": 47,
   "metadata": {
    "scrolled": false
   },
   "outputs": [
    {
     "data": {
      "text/plain": [
       "{'\"\"No Smoking” and/or \\'Smoking Permitted” sign not conspicuously posted. Health warning not present on \\'Smoking Permitted”',\n",
       " '\"\"Wash hands” sign not posted at hand wash facility.',\n",
       " 'A food containing artificial trans fat, with 0.5 grams or more of trans fat per serving, is being stored, distributed, held for service, used in preparation of a menu item, or served.',\n",
       " 'Accurate thermometer not provided in refrigerated or hot holding equipment.',\n",
       " 'Appropriately scaled metal stem-type thermometer or thermocouple not provided or used to evaluate temperatures of potentially hazardous foods during cooking, cooling, reheating and holding.',\n",
       " 'Ashtray present in smoke-free area.',\n",
       " 'Bulb not shielded or shatterproof, in areas where there is extreme heat, temperature changes, or where accidental contact may occur.',\n",
       " 'Caloric content not posted on menus, menu boards or food tags, in a food service establishment that is 1 of 15 or more outlets operating the same type of business nationally under common ownership or control, or as a franchise or doing business under the same name, for each menu item that is served in portions, the size and content of which are standardized.',\n",
       " 'Caloric content range (minimum to maximum) not posted on menus and or menu boards for each flavor, variety and size of each menu item that is offered for sale in different flavors, varieties and sizes.',\n",
       " 'Canned food product observed dented and not segregated from other consumable food items.',\n",
       " 'Canned food product observed swollen, leaking or rusted, and not segregated from other consumable food items .',\n",
       " 'Cold food item held above 41º F (smoked fish and reduced oxygen packaged foods above 38 ºF) except during necessary preparation.',\n",
       " 'Covered garbage receptacle not provided or inadequate, except that garbage receptacle may be uncovered during active use. Garbage storage area not properly constructed or maintained; grinder or compactor dirty.',\n",
       " 'Current letter grade card not posted.',\n",
       " 'Document issued by the Board of Health, Commissioner or Department unlawfully reproduced or altered.',\n",
       " 'Duties of an officer of the Department interfered with or obstructed.',\n",
       " 'Eggs found dirty/cracked; liquid, frozen or powdered eggs not pasteurized.',\n",
       " \"Evidence of mice or live mice present in facility's food and/or non-food areas.\",\n",
       " \"Evidence of rats or live rats present in facility's food and/or non-food areas.\",\n",
       " 'Facility not vermin proof. Harborage or conditions conducive to attracting vermin to the premises and/or allowing vermin to exist.',\n",
       " 'Failure to comply with an Order of the Board of Health, Commissioner, or Department.',\n",
       " 'Filth flies or food/refuse/sewage-associated (FRSA) flies present in facility’s food and/or non-food areas. Filth flies include house flies, little house flies, blow flies, bottle flies and flesh flies. Food/refuse/sewage-associated flies include fruit flies, drain flies and Phorid flies.',\n",
       " 'Flavored tobacco products sold or offered for sale.',\n",
       " 'Food Protection Certificate not held by supervisor of food operations.',\n",
       " 'Food allergy information poster not conspicuously posted where food is being prepared or processed by food workers.',\n",
       " 'Food contact surface improperly constructed or located. Unacceptable material used.',\n",
       " 'Food contact surface not properly maintained.',\n",
       " 'Food contact surface not properly washed, rinsed and sanitized after each use and following any activity when contamination may have occurred.',\n",
       " 'Food from unapproved or unknown source or home canned. Reduced oxygen packaged (ROP) fish not frozen before processing; or ROP foods prepared on premises transported to another site.',\n",
       " 'Food not cooked to required minimum temperature.',\n",
       " 'Food not cooled by an approved method whereby the internal product temperature is reduced from 140º F to 70º F or less within 2 hours, and from 70º F to 41º F or less within 4 additional hours.',\n",
       " 'Food not labeled in accordance with HACCP plan.',\n",
       " 'Food not protected from potential source of contamination during storage, preparation, transportation, display or service.',\n",
       " 'Food prepared from ingredients at ambient temperature not cooled to 41º F or below within 4 hours.',\n",
       " 'Food service operation occurring in room used as living or sleeping quarters.',\n",
       " 'Food worker does not use proper utensil to eliminate bare hand contact with food that will not receive adequate additional heat treatment.',\n",
       " 'Food worker does not wash hands thoroughly after using the toilet, coughing, sneezing, smoking, eating, preparing raw foods or otherwise contaminating hands.',\n",
       " 'Food worker prepares food or handles utensil when ill with a disease transmissible by food, or have exposed infected cut or burn on hand.',\n",
       " 'Food, food preparation area, food storage area, area used by employees or patrons, contaminated by sewage or liquid waste.',\n",
       " 'HACCP plan not approved or approved HACCP plan not maintained on premises.',\n",
       " 'Hand washing facility not provided in or near food preparation area and toilet room. Hot and cold running water at adequate pressure to enable cleanliness of employees not provided at facility. Soap and an acceptable hand-drying device not provided.',\n",
       " 'Harmful, noxious gas or vapor detected. CO ~1 3 ppm.',\n",
       " 'Hot food item not held at or above 140º F.',\n",
       " 'Hot food item that has been cooked and refrigerated is being held for service without first being reheated to 1 65º F or above within 2 hours.',\n",
       " 'Insufficient or no refrigerated or hot holding equipment to keep potentially hazardous foods at required temperatures.',\n",
       " 'Letter Grade or Grade Pending card not conspicuously posted and visible to passersby.',\n",
       " 'Lighting inadequate; permanent lighting not provided in food preparation areas, ware washing areas, and storage rooms.',\n",
       " \"Live animals other than fish in tank or service animal present in facility's food and/or non-food areas.\",\n",
       " \"Live roaches present in facility's food and/or non-food areas.\",\n",
       " 'Manufacture of frozen dessert not authorized on Food Service Establishment permit.',\n",
       " 'Meat, fish or molluscan shellfish served raw or undercooked without prior notification to customer.',\n",
       " 'Mechanical or natural ventilation system not provided, improperly installed, in disrepair and/or fails to prevent excessive build-up of grease, heat, steam condensation vapors, odors, smoke, and fumes.',\n",
       " 'No facilities available to wash, rinse and sanitize utensils and/or equipment.',\n",
       " 'Non-food contact surface improperly constructed. Unacceptable material used. Non-food contact surface or equipment improperly maintained and/or not properly sealed, raised, spaced or movable to allow accessibility for cleaning on all sides, above and underneath the unit.',\n",
       " 'Notice of the Department of Board of Health mutilated, obstructed, or removed.',\n",
       " 'Nuisance created or allowed to exist. Facility not free from unsafe, hazardous, offensive or annoying conditions.',\n",
       " 'Operator failed to make good faith effort to inform smokers of the Smoke-free Act prohibition of smoking.',\n",
       " 'Permit not conspicuously displayed.',\n",
       " 'Personal cleanliness inadequate. Outer garment soiled with possible contaminant.  Effective hair restraint not worn in an area where food is prepared.',\n",
       " 'Pesticide use not in accordance with label or applicable laws. Prohibited chemical used/stored. Open bait station used.',\n",
       " 'Plumbing not properly installed or maintained; anti-siphonage or backflow prevention device not provided where required; equipment or floor not properly drained; sewage disposal system in disrepair or not functioning properly.',\n",
       " 'Posted caloric content on the menu(s), menu board(s), food tag(s) or stanchions adjacent to menu boards for drive-through windows deficient, in that the size and/or font for posted calories is not as prominent as the name of the menu item or its price.',\n",
       " 'Potable water supply inadequate. Water or ice not potable or from unapproved source.  Cross connection in potable water supply system observed.',\n",
       " 'Precooked potentially hazardous food from commercial food processing establishment that is supposed to be heated, but is not heated to 140º F within 2 hours.',\n",
       " 'Proper sanitization not provided for utensil ware washing operation.',\n",
       " 'ROP processing equipment not approved by DOHMH.',\n",
       " 'Raw food not properly washed prior to serving.',\n",
       " 'Raw, cooked or prepared food is adulterated, contaminated, cross-contaminated, or not discarded in accordance with HACCP plan.',\n",
       " 'Records and logs not maintained to demonstrate that HACCP plan has been properly implemented.',\n",
       " 'Reduced oxygen packaged (ROP) foods not cooled by an approved method whereby the internal food temperature is reduced to 38º F within two hours of cooking and if necessary further cooled to a temperature of 34º F within six hours of reaching 38º F.',\n",
       " 'Sanitized equipment or utensil, including in-use food dispensing utensil, improperly used or stored.',\n",
       " 'Sewage disposal system improper or unapproved.',\n",
       " 'Shellfish not from approved source, improperly tagged/labeled; tags not retained for 90 days.',\n",
       " 'Single service item reused, improperly stored, dispensed; not used when required.',\n",
       " 'Smoke free workplace smoking policy inadequate, not posted, not provided to employees.',\n",
       " 'Thawing procedures improper.',\n",
       " 'The original nutritional fact labels and/or ingredient label for a cooking oil, shortening or margarine or food item sold in bulk, or acceptable manufacturer’s documentation not maintained on site.',\n",
       " 'Tobacco use, eating, or drinking from open container in food preparation, food storage or dishwashing area observed.',\n",
       " 'Toilet facility not maintained and provided with toilet paper, waste receptacle and self-closing door.',\n",
       " 'Toilet facility not provided for employees or for patrons when required.',\n",
       " 'Toilet facility used by women does not have at least one covered garbage receptacle.',\n",
       " 'Toxic chemical improperly labeled, stored or used such that food contamination may occur.',\n",
       " 'Unpasteurized milk or milk product present.',\n",
       " 'Unprotected food re-served.',\n",
       " 'Unprotected potentially hazardous food re-served.',\n",
       " 'Whole frozen poultry or poultry breasts, other than a single portion, is being cooked frozen or partially thawed.',\n",
       " 'Wiping cloths soiled or not stored in sanitizing solution.',\n",
       " nan,\n",
       " '“Choking first aid” poster not posted. “Alcohol and pregnancy” warning sign not posted. Resuscitation equipment: exhaled air resuscitation masks (adult & pediatric), latex gloves, sign not posted. Inspection report sign not posted.'}"
      ]
     },
     "execution_count": 47,
     "metadata": {},
     "output_type": "execute_result"
    }
   ],
   "source": [
    "set(restaurants['violation_description'])"
   ]
  },
  {
   "cell_type": "code",
   "execution_count": null,
   "metadata": {},
   "outputs": [],
   "source": [
    "# mice, rats, vermin"
   ]
  },
  {
   "cell_type": "markdown",
   "metadata": {},
   "source": [
    "#### rat_sightings.csv"
   ]
  },
  {
   "cell_type": "code",
   "execution_count": 45,
   "metadata": {},
   "outputs": [
    {
     "data": {
      "text/plain": [
       "(142889, 36)"
      ]
     },
     "execution_count": 45,
     "metadata": {},
     "output_type": "execute_result"
    }
   ],
   "source": [
    "rat_sightings.shape"
   ]
  },
  {
   "cell_type": "code",
   "execution_count": 41,
   "metadata": {
    "scrolled": true
   },
   "outputs": [
    {
     "data": {
      "text/html": [
       "<div>\n",
       "<style scoped>\n",
       "    .dataframe tbody tr th:only-of-type {\n",
       "        vertical-align: middle;\n",
       "    }\n",
       "\n",
       "    .dataframe tbody tr th {\n",
       "        vertical-align: top;\n",
       "    }\n",
       "\n",
       "    .dataframe thead th {\n",
       "        text-align: right;\n",
       "    }\n",
       "</style>\n",
       "<table border=\"1\" class=\"dataframe\">\n",
       "  <thead>\n",
       "    <tr style=\"text-align: right;\">\n",
       "      <th></th>\n",
       "      <th>descriptor</th>\n",
       "      <th>incident_zip</th>\n",
       "      <th>x_coordinate_state_plane_</th>\n",
       "      <th>created_date</th>\n",
       "      <th>location</th>\n",
       "      <th>city</th>\n",
       "      <th>:@computed_region_sbqj_enih</th>\n",
       "      <th>cross_street_2</th>\n",
       "      <th>:@computed_region_efsh_h5xi</th>\n",
       "      <th>park_facility_name</th>\n",
       "      <th>...</th>\n",
       "      <th>longitude</th>\n",
       "      <th>:@computed_region_f5dn_yrer</th>\n",
       "      <th>status</th>\n",
       "      <th>unique_key</th>\n",
       "      <th>intersection_street_2</th>\n",
       "      <th>closed_date</th>\n",
       "      <th>resolution_action_updated_date</th>\n",
       "      <th>address_type</th>\n",
       "      <th>due_date</th>\n",
       "      <th>facility_type</th>\n",
       "    </tr>\n",
       "  </thead>\n",
       "  <tbody>\n",
       "    <tr>\n",
       "      <th>0</th>\n",
       "      <td>Rat Sighting</td>\n",
       "      <td>10023</td>\n",
       "      <td>987231</td>\n",
       "      <td>2020-03-01T00:32:41.000</td>\n",
       "      <td>{'latitude': '40.77421945878715', 'human_addre...</td>\n",
       "      <td>NEW YORK</td>\n",
       "      <td>12</td>\n",
       "      <td>FREEDOM PLACE SOUTH</td>\n",
       "      <td>10091</td>\n",
       "      <td>Unspecified</td>\n",
       "      <td>...</td>\n",
       "      <td>-73.9892371845004</td>\n",
       "      <td>20</td>\n",
       "      <td>In Progress</td>\n",
       "      <td>45723202</td>\n",
       "      <td>FREEDOM PLACE SOUTH</td>\n",
       "      <td>NaN</td>\n",
       "      <td>NaN</td>\n",
       "      <td>NaN</td>\n",
       "      <td>NaN</td>\n",
       "      <td>NaN</td>\n",
       "    </tr>\n",
       "    <tr>\n",
       "      <th>1</th>\n",
       "      <td>Rat Sighting</td>\n",
       "      <td>11378</td>\n",
       "      <td>1013601</td>\n",
       "      <td>2020-02-29T23:00:22.000</td>\n",
       "      <td>{'latitude': '40.72403295808778', 'human_addre...</td>\n",
       "      <td>MASPETH</td>\n",
       "      <td>62</td>\n",
       "      <td>69 PLACE</td>\n",
       "      <td>14788</td>\n",
       "      <td>Unspecified</td>\n",
       "      <td>...</td>\n",
       "      <td>-73.89410882860271</td>\n",
       "      <td>54</td>\n",
       "      <td>In Progress</td>\n",
       "      <td>45722503</td>\n",
       "      <td>69 PLACE</td>\n",
       "      <td>NaN</td>\n",
       "      <td>NaN</td>\n",
       "      <td>NaN</td>\n",
       "      <td>NaN</td>\n",
       "      <td>NaN</td>\n",
       "    </tr>\n",
       "    <tr>\n",
       "      <th>2</th>\n",
       "      <td>Rat Sighting</td>\n",
       "      <td>11103</td>\n",
       "      <td>1009282</td>\n",
       "      <td>2020-02-29T22:19:31.000</td>\n",
       "      <td>{'latitude': '40.76639220669787', 'human_addre...</td>\n",
       "      <td>ASTORIA</td>\n",
       "      <td>72</td>\n",
       "      <td>28 AVENUE</td>\n",
       "      <td>16860</td>\n",
       "      <td>Unspecified</td>\n",
       "      <td>...</td>\n",
       "      <td>-73.90963328356786</td>\n",
       "      <td>39</td>\n",
       "      <td>In Progress</td>\n",
       "      <td>45725479</td>\n",
       "      <td>28 AVENUE</td>\n",
       "      <td>NaN</td>\n",
       "      <td>NaN</td>\n",
       "      <td>NaN</td>\n",
       "      <td>NaN</td>\n",
       "      <td>NaN</td>\n",
       "    </tr>\n",
       "    <tr>\n",
       "      <th>3</th>\n",
       "      <td>Rat Sighting</td>\n",
       "      <td>11374</td>\n",
       "      <td>1023190</td>\n",
       "      <td>2020-02-29T22:07:07.000</td>\n",
       "      <td>{'latitude': '40.72997950637147', 'human_addre...</td>\n",
       "      <td>REGO PARK</td>\n",
       "      <td>70</td>\n",
       "      <td>98 STREET</td>\n",
       "      <td>14785</td>\n",
       "      <td>Unspecified</td>\n",
       "      <td>...</td>\n",
       "      <td>-73.85950151820727</td>\n",
       "      <td>40</td>\n",
       "      <td>In Progress</td>\n",
       "      <td>45722505</td>\n",
       "      <td>98 STREET</td>\n",
       "      <td>NaN</td>\n",
       "      <td>NaN</td>\n",
       "      <td>NaN</td>\n",
       "      <td>NaN</td>\n",
       "      <td>NaN</td>\n",
       "    </tr>\n",
       "    <tr>\n",
       "      <th>4</th>\n",
       "      <td>Rat Sighting</td>\n",
       "      <td>10472</td>\n",
       "      <td>1017766</td>\n",
       "      <td>2020-02-29T21:11:35.000</td>\n",
       "      <td>{'latitude': '40.8274342564627', 'human_addres...</td>\n",
       "      <td>BRONX</td>\n",
       "      <td>26</td>\n",
       "      <td>WESTCHESTER AVENUE</td>\n",
       "      <td>11610</td>\n",
       "      <td>Unspecified</td>\n",
       "      <td>...</td>\n",
       "      <td>-73.87889462284318</td>\n",
       "      <td>58</td>\n",
       "      <td>In Progress</td>\n",
       "      <td>45724727</td>\n",
       "      <td>WESTCHESTER AVENUE</td>\n",
       "      <td>NaN</td>\n",
       "      <td>NaN</td>\n",
       "      <td>NaN</td>\n",
       "      <td>NaN</td>\n",
       "      <td>NaN</td>\n",
       "    </tr>\n",
       "  </tbody>\n",
       "</table>\n",
       "<p>5 rows × 36 columns</p>\n",
       "</div>"
      ],
      "text/plain": [
       "     descriptor incident_zip x_coordinate_state_plane_  \\\n",
       "0  Rat Sighting        10023                    987231   \n",
       "1  Rat Sighting        11378                   1013601   \n",
       "2  Rat Sighting        11103                   1009282   \n",
       "3  Rat Sighting        11374                   1023190   \n",
       "4  Rat Sighting        10472                   1017766   \n",
       "\n",
       "              created_date                                           location  \\\n",
       "0  2020-03-01T00:32:41.000  {'latitude': '40.77421945878715', 'human_addre...   \n",
       "1  2020-02-29T23:00:22.000  {'latitude': '40.72403295808778', 'human_addre...   \n",
       "2  2020-02-29T22:19:31.000  {'latitude': '40.76639220669787', 'human_addre...   \n",
       "3  2020-02-29T22:07:07.000  {'latitude': '40.72997950637147', 'human_addre...   \n",
       "4  2020-02-29T21:11:35.000  {'latitude': '40.8274342564627', 'human_addres...   \n",
       "\n",
       "        city :@computed_region_sbqj_enih       cross_street_2  \\\n",
       "0   NEW YORK                          12  FREEDOM PLACE SOUTH   \n",
       "1    MASPETH                          62             69 PLACE   \n",
       "2    ASTORIA                          72            28 AVENUE   \n",
       "3  REGO PARK                          70            98 STREET   \n",
       "4      BRONX                          26   WESTCHESTER AVENUE   \n",
       "\n",
       "  :@computed_region_efsh_h5xi park_facility_name  ...           longitude  \\\n",
       "0                       10091        Unspecified  ...   -73.9892371845004   \n",
       "1                       14788        Unspecified  ...  -73.89410882860271   \n",
       "2                       16860        Unspecified  ...  -73.90963328356786   \n",
       "3                       14785        Unspecified  ...  -73.85950151820727   \n",
       "4                       11610        Unspecified  ...  -73.87889462284318   \n",
       "\n",
       "  :@computed_region_f5dn_yrer       status unique_key intersection_street_2  \\\n",
       "0                          20  In Progress   45723202   FREEDOM PLACE SOUTH   \n",
       "1                          54  In Progress   45722503              69 PLACE   \n",
       "2                          39  In Progress   45725479             28 AVENUE   \n",
       "3                          40  In Progress   45722505             98 STREET   \n",
       "4                          58  In Progress   45724727    WESTCHESTER AVENUE   \n",
       "\n",
       "  closed_date resolution_action_updated_date address_type due_date  \\\n",
       "0         NaN                            NaN          NaN      NaN   \n",
       "1         NaN                            NaN          NaN      NaN   \n",
       "2         NaN                            NaN          NaN      NaN   \n",
       "3         NaN                            NaN          NaN      NaN   \n",
       "4         NaN                            NaN          NaN      NaN   \n",
       "\n",
       "  facility_type  \n",
       "0           NaN  \n",
       "1           NaN  \n",
       "2           NaN  \n",
       "3           NaN  \n",
       "4           NaN  \n",
       "\n",
       "[5 rows x 36 columns]"
      ]
     },
     "execution_count": 41,
     "metadata": {},
     "output_type": "execute_result"
    }
   ],
   "source": [
    "rat_sightings.head()"
   ]
  },
  {
   "cell_type": "code",
   "execution_count": 43,
   "metadata": {},
   "outputs": [
    {
     "data": {
      "text/plain": [
       "{'Assigned', 'Closed', 'Draft', 'In Progress', 'Open', 'Pending'}"
      ]
     },
     "execution_count": 43,
     "metadata": {},
     "output_type": "execute_result"
    }
   ],
   "source": [
    "set(rat_sightings['status'])"
   ]
  },
  {
   "cell_type": "code",
   "execution_count": 74,
   "metadata": {
    "scrolled": false
   },
   "outputs": [
    {
     "data": {
      "text/html": [
       "<div>\n",
       "<style scoped>\n",
       "    .dataframe tbody tr th:only-of-type {\n",
       "        vertical-align: middle;\n",
       "    }\n",
       "\n",
       "    .dataframe tbody tr th {\n",
       "        vertical-align: top;\n",
       "    }\n",
       "\n",
       "    .dataframe thead th {\n",
       "        text-align: right;\n",
       "    }\n",
       "</style>\n",
       "<table border=\"1\" class=\"dataframe\">\n",
       "  <thead>\n",
       "    <tr style=\"text-align: right;\">\n",
       "      <th></th>\n",
       "      <th>incident_zip</th>\n",
       "      <th>created_date</th>\n",
       "      <th>borough</th>\n",
       "    </tr>\n",
       "  </thead>\n",
       "  <tbody>\n",
       "    <tr>\n",
       "      <th>0</th>\n",
       "      <td>10023</td>\n",
       "      <td>2020-03-01T00:32:41.000</td>\n",
       "      <td>MANHATTAN</td>\n",
       "    </tr>\n",
       "    <tr>\n",
       "      <th>1</th>\n",
       "      <td>11378</td>\n",
       "      <td>2020-02-29T23:00:22.000</td>\n",
       "      <td>QUEENS</td>\n",
       "    </tr>\n",
       "    <tr>\n",
       "      <th>2</th>\n",
       "      <td>11103</td>\n",
       "      <td>2020-02-29T22:19:31.000</td>\n",
       "      <td>QUEENS</td>\n",
       "    </tr>\n",
       "    <tr>\n",
       "      <th>3</th>\n",
       "      <td>11374</td>\n",
       "      <td>2020-02-29T22:07:07.000</td>\n",
       "      <td>QUEENS</td>\n",
       "    </tr>\n",
       "    <tr>\n",
       "      <th>4</th>\n",
       "      <td>10472</td>\n",
       "      <td>2020-02-29T21:11:35.000</td>\n",
       "      <td>BRONX</td>\n",
       "    </tr>\n",
       "  </tbody>\n",
       "</table>\n",
       "</div>"
      ],
      "text/plain": [
       "  incident_zip             created_date    borough\n",
       "0        10023  2020-03-01T00:32:41.000  MANHATTAN\n",
       "1        11378  2020-02-29T23:00:22.000     QUEENS\n",
       "2        11103  2020-02-29T22:19:31.000     QUEENS\n",
       "3        11374  2020-02-29T22:07:07.000     QUEENS\n",
       "4        10472  2020-02-29T21:11:35.000      BRONX"
      ]
     },
     "execution_count": 74,
     "metadata": {},
     "output_type": "execute_result"
    }
   ],
   "source": [
    "sightings = rat_sightings[['incident_zip', 'created_date', 'borough']]\n",
    "sightings.head()"
   ]
  },
  {
   "cell_type": "code",
   "execution_count": 75,
   "metadata": {},
   "outputs": [],
   "source": [
    "sightings = sightings.loc[sightings['borough']=='MANHATTAN'].drop(columns = 'borough')\n",
    "sightings = sightings.dropna()"
   ]
  },
  {
   "cell_type": "code",
   "execution_count": 76,
   "metadata": {},
   "outputs": [],
   "source": [
    "sightings = sightings.drop(sightings.loc[sightings['incident_zip']=='N/A'].index)\n",
    "sightings['incident_zip'] = sightings['incident_zip'].astype(int)"
   ]
  },
  {
   "cell_type": "code",
   "execution_count": 77,
   "metadata": {},
   "outputs": [
    {
     "name": "stdout",
     "output_type": "stream",
     "text": [
      "<class 'pandas.core.frame.DataFrame'>\n",
      "Int64Index: 37042 entries, 0 to 142886\n",
      "Data columns (total 2 columns):\n",
      " #   Column        Non-Null Count  Dtype \n",
      "---  ------        --------------  ----- \n",
      " 0   incident_zip  37042 non-null  int64 \n",
      " 1   created_date  37042 non-null  object\n",
      "dtypes: int64(1), object(1)\n",
      "memory usage: 868.2+ KB\n"
     ]
    }
   ],
   "source": [
    "sightings = sightings.loc[(sightings['incident_zip']>10000)&(sightings['incident_zip']<20000)]\n",
    "sightings.info()"
   ]
  },
  {
   "cell_type": "markdown",
   "metadata": {},
   "source": [
    "Export data as name \"rat_sightings.csv\":"
   ]
  },
  {
   "cell_type": "code",
   "execution_count": 78,
   "metadata": {},
   "outputs": [],
   "source": [
    "sightings.to_csv('../datasets/rat_sightings.csv', index=False)"
   ]
  },
  {
   "cell_type": "markdown",
   "metadata": {},
   "source": [
    "#### bbl_df.csv"
   ]
  },
  {
   "cell_type": "code",
   "execution_count": 79,
   "metadata": {},
   "outputs": [
    {
     "data": {
      "text/html": [
       "<div>\n",
       "<style scoped>\n",
       "    .dataframe tbody tr th:only-of-type {\n",
       "        vertical-align: middle;\n",
       "    }\n",
       "\n",
       "    .dataframe tbody tr th {\n",
       "        vertical-align: top;\n",
       "    }\n",
       "\n",
       "    .dataframe thead th {\n",
       "        text-align: right;\n",
       "    }\n",
       "</style>\n",
       "<table border=\"1\" class=\"dataframe\">\n",
       "  <thead>\n",
       "    <tr style=\"text-align: right;\">\n",
       "      <th></th>\n",
       "      <th>boro</th>\n",
       "      <th>block</th>\n",
       "      <th>lot</th>\n",
       "      <th>bin</th>\n",
       "      <th>lhnd</th>\n",
       "      <th>lhns</th>\n",
       "      <th>lcontpar</th>\n",
       "      <th>lsos</th>\n",
       "      <th>hhnd</th>\n",
       "      <th>hhns</th>\n",
       "      <th>...</th>\n",
       "      <th>addrtype</th>\n",
       "      <th>realb7sc</th>\n",
       "      <th>validlgcs</th>\n",
       "      <th>dapsflag</th>\n",
       "      <th>naubflag</th>\n",
       "      <th>parity</th>\n",
       "      <th>b10sc</th>\n",
       "      <th>segid</th>\n",
       "      <th>zipcode</th>\n",
       "      <th>physical_id</th>\n",
       "    </tr>\n",
       "  </thead>\n",
       "  <tbody>\n",
       "    <tr>\n",
       "      <th>0</th>\n",
       "      <td>1</td>\n",
       "      <td>00001</td>\n",
       "      <td>0010</td>\n",
       "      <td>1000000</td>\n",
       "      <td></td>\n",
       "      <td></td>\n",
       "      <td></td>\n",
       "      <td>R</td>\n",
       "      <td></td>\n",
       "      <td></td>\n",
       "      <td>...</td>\n",
       "      <td>N</td>\n",
       "      <td></td>\n",
       "      <td>01</td>\n",
       "      <td></td>\n",
       "      <td></td>\n",
       "      <td>0</td>\n",
       "      <td>10077201010</td>\n",
       "      <td>0117705</td>\n",
       "      <td>10004</td>\n",
       "      <td>0138883</td>\n",
       "    </tr>\n",
       "    <tr>\n",
       "      <th>1</th>\n",
       "      <td>1</td>\n",
       "      <td>00001</td>\n",
       "      <td>0010</td>\n",
       "      <td>1000000</td>\n",
       "      <td></td>\n",
       "      <td></td>\n",
       "      <td></td>\n",
       "      <td>R</td>\n",
       "      <td></td>\n",
       "      <td></td>\n",
       "      <td>...</td>\n",
       "      <td>N</td>\n",
       "      <td></td>\n",
       "      <td>01</td>\n",
       "      <td></td>\n",
       "      <td></td>\n",
       "      <td>0</td>\n",
       "      <td>10077301010</td>\n",
       "      <td>0115073</td>\n",
       "      <td>10004</td>\n",
       "      <td>0175748</td>\n",
       "    </tr>\n",
       "    <tr>\n",
       "      <th>2</th>\n",
       "      <td>1</td>\n",
       "      <td>00001</td>\n",
       "      <td>0010</td>\n",
       "      <td>1000000</td>\n",
       "      <td></td>\n",
       "      <td></td>\n",
       "      <td></td>\n",
       "      <td>R</td>\n",
       "      <td></td>\n",
       "      <td></td>\n",
       "      <td>...</td>\n",
       "      <td>N</td>\n",
       "      <td></td>\n",
       "      <td>01</td>\n",
       "      <td></td>\n",
       "      <td></td>\n",
       "      <td>0</td>\n",
       "      <td>10077401010</td>\n",
       "      <td>0018085</td>\n",
       "      <td>10004</td>\n",
       "      <td>0097424</td>\n",
       "    </tr>\n",
       "    <tr>\n",
       "      <th>3</th>\n",
       "      <td>1</td>\n",
       "      <td>00001</td>\n",
       "      <td>0010</td>\n",
       "      <td>1000000</td>\n",
       "      <td></td>\n",
       "      <td></td>\n",
       "      <td></td>\n",
       "      <td>R</td>\n",
       "      <td></td>\n",
       "      <td></td>\n",
       "      <td>...</td>\n",
       "      <td>N</td>\n",
       "      <td></td>\n",
       "      <td>01</td>\n",
       "      <td></td>\n",
       "      <td></td>\n",
       "      <td>0</td>\n",
       "      <td>10077501010</td>\n",
       "      <td>0299272</td>\n",
       "      <td>10004</td>\n",
       "      <td>0174909</td>\n",
       "    </tr>\n",
       "    <tr>\n",
       "      <th>4</th>\n",
       "      <td>1</td>\n",
       "      <td>00001</td>\n",
       "      <td>0010</td>\n",
       "      <td>1000000</td>\n",
       "      <td></td>\n",
       "      <td></td>\n",
       "      <td></td>\n",
       "      <td>L</td>\n",
       "      <td></td>\n",
       "      <td></td>\n",
       "      <td>...</td>\n",
       "      <td>N</td>\n",
       "      <td></td>\n",
       "      <td>01</td>\n",
       "      <td></td>\n",
       "      <td></td>\n",
       "      <td>0</td>\n",
       "      <td>10077601010</td>\n",
       "      <td>0317315</td>\n",
       "      <td>10004</td>\n",
       "      <td>0185204</td>\n",
       "    </tr>\n",
       "  </tbody>\n",
       "</table>\n",
       "<p>5 rows × 26 columns</p>\n",
       "</div>"
      ],
      "text/plain": [
       "  boro  block   lot      bin          lhnd         lhns lcontpar lsos  \\\n",
       "0    1  00001  0010  1000000                                        R   \n",
       "1    1  00001  0010  1000000                                        R   \n",
       "2    1  00001  0010  1000000                                        R   \n",
       "3    1  00001  0010  1000000                                        R   \n",
       "4    1  00001  0010  1000000                                        L   \n",
       "\n",
       "           hhnd         hhns  ... addrtype  realb7sc validlgcs dapsflag  \\\n",
       "0                             ...        N            01                  \n",
       "1                             ...        N            01                  \n",
       "2                             ...        N            01                  \n",
       "3                             ...        N            01                  \n",
       "4                             ...        N            01                  \n",
       "\n",
       "  naubflag parity        b10sc    segid zipcode physical_id  \n",
       "0               0  10077201010  0117705   10004     0138883  \n",
       "1               0  10077301010  0115073   10004     0175748  \n",
       "2               0  10077401010  0018085   10004     0097424  \n",
       "3               0  10077501010  0299272   10004     0174909  \n",
       "4               0  10077601010  0317315   10004     0185204  \n",
       "\n",
       "[5 rows x 26 columns]"
      ]
     },
     "execution_count": 79,
     "metadata": {},
     "output_type": "execute_result"
    }
   ],
   "source": [
    "# Read the dataset from loical folder:\n",
    "bbl_df = pd.read_csv('../pad20a/bobaadr.txt', dtype = {'boro':str, 'block':str, 'lot': str})\n",
    "bbl_df.head()"
   ]
  },
  {
   "cell_type": "code",
   "execution_count": 80,
   "metadata": {
    "scrolled": true
   },
   "outputs": [
    {
     "name": "stdout",
     "output_type": "stream",
     "text": [
      "<class 'pandas.core.frame.DataFrame'>\n",
      "Int64Index: 43090 entries, 0 to 68105\n",
      "Data columns (total 2 columns):\n",
      " #   Column   Non-Null Count  Dtype\n",
      "---  ------   --------------  -----\n",
      " 0   bbl      43090 non-null  int64\n",
      " 1   zipcode  43090 non-null  int64\n",
      "dtypes: int64(2)\n",
      "memory usage: 1009.9 KB\n"
     ]
    }
   ],
   "source": [
    "# Take only Manhattan, where 'boro' == 1\n",
    "bbl_df = bbl_df.loc[bbl_df['boro']=='1']\n",
    "\n",
    "# Create a new column named \"bbl\" which is combined by 3 parts: boro, block and lot.\n",
    "bbl_df['bbl'] = (bbl_df['boro']+bbl_df['block']+bbl_df['lot']).astype(int)\n",
    "\n",
    "# Drop the raws with empty zipcode:\n",
    "bbl_df = bbl_df.drop(bbl_df.loc[bbl_df['zipcode']=='     '].index)\n",
    "bbl_df['zipcode'] = bbl_df['zipcode'].astype(int)\n",
    "bbl_df = bbl_df.loc[bbl_df['zipcode']>10000]\n",
    "\n",
    "# Keep only columns we need:\n",
    "bbl_df = bbl_df[['bbl', 'zipcode']]\n",
    "\n",
    "#  Drop duplicate rows and check the data frame infomation:\n",
    "bbl_df = bbl_df.drop_duplicates()\n",
    "bbl_df.info()"
   ]
  },
  {
   "cell_type": "code",
   "execution_count": 81,
   "metadata": {},
   "outputs": [
    {
     "data": {
      "text/plain": [
       "count    43090.000000\n",
       "mean     10028.937781\n",
       "std         47.148938\n",
       "min      10001.000000\n",
       "25%      10013.000000\n",
       "50%      10024.000000\n",
       "75%      10031.000000\n",
       "max      12345.000000\n",
       "Name: zipcode, dtype: float64"
      ]
     },
     "execution_count": 81,
     "metadata": {},
     "output_type": "execute_result"
    }
   ],
   "source": [
    "bbl_df['zipcode'].describe()"
   ]
  },
  {
   "cell_type": "code",
   "execution_count": null,
   "metadata": {},
   "outputs": [],
   "source": []
  },
  {
   "cell_type": "markdown",
   "metadata": {},
   "source": [
    "Export data as name \"bbl_df.csv\""
   ]
  },
  {
   "cell_type": "code",
   "execution_count": 82,
   "metadata": {},
   "outputs": [],
   "source": [
    "bbl_df.to_csv('../datasets/bbl_df.csv', index=False)"
   ]
  },
  {
   "cell_type": "code",
   "execution_count": null,
   "metadata": {},
   "outputs": [],
   "source": []
  }
 ],
 "metadata": {
  "kernelspec": {
   "display_name": "Python 3",
   "language": "python",
   "name": "python3"
  },
  "language_info": {
   "codemirror_mode": {
    "name": "ipython",
    "version": 3
   },
   "file_extension": ".py",
   "mimetype": "text/x-python",
   "name": "python",
   "nbconvert_exporter": "python",
   "pygments_lexer": "ipython3",
   "version": "3.7.3"
  }
 },
 "nbformat": 4,
 "nbformat_minor": 2
}

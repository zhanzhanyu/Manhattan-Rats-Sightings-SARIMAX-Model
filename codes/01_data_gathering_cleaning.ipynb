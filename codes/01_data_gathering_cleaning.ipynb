{
 "cells": [
  {
   "cell_type": "markdown",
   "metadata": {},
   "source": [
    "# Rats Sightings in Manhattan NYC\n",
    "\n",
    "## 01. Data Gathering and Data Preprocessing\n",
    "---\n",
    "Author: _Zhan Yu_"
   ]
  },
  {
   "cell_type": "markdown",
   "metadata": {},
   "source": [
    "## Table of Contents\n",
    "- [Loading Libraries](#Loading-Libraries)\n",
    "- [Data Gathering](#Data-Gathering)\n",
    "    - [Socrata](#Socrata)\n",
    "    - [Restaurant Data](#Restaurant-Data)\n",
    "    - [Census Data](#Census-Data)\n",
    "- [Data Preprocessing](#Data-Preprocessing)\n",
    "    - [rats.csv](#rats.csv)\n",
    "    - [rat_sightings.csv](#rat_sightings.csv)"
   ]
  },
  {
   "cell_type": "markdown",
   "metadata": {},
   "source": [
    "## Loading Libraries"
   ]
  },
  {
   "cell_type": "code",
   "execution_count": 1,
   "metadata": {},
   "outputs": [],
   "source": [
    "# Libraries: \n",
    "import pandas as pd\n",
    "import numpy as np\n",
    "import os\n",
    "import requests\n",
    "import json\n",
    "\n",
    "# Install packages at the current environment first\n",
    "from sodapy import Socrata\n",
    "\n",
    "import warnings\n",
    "warnings.simplefilter(action=\"ignore\")"
   ]
  },
  {
   "cell_type": "markdown",
   "metadata": {},
   "source": [
    "## Data Gathering"
   ]
  },
  {
   "cell_type": "markdown",
   "metadata": {},
   "source": [
    "In this project, the datasets [Rodent Inspection in NYC](https://data.cityofnewyork.us/Health/Rodent-Inspection/p937-wjvj) and [Rat Sightings](https://data.cityofnewyork.us/Social-Services/Rat-Sightings/3q43-55fe) are public datasets from data.cityofnewyork.us. The census data are from [United States Census Bureau](https://www.census.gov/en.html)."
   ]
  },
  {
   "cell_type": "markdown",
   "metadata": {},
   "source": [
    "### Socrata \n",
    "\n",
    "The Socrata APIs provide rich query functionality through a query language we call the “Socrata Query Language” or “SoQL”.   \n",
    "Install packages at the current environment (for example, mine is (dsi)) before running:\n",
    "``` Terminal\n",
    "pip install sodapy\n",
    "```\n",
    "From [NYC Open Data](https://opendata.cityofnewyork.us/), we can load Rodent Inspection dataset and Rat Sightings dataset by using `Socrata`. Unauthenticated client only works with public data sets. Note `None` in place of application token, and no username or password. In these two cases they are all public datasets."
   ]
  },
  {
   "cell_type": "code",
   "execution_count": 2,
   "metadata": {},
   "outputs": [
    {
     "name": "stderr",
     "output_type": "stream",
     "text": [
      "WARNING:root:Requests made without an app_token will be subject to strict throttling limits.\n"
     ]
    }
   ],
   "source": [
    "client = Socrata(\"data.cityofnewyork.us\", None)\n",
    "\n",
    "# First 1,000,000 results, returned as JSON from API / converted to Python list of dictionaries by sodapy.\n",
    "results = client.get(\"p937-wjvj\",                                # Rodent Inspection dataset\n",
    "                     limit=1_000_000, where=\"boro_code = 1\")     # Manhattan only\n",
    "\n",
    "# Convert to pandas DataFrame\n",
    "rats = pd.DataFrame.from_records(results)"
   ]
  },
  {
   "cell_type": "code",
   "execution_count": 3,
   "metadata": {},
   "outputs": [],
   "source": [
    "# First 150,000 results, returned as JSON from API / converted to Python list of\n",
    "# dictionaries by sodapy.\n",
    "\n",
    "results = client.get(\"3q43-55fe\",                                # Rat Sightings dataset\n",
    "                     limit=150_000)\n",
    "\n",
    "# Convert to pandas DataFrame\n",
    "rat_sightings = pd.DataFrame.from_records(results)"
   ]
  },
  {
   "cell_type": "markdown",
   "metadata": {},
   "source": [
    "Because the datasets are too big (about 200 MB), we are going to do some data cleaning and trimming before we export them."
   ]
  },
  {
   "cell_type": "markdown",
   "metadata": {},
   "source": [
    "### Restaurant Data"
   ]
  },
  {
   "cell_type": "markdown",
   "metadata": {},
   "source": [
    "From [United States Census Bureau](https://www.census.gov/en.html) we are using [ZIP Codes Business Patterns from 2010 to 2017](https://www.census.gov/data/developers/data-sets/cbp-nonemp-zbp/zbp-api.2010.html). The API key is not needed. [Code reference](https://towardsdatascience.com/getting-census-data-in-5-easy-steps-a08eeb63995d)"
   ]
  },
  {
   "cell_type": "markdown",
   "metadata": {},
   "source": [
    "We are going to look at zip codes in Manhattan based on the `rats.csv`."
   ]
  },
  {
   "cell_type": "code",
   "execution_count": 4,
   "metadata": {},
   "outputs": [],
   "source": [
    "# Zip codes in Manhattan:\n",
    "zip_manhattan = set(rats['zip_code'].dropna().astype(int))\n",
    "\n",
    "# Remove unwanted zip codes:\n",
    "zip_manhattan.remove(0)\n",
    "zip_manhattan.remove(10000) "
   ]
  },
  {
   "cell_type": "markdown",
   "metadata": {},
   "source": [
    "We are able to get 2010 - 2017 Business Patterns with codes of \"Food services and drinking places\" from United States Census Bureau. However, the 2018 Business Patterns data are not on the website yet, so we will put the estimate numbers in 2018 since the numbers of restaurants in zip code 10002 have not been changing much."
   ]
  },
  {
   "cell_type": "code",
   "execution_count": 5,
   "metadata": {},
   "outputs": [],
   "source": [
    "# Iniatiate an empty data frame:\n",
    "zip_res_yr = pd.DataFrame(columns=['zipcode', 'type', 'count', 'year'], data=[]) \n",
    "\n",
    "# From 2010 to 2011:\n",
    "for year in range(2010,2012):\n",
    "    \n",
    "    #zipcode in Manhattan:\n",
    "    for zipcode in zip_manhattan:       \n",
    "        \n",
    "        try:\n",
    "            # \"ESTAB\": Number of establishments\n",
    "            # \"72\": \"Food services and drinking places\"\n",
    "            baseAPI = f\"https://api.census.gov/data/{year}/zbp?get=ESTAB&for=zipcode:{zipcode}&NAICS2007=72\"\n",
    "            response = requests.get(baseAPI)\n",
    "            formattedResponse = json.loads(response.text)[1:]\n",
    "            formattedResponse = [item[::-1] for item in formattedResponse]\n",
    "            \n",
    "            # Store the response in a dataframe\n",
    "            zip_res = pd.DataFrame(columns=['zipcode','type', 'count'], data=formattedResponse)\n",
    "            zip_res['year'] = year\n",
    "            zip_res_yr = pd.concat([zip_res_yr, zip_res], ignore_index=True)\n",
    "            \n",
    "        except:\n",
    "            pass\n",
    "\n",
    "# From 2012 to 2016:\n",
    "for year in range(2012,2017):\n",
    "    \n",
    "    #zipcode in Manhattan:\n",
    "    for zipcode in zip_manhattan:\n",
    "        \n",
    "        try:            \n",
    "            # \"ESTAB\": Number of establishments\n",
    "            # \"722\": \"Food services and drinking places\"\n",
    "            baseAPI = f\"https://api.census.gov/data/{year}/zbp?get=ESTAB&for=zipcode:{zipcode}&NAICS2012=722\"\n",
    "            response = requests.get(baseAPI)\n",
    "            formattedResponse = json.loads(response.text)[1:]\n",
    "            formattedResponse = [item[::-1] for item in formattedResponse]\n",
    "            \n",
    "            # Store the response in a dataframe\n",
    "            zip_res = pd.DataFrame(columns=['zipcode','type', 'count'], data=formattedResponse)\n",
    "            zip_res['year'] = year\n",
    "            zip_res_yr = pd.concat([zip_res_yr, zip_res], ignore_index=True)\n",
    "            \n",
    "        except:\n",
    "            pass\n",
    "\n",
    "# Year 2017        \n",
    "for zipcode in zip_manhattan:\n",
    "    try:            \n",
    "        # \"ESTAB\": Number of establishments\n",
    "        # \"722\": \"Food services and drinking places\"\n",
    "        baseAPI = f\"https://api.census.gov/data/2017/zbp?get=ESTAB&for=zipcode:{zipcode}&NAICS2017=722\"\n",
    "        response = requests.get(baseAPI)\n",
    "        formattedResponse = json.loads(response.text)[1:]\n",
    "        formattedResponse = [item[::-1] for item in formattedResponse]\n",
    "            \n",
    "        # Store the response in a dataframe\n",
    "        zip_res = pd.DataFrame(columns=['zipcode','type', 'count'], data=formattedResponse)\n",
    "        zip_res['year'] = 2017\n",
    "        zip_res_yr = pd.concat([zip_res_yr, zip_res], ignore_index=True)\n",
    "            \n",
    "    except:\n",
    "        pass\n",
    "zip_res_yr= zip_res_yr.astype(int)\n",
    "\n",
    "# Getting 'zip_year' for future merging:\n",
    "zip_res_yr['zip_year'] = zip_res_yr['zipcode'].astype(str) + ' ' + zip_res_yr['year'].astype(str)"
   ]
  },
  {
   "cell_type": "code",
   "execution_count": 6,
   "metadata": {
    "scrolled": true
   },
   "outputs": [
    {
     "name": "stdout",
     "output_type": "stream",
     "text": [
      "<class 'pandas.core.frame.DataFrame'>\n",
      "RangeIndex: 594 entries, 0 to 593\n",
      "Data columns (total 2 columns):\n",
      "zip_year    594 non-null object\n",
      "count       594 non-null int64\n",
      "dtypes: int64(1), object(1)\n",
      "memory usage: 9.4+ KB\n"
     ]
    }
   ],
   "source": [
    "zip_res_year = zip_res_yr[['zip_year', 'count']]\n",
    "zip_res_year.info()"
   ]
  },
  {
   "cell_type": "code",
   "execution_count": 7,
   "metadata": {},
   "outputs": [],
   "source": [
    "# Considering 2018 and 2017 have the same number of restaurants:\n",
    "for zipcode in zip_manhattan:\n",
    "    try:\n",
    "        count = zip_res_year.loc[zip_res_year['zip_year']==str(zipcode)+' 2017']['count'].values[0]\n",
    "        df = pd.DataFrame(columns = ['zip_year', 'count'], data = [[str(zipcode)+' 2018', count]])\n",
    "        zip_res_year = pd.concat([zip_res_year, df], ignore_index=True)\n",
    "    except:\n",
    "            pass"
   ]
  },
  {
   "cell_type": "code",
   "execution_count": 8,
   "metadata": {},
   "outputs": [],
   "source": [
    "# Export data as name \"zip_res_yr.csv\":\n",
    "zip_res_year.to_csv('../datasets/zip_res_yr.csv', index=False)"
   ]
  },
  {
   "cell_type": "markdown",
   "metadata": {},
   "source": [
    "### Census Data"
   ]
  },
  {
   "cell_type": "markdown",
   "metadata": {},
   "source": [
    "From [United States Census Bureau](https://www.census.gov/en.html) we will use \"ACS 5-Year Data\" from 2011 to 2018 and \"Decennial Census\" of 2010.  \n",
    "First we need to get our an API key from [HERE](https://api.census.gov/data/key_signup.html)."
   ]
  },
  {
   "cell_type": "code",
   "execution_count": 9,
   "metadata": {},
   "outputs": [],
   "source": [
    "api_key = 'API KEY'"
   ]
  },
  {
   "cell_type": "code",
   "execution_count": 10,
   "metadata": {},
   "outputs": [],
   "source": [
    "# Initiate an empty data frame 'zip_pop_yr' which has columns 'zipcode', 'population' and 'year':\n",
    "zip_pop_yr = pd.DataFrame(columns=['zipcode', 'population', 'year'], data=[]) \n",
    "# 2010 Census data:\n",
    "for zipcode in zip_manhattan:\n",
    "    try:\n",
    "        baseAPI = f\"https://api.census.gov/data/2010/dec/sf1?key={api_key}&get=H010001&for=zip%20code%20tabulation%20area:{zipcode}\"\n",
    "        response = requests.get(baseAPI)\n",
    "        formattedResponse = json.loads(response.text)[1:]\n",
    "        formattedResponse = [item[::-1] for item in formattedResponse]\n",
    "        \n",
    "        # Store the response in a dataframe\n",
    "        zip_pop = pd.DataFrame(columns=['zipcode', 'population'], data=formattedResponse)\n",
    "        zip_pop['year'] = 2010\n",
    "        zip_pop_yr = pd.concat([zip_pop_yr, zip_pop], ignore_index=True)\n",
    "        \n",
    "    except:\n",
    "        pass"
   ]
  },
  {
   "cell_type": "code",
   "execution_count": 11,
   "metadata": {},
   "outputs": [],
   "source": [
    "# 2011-2018 American Community Survey 5-Year Data:\n",
    "acs_table = 'B01003_001E'  # Code of \"Total population\" \n",
    "\n",
    "# From 2011 to 2018:\n",
    "for year in range(2011,2019):\n",
    "    \n",
    "    #zipcode in Manhattan:\n",
    "    for zipcode in zip_manhattan:\n",
    "        \n",
    "        try:\n",
    "            \n",
    "            baseAPI = f\"https://api.census.gov/data/{year}/acs/acs5?key={api_key}&get={acs_table}&for=zip%20code%20tabulation%20area:{zipcode}\"\n",
    "            response = requests.get(baseAPI)\n",
    "            formattedResponse = json.loads(response.text)[1:]\n",
    "            formattedResponse = [item[::-1] for item in formattedResponse]\n",
    "            \n",
    "            # Store the response in a dataframe\n",
    "            zip_pop = pd.DataFrame(columns=['zipcode', 'population'], data=formattedResponse)\n",
    "            zip_pop['year'] = year\n",
    "            zip_pop_yr = pd.concat([zip_pop_yr, zip_pop], ignore_index=True)\n",
    "            \n",
    "        except:\n",
    "            pass\n",
    "        \n",
    "zip_pop_yr= zip_pop_yr.astype(int)\n"
   ]
  },
  {
   "cell_type": "code",
   "execution_count": 12,
   "metadata": {},
   "outputs": [],
   "source": [
    "# Export data as name \"zip_pop_yr.csv\":\n",
    "zip_pop_yr.to_csv('../datasets/zip_pop_yr.csv', index=False)"
   ]
  },
  {
   "cell_type": "markdown",
   "metadata": {},
   "source": [
    "## Data Preprocessing"
   ]
  },
  {
   "cell_type": "markdown",
   "metadata": {},
   "source": [
    "### rats.csv  "
   ]
  },
  {
   "cell_type": "code",
   "execution_count": 13,
   "metadata": {
    "scrolled": true
   },
   "outputs": [
    {
     "data": {
      "text/html": [
       "<div>\n",
       "<style scoped>\n",
       "    .dataframe tbody tr th:only-of-type {\n",
       "        vertical-align: middle;\n",
       "    }\n",
       "\n",
       "    .dataframe tbody tr th {\n",
       "        vertical-align: top;\n",
       "    }\n",
       "\n",
       "    .dataframe thead th {\n",
       "        text-align: right;\n",
       "    }\n",
       "</style>\n",
       "<table border=\"1\" class=\"dataframe\">\n",
       "  <thead>\n",
       "    <tr style=\"text-align: right;\">\n",
       "      <th></th>\n",
       "      <th>inspection_type</th>\n",
       "      <th>job_ticket_or_work_order_id</th>\n",
       "      <th>job_progress</th>\n",
       "      <th>bbl</th>\n",
       "      <th>boro_code</th>\n",
       "      <th>block</th>\n",
       "      <th>lot</th>\n",
       "      <th>house_number</th>\n",
       "      <th>street_name</th>\n",
       "      <th>zip_code</th>\n",
       "      <th>x_coord</th>\n",
       "      <th>y_coord</th>\n",
       "      <th>latitude</th>\n",
       "      <th>longitude</th>\n",
       "      <th>borough</th>\n",
       "      <th>inspection_date</th>\n",
       "      <th>result</th>\n",
       "      <th>approved_date</th>\n",
       "      <th>location</th>\n",
       "    </tr>\n",
       "    <tr>\n",
       "      <th>job_id</th>\n",
       "      <th></th>\n",
       "      <th></th>\n",
       "      <th></th>\n",
       "      <th></th>\n",
       "      <th></th>\n",
       "      <th></th>\n",
       "      <th></th>\n",
       "      <th></th>\n",
       "      <th></th>\n",
       "      <th></th>\n",
       "      <th></th>\n",
       "      <th></th>\n",
       "      <th></th>\n",
       "      <th></th>\n",
       "      <th></th>\n",
       "      <th></th>\n",
       "      <th></th>\n",
       "      <th></th>\n",
       "      <th></th>\n",
       "    </tr>\n",
       "  </thead>\n",
       "  <tbody>\n",
       "    <tr>\n",
       "      <th>PO2104504</th>\n",
       "      <td>BAIT</td>\n",
       "      <td>523484</td>\n",
       "      <td>4</td>\n",
       "      <td>1020110053</td>\n",
       "      <td>1</td>\n",
       "      <td>02011</td>\n",
       "      <td>0053</td>\n",
       "      <td>138</td>\n",
       "      <td>WEST  143 STREET</td>\n",
       "      <td>10030</td>\n",
       "      <td>1001245</td>\n",
       "      <td>237933</td>\n",
       "      <td>40.81972411373</td>\n",
       "      <td>-73.9385975302</td>\n",
       "      <td>Manhattan</td>\n",
       "      <td>2020-01-07T11:30:25.000</td>\n",
       "      <td>Monitoring visit</td>\n",
       "      <td>2020-03-09T11:28:53.000</td>\n",
       "      <td>{'latitude': '40.81972411373', 'longitude': '-...</td>\n",
       "    </tr>\n",
       "    <tr>\n",
       "      <th>PO2086583</th>\n",
       "      <td>BAIT</td>\n",
       "      <td>523490</td>\n",
       "      <td>9</td>\n",
       "      <td>1019420035</td>\n",
       "      <td>1</td>\n",
       "      <td>01942</td>\n",
       "      <td>0035</td>\n",
       "      <td>2330</td>\n",
       "      <td>ADAM C POWELL BOULEVARD</td>\n",
       "      <td>10030</td>\n",
       "      <td>1000034</td>\n",
       "      <td>236688</td>\n",
       "      <td>40.816309165023</td>\n",
       "      <td>-73.942975778265</td>\n",
       "      <td>Manhattan</td>\n",
       "      <td>2020-01-07T12:00:56.000</td>\n",
       "      <td>Bait applied</td>\n",
       "      <td>2020-03-09T11:22:28.000</td>\n",
       "      <td>{'latitude': '40.816309165023', 'longitude': '...</td>\n",
       "    </tr>\n",
       "    <tr>\n",
       "      <th>PO2112174</th>\n",
       "      <td>BAIT</td>\n",
       "      <td>523481</td>\n",
       "      <td>4</td>\n",
       "      <td>1019060061</td>\n",
       "      <td>1</td>\n",
       "      <td>01906</td>\n",
       "      <td>0061</td>\n",
       "      <td>2039</td>\n",
       "      <td>ADAM C POWELL BOULEVARD</td>\n",
       "      <td>10027</td>\n",
       "      <td>998148</td>\n",
       "      <td>233272</td>\n",
       "      <td>40.806936299002</td>\n",
       "      <td>-73.949796592215</td>\n",
       "      <td>Manhattan</td>\n",
       "      <td>2020-01-07T09:30:41.000</td>\n",
       "      <td>Bait applied</td>\n",
       "      <td>2020-03-09T11:27:18.000</td>\n",
       "      <td>{'latitude': '40.806936299002', 'longitude': '...</td>\n",
       "    </tr>\n",
       "    <tr>\n",
       "      <th>PO2128168</th>\n",
       "      <td>BAIT</td>\n",
       "      <td>523487</td>\n",
       "      <td>4</td>\n",
       "      <td>1019670008</td>\n",
       "      <td>1</td>\n",
       "      <td>01967</td>\n",
       "      <td>0008</td>\n",
       "      <td>431</td>\n",
       "      <td>WEST 126 STREET</td>\n",
       "      <td>10027</td>\n",
       "      <td>996816</td>\n",
       "      <td>235437</td>\n",
       "      <td>40.812880674409</td>\n",
       "      <td>-73.954604074021</td>\n",
       "      <td>Manhattan</td>\n",
       "      <td>2020-01-07T10:45:20.000</td>\n",
       "      <td>Bait applied</td>\n",
       "      <td>2020-03-09T11:31:44.000</td>\n",
       "      <td>{'latitude': '40.812880674409', 'longitude': '...</td>\n",
       "    </tr>\n",
       "    <tr>\n",
       "      <th>PO2128166</th>\n",
       "      <td>BAIT</td>\n",
       "      <td>523485</td>\n",
       "      <td>4</td>\n",
       "      <td>1019670012</td>\n",
       "      <td>1</td>\n",
       "      <td>01967</td>\n",
       "      <td>0012</td>\n",
       "      <td>423</td>\n",
       "      <td>WEST 126 STREET</td>\n",
       "      <td>10027</td>\n",
       "      <td>996850</td>\n",
       "      <td>235387</td>\n",
       "      <td>40.812743388588</td>\n",
       "      <td>-73.954481339882</td>\n",
       "      <td>Manhattan</td>\n",
       "      <td>2020-01-07T10:30:09.000</td>\n",
       "      <td>Bait applied</td>\n",
       "      <td>2020-03-09T11:29:33.000</td>\n",
       "      <td>{'latitude': '40.812743388588', 'longitude': '...</td>\n",
       "    </tr>\n",
       "  </tbody>\n",
       "</table>\n",
       "</div>"
      ],
      "text/plain": [
       "          inspection_type job_ticket_or_work_order_id job_progress  \\\n",
       "job_id                                                               \n",
       "PO2104504            BAIT                      523484            4   \n",
       "PO2086583            BAIT                      523490            9   \n",
       "PO2112174            BAIT                      523481            4   \n",
       "PO2128168            BAIT                      523487            4   \n",
       "PO2128166            BAIT                      523485            4   \n",
       "\n",
       "                  bbl boro_code  block   lot house_number  \\\n",
       "job_id                                                      \n",
       "PO2104504  1020110053         1  02011  0053          138   \n",
       "PO2086583  1019420035         1  01942  0035         2330   \n",
       "PO2112174  1019060061         1  01906  0061         2039   \n",
       "PO2128168  1019670008         1  01967  0008          431   \n",
       "PO2128166  1019670012         1  01967  0012          423   \n",
       "\n",
       "                       street_name zip_code  x_coord y_coord         latitude  \\\n",
       "job_id                                                                          \n",
       "PO2104504         WEST  143 STREET    10030  1001245  237933   40.81972411373   \n",
       "PO2086583  ADAM C POWELL BOULEVARD    10030  1000034  236688  40.816309165023   \n",
       "PO2112174  ADAM C POWELL BOULEVARD    10027   998148  233272  40.806936299002   \n",
       "PO2128168          WEST 126 STREET    10027   996816  235437  40.812880674409   \n",
       "PO2128166          WEST 126 STREET    10027   996850  235387  40.812743388588   \n",
       "\n",
       "                  longitude    borough          inspection_date  \\\n",
       "job_id                                                            \n",
       "PO2104504    -73.9385975302  Manhattan  2020-01-07T11:30:25.000   \n",
       "PO2086583  -73.942975778265  Manhattan  2020-01-07T12:00:56.000   \n",
       "PO2112174  -73.949796592215  Manhattan  2020-01-07T09:30:41.000   \n",
       "PO2128168  -73.954604074021  Manhattan  2020-01-07T10:45:20.000   \n",
       "PO2128166  -73.954481339882  Manhattan  2020-01-07T10:30:09.000   \n",
       "\n",
       "                     result            approved_date  \\\n",
       "job_id                                                 \n",
       "PO2104504  Monitoring visit  2020-03-09T11:28:53.000   \n",
       "PO2086583      Bait applied  2020-03-09T11:22:28.000   \n",
       "PO2112174      Bait applied  2020-03-09T11:27:18.000   \n",
       "PO2128168      Bait applied  2020-03-09T11:31:44.000   \n",
       "PO2128166      Bait applied  2020-03-09T11:29:33.000   \n",
       "\n",
       "                                                    location  \n",
       "job_id                                                        \n",
       "PO2104504  {'latitude': '40.81972411373', 'longitude': '-...  \n",
       "PO2086583  {'latitude': '40.816309165023', 'longitude': '...  \n",
       "PO2112174  {'latitude': '40.806936299002', 'longitude': '...  \n",
       "PO2128168  {'latitude': '40.812880674409', 'longitude': '...  \n",
       "PO2128166  {'latitude': '40.812743388588', 'longitude': '...  "
      ]
     },
     "execution_count": 13,
     "metadata": {},
     "output_type": "execute_result"
    }
   ],
   "source": [
    "# Setting the index to 'job_id':\n",
    "rats.set_index('job_id',inplace = True)\n",
    "rats.head()"
   ]
  },
  {
   "cell_type": "code",
   "execution_count": 14,
   "metadata": {
    "scrolled": true
   },
   "outputs": [
    {
     "data": {
      "text/plain": [
       "(594546, 19)"
      ]
     },
     "execution_count": 14,
     "metadata": {},
     "output_type": "execute_result"
    }
   ],
   "source": [
    "# Check the shape of data frame:\n",
    "rats.shape"
   ]
  },
  {
   "cell_type": "markdown",
   "metadata": {},
   "source": [
    "After taking a first look at our dataset, we have a general idea of features of dataset. We are going to only keep the features we need."
   ]
  },
  {
   "cell_type": "code",
   "execution_count": 15,
   "metadata": {
    "scrolled": false
   },
   "outputs": [
    {
     "data": {
      "text/html": [
       "<div>\n",
       "<style scoped>\n",
       "    .dataframe tbody tr th:only-of-type {\n",
       "        vertical-align: middle;\n",
       "    }\n",
       "\n",
       "    .dataframe tbody tr th {\n",
       "        vertical-align: top;\n",
       "    }\n",
       "\n",
       "    .dataframe thead th {\n",
       "        text-align: right;\n",
       "    }\n",
       "</style>\n",
       "<table border=\"1\" class=\"dataframe\">\n",
       "  <thead>\n",
       "    <tr style=\"text-align: right;\">\n",
       "      <th></th>\n",
       "      <th>inspection_type</th>\n",
       "      <th>zip_code</th>\n",
       "      <th>inspection_date</th>\n",
       "    </tr>\n",
       "    <tr>\n",
       "      <th>job_id</th>\n",
       "      <th></th>\n",
       "      <th></th>\n",
       "      <th></th>\n",
       "    </tr>\n",
       "  </thead>\n",
       "  <tbody>\n",
       "    <tr>\n",
       "      <th>PO2104504</th>\n",
       "      <td>BAIT</td>\n",
       "      <td>10030</td>\n",
       "      <td>2020-01-07T11:30:25.000</td>\n",
       "    </tr>\n",
       "    <tr>\n",
       "      <th>PO2086583</th>\n",
       "      <td>BAIT</td>\n",
       "      <td>10030</td>\n",
       "      <td>2020-01-07T12:00:56.000</td>\n",
       "    </tr>\n",
       "    <tr>\n",
       "      <th>PO2112174</th>\n",
       "      <td>BAIT</td>\n",
       "      <td>10027</td>\n",
       "      <td>2020-01-07T09:30:41.000</td>\n",
       "    </tr>\n",
       "    <tr>\n",
       "      <th>PO2128168</th>\n",
       "      <td>BAIT</td>\n",
       "      <td>10027</td>\n",
       "      <td>2020-01-07T10:45:20.000</td>\n",
       "    </tr>\n",
       "    <tr>\n",
       "      <th>PO2128166</th>\n",
       "      <td>BAIT</td>\n",
       "      <td>10027</td>\n",
       "      <td>2020-01-07T10:30:09.000</td>\n",
       "    </tr>\n",
       "  </tbody>\n",
       "</table>\n",
       "</div>"
      ],
      "text/plain": [
       "          inspection_type zip_code          inspection_date\n",
       "job_id                                                     \n",
       "PO2104504            BAIT    10030  2020-01-07T11:30:25.000\n",
       "PO2086583            BAIT    10030  2020-01-07T12:00:56.000\n",
       "PO2112174            BAIT    10027  2020-01-07T09:30:41.000\n",
       "PO2128168            BAIT    10027  2020-01-07T10:45:20.000\n",
       "PO2128166            BAIT    10027  2020-01-07T10:30:09.000"
      ]
     },
     "execution_count": 15,
     "metadata": {},
     "output_type": "execute_result"
    }
   ],
   "source": [
    "rats_df = rats[['inspection_type',\n",
    "                'zip_code','inspection_date']]\n",
    "rats_df.head()"
   ]
  },
  {
   "cell_type": "code",
   "execution_count": 16,
   "metadata": {},
   "outputs": [
    {
     "data": {
      "text/plain": [
       "inspection_type    0.000000\n",
       "zip_code           0.004043\n",
       "inspection_date    0.000000\n",
       "dtype: float64"
      ]
     },
     "execution_count": 16,
     "metadata": {},
     "output_type": "execute_result"
    }
   ],
   "source": [
    "rats_df.isnull().mean()"
   ]
  },
  {
   "cell_type": "markdown",
   "metadata": {},
   "source": [
    "Since the missing values have very small percentage of total dataset, we can drop all the rows with missing values and still have a relatively large dataset."
   ]
  },
  {
   "cell_type": "code",
   "execution_count": 17,
   "metadata": {},
   "outputs": [
    {
     "data": {
      "text/plain": [
       "(592142, 3)"
      ]
     },
     "execution_count": 17,
     "metadata": {},
     "output_type": "execute_result"
    }
   ],
   "source": [
    "rats_df.dropna(inplace = True)\n",
    "rats_df.shape"
   ]
  },
  {
   "cell_type": "markdown",
   "metadata": {},
   "source": [
    "We are going to check and change the original data types:"
   ]
  },
  {
   "cell_type": "code",
   "execution_count": 18,
   "metadata": {
    "scrolled": false
   },
   "outputs": [
    {
     "data": {
      "text/plain": [
       "inspection_type    object\n",
       "zip_code           object\n",
       "inspection_date    object\n",
       "dtype: object"
      ]
     },
     "execution_count": 18,
     "metadata": {},
     "output_type": "execute_result"
    }
   ],
   "source": [
    "# Checking the original data types:\n",
    "rats_df.dtypes"
   ]
  },
  {
   "cell_type": "code",
   "execution_count": 19,
   "metadata": {},
   "outputs": [
    {
     "data": {
      "text/plain": [
       "inspection_type            object\n",
       "zip_code                    int64\n",
       "inspection_date    datetime64[ns]\n",
       "dtype: object"
      ]
     },
     "execution_count": 19,
     "metadata": {},
     "output_type": "execute_result"
    }
   ],
   "source": [
    "# Changing date columns into datetime form: \n",
    "rats_df['inspection_date'] = pd.to_datetime(rats_df['inspection_date'])\n",
    "\n",
    "# Changing those columns which seem like numerical but actually strings:\n",
    "rats_df['zip_code']=rats_df['zip_code'].astype(int)\n",
    "\n",
    "# Checking data types again:\n",
    "rats_df.dtypes"
   ]
  },
  {
   "cell_type": "markdown",
   "metadata": {},
   "source": [
    "We are setting out dataset in chronological order because the time range of our data set is more than 100 years."
   ]
  },
  {
   "cell_type": "code",
   "execution_count": 20,
   "metadata": {},
   "outputs": [
    {
     "data": {
      "text/html": [
       "<div>\n",
       "<style scoped>\n",
       "    .dataframe tbody tr th:only-of-type {\n",
       "        vertical-align: middle;\n",
       "    }\n",
       "\n",
       "    .dataframe tbody tr th {\n",
       "        vertical-align: top;\n",
       "    }\n",
       "\n",
       "    .dataframe thead th {\n",
       "        text-align: right;\n",
       "    }\n",
       "</style>\n",
       "<table border=\"1\" class=\"dataframe\">\n",
       "  <thead>\n",
       "    <tr style=\"text-align: right;\">\n",
       "      <th></th>\n",
       "      <th>inspection_type</th>\n",
       "      <th>zip_code</th>\n",
       "      <th>inspection_date</th>\n",
       "    </tr>\n",
       "    <tr>\n",
       "      <th>job_id</th>\n",
       "      <th></th>\n",
       "      <th></th>\n",
       "      <th></th>\n",
       "    </tr>\n",
       "  </thead>\n",
       "  <tbody>\n",
       "    <tr>\n",
       "      <th>PO2167036</th>\n",
       "      <td>COMPLIANCE</td>\n",
       "      <td>10029</td>\n",
       "      <td>2020-01-08 13:20:54</td>\n",
       "    </tr>\n",
       "    <tr>\n",
       "      <th>PO2167008</th>\n",
       "      <td>COMPLIANCE</td>\n",
       "      <td>10029</td>\n",
       "      <td>2020-01-08 13:10:44</td>\n",
       "    </tr>\n",
       "    <tr>\n",
       "      <th>PO2189724</th>\n",
       "      <td>INITIAL</td>\n",
       "      <td>10002</td>\n",
       "      <td>2020-01-08 13:10:40</td>\n",
       "    </tr>\n",
       "    <tr>\n",
       "      <th>PO2125410</th>\n",
       "      <td>COMPLIANCE</td>\n",
       "      <td>10019</td>\n",
       "      <td>2020-01-08 13:05:13</td>\n",
       "    </tr>\n",
       "    <tr>\n",
       "      <th>PO2167016</th>\n",
       "      <td>COMPLIANCE</td>\n",
       "      <td>10029</td>\n",
       "      <td>2020-01-08 13:00:09</td>\n",
       "    </tr>\n",
       "  </tbody>\n",
       "</table>\n",
       "</div>"
      ],
      "text/plain": [
       "          inspection_type  zip_code     inspection_date\n",
       "job_id                                                 \n",
       "PO2167036      COMPLIANCE     10029 2020-01-08 13:20:54\n",
       "PO2167008      COMPLIANCE     10029 2020-01-08 13:10:44\n",
       "PO2189724         INITIAL     10002 2020-01-08 13:10:40\n",
       "PO2125410      COMPLIANCE     10019 2020-01-08 13:05:13\n",
       "PO2167016      COMPLIANCE     10029 2020-01-08 13:00:09"
      ]
     },
     "execution_count": 20,
     "metadata": {},
     "output_type": "execute_result"
    }
   ],
   "source": [
    "rats_df = rats_df.sort_values(by = 'inspection_date', ascending = False)\n",
    "rats_df.head()"
   ]
  },
  {
   "cell_type": "markdown",
   "metadata": {},
   "source": [
    "Let's only see the year 2010 to 2018 data which are still the majority of data:"
   ]
  },
  {
   "cell_type": "code",
   "execution_count": 21,
   "metadata": {
    "scrolled": true
   },
   "outputs": [
    {
     "data": {
      "text/plain": [
       "(510172, 3)"
      ]
     },
     "execution_count": 21,
     "metadata": {},
     "output_type": "execute_result"
    }
   ],
   "source": [
    "rats_df = rats_df.loc[(rats_df['inspection_date'] >= '2010-01-01')&(rats_df['inspection_date'] < '2019-01-01')]\n",
    "rats_df = rats_df.loc[(rats_df['zip_code']>10000)&(rats_df['zip_code']<20000)]\n",
    "rats_df.shape"
   ]
  },
  {
   "cell_type": "code",
   "execution_count": 22,
   "metadata": {},
   "outputs": [],
   "source": [
    "# Export the cleaned data:\n",
    "rats_df.to_csv('../datasets/rats.csv', index=False)"
   ]
  },
  {
   "cell_type": "markdown",
   "metadata": {},
   "source": [
    "### rat_sightings.csv"
   ]
  },
  {
   "cell_type": "code",
   "execution_count": 23,
   "metadata": {
    "scrolled": true
   },
   "outputs": [
    {
     "data": {
      "text/html": [
       "<div>\n",
       "<style scoped>\n",
       "    .dataframe tbody tr th:only-of-type {\n",
       "        vertical-align: middle;\n",
       "    }\n",
       "\n",
       "    .dataframe tbody tr th {\n",
       "        vertical-align: top;\n",
       "    }\n",
       "\n",
       "    .dataframe thead th {\n",
       "        text-align: right;\n",
       "    }\n",
       "</style>\n",
       "<table border=\"1\" class=\"dataframe\">\n",
       "  <thead>\n",
       "    <tr style=\"text-align: right;\">\n",
       "      <th></th>\n",
       "      <th>descriptor</th>\n",
       "      <th>incident_zip</th>\n",
       "      <th>x_coordinate_state_plane_</th>\n",
       "      <th>created_date</th>\n",
       "      <th>location</th>\n",
       "      <th>city</th>\n",
       "      <th>:@computed_region_sbqj_enih</th>\n",
       "      <th>cross_street_2</th>\n",
       "      <th>:@computed_region_efsh_h5xi</th>\n",
       "      <th>park_facility_name</th>\n",
       "      <th>...</th>\n",
       "      <th>longitude</th>\n",
       "      <th>:@computed_region_f5dn_yrer</th>\n",
       "      <th>status</th>\n",
       "      <th>unique_key</th>\n",
       "      <th>intersection_street_2</th>\n",
       "      <th>closed_date</th>\n",
       "      <th>resolution_action_updated_date</th>\n",
       "      <th>address_type</th>\n",
       "      <th>due_date</th>\n",
       "      <th>facility_type</th>\n",
       "    </tr>\n",
       "  </thead>\n",
       "  <tbody>\n",
       "    <tr>\n",
       "      <th>0</th>\n",
       "      <td>Rat Sighting</td>\n",
       "      <td>10002</td>\n",
       "      <td>990296</td>\n",
       "      <td>2020-03-10T00:47:13.000</td>\n",
       "      <td>{'latitude': '40.71757450675541', 'human_addre...</td>\n",
       "      <td>NEW YORK</td>\n",
       "      <td>4</td>\n",
       "      <td>EAST HOUSTON STREET</td>\n",
       "      <td>11723</td>\n",
       "      <td>Unspecified</td>\n",
       "      <td>...</td>\n",
       "      <td>-73.97818964140325</td>\n",
       "      <td>70</td>\n",
       "      <td>In Progress</td>\n",
       "      <td>45788764</td>\n",
       "      <td>EAST HOUSTON STREET</td>\n",
       "      <td>NaN</td>\n",
       "      <td>NaN</td>\n",
       "      <td>NaN</td>\n",
       "      <td>NaN</td>\n",
       "      <td>NaN</td>\n",
       "    </tr>\n",
       "    <tr>\n",
       "      <th>1</th>\n",
       "      <td>Rat Sighting</td>\n",
       "      <td>10002</td>\n",
       "      <td>990272</td>\n",
       "      <td>2020-03-10T00:43:44.000</td>\n",
       "      <td>{'latitude': '40.717423561327045', 'human_addr...</td>\n",
       "      <td>NEW YORK</td>\n",
       "      <td>4</td>\n",
       "      <td>EAST HOUSTON STREET</td>\n",
       "      <td>11723</td>\n",
       "      <td>Unspecified</td>\n",
       "      <td>...</td>\n",
       "      <td>-73.97827626827603</td>\n",
       "      <td>70</td>\n",
       "      <td>In Progress</td>\n",
       "      <td>45789884</td>\n",
       "      <td>EAST HOUSTON STREET</td>\n",
       "      <td>NaN</td>\n",
       "      <td>NaN</td>\n",
       "      <td>NaN</td>\n",
       "      <td>NaN</td>\n",
       "      <td>NaN</td>\n",
       "    </tr>\n",
       "  </tbody>\n",
       "</table>\n",
       "<p>2 rows × 36 columns</p>\n",
       "</div>"
      ],
      "text/plain": [
       "     descriptor incident_zip x_coordinate_state_plane_  \\\n",
       "0  Rat Sighting        10002                    990296   \n",
       "1  Rat Sighting        10002                    990272   \n",
       "\n",
       "              created_date                                           location  \\\n",
       "0  2020-03-10T00:47:13.000  {'latitude': '40.71757450675541', 'human_addre...   \n",
       "1  2020-03-10T00:43:44.000  {'latitude': '40.717423561327045', 'human_addr...   \n",
       "\n",
       "       city :@computed_region_sbqj_enih       cross_street_2  \\\n",
       "0  NEW YORK                           4  EAST HOUSTON STREET   \n",
       "1  NEW YORK                           4  EAST HOUSTON STREET   \n",
       "\n",
       "  :@computed_region_efsh_h5xi park_facility_name  ...           longitude  \\\n",
       "0                       11723        Unspecified  ...  -73.97818964140325   \n",
       "1                       11723        Unspecified  ...  -73.97827626827603   \n",
       "\n",
       "  :@computed_region_f5dn_yrer       status unique_key intersection_street_2  \\\n",
       "0                          70  In Progress   45788764   EAST HOUSTON STREET   \n",
       "1                          70  In Progress   45789884   EAST HOUSTON STREET   \n",
       "\n",
       "  closed_date resolution_action_updated_date address_type due_date  \\\n",
       "0         NaN                            NaN          NaN      NaN   \n",
       "1         NaN                            NaN          NaN      NaN   \n",
       "\n",
       "  facility_type  \n",
       "0           NaN  \n",
       "1           NaN  \n",
       "\n",
       "[2 rows x 36 columns]"
      ]
     },
     "execution_count": 23,
     "metadata": {},
     "output_type": "execute_result"
    }
   ],
   "source": [
    "rat_sightings.head(2)"
   ]
  },
  {
   "cell_type": "markdown",
   "metadata": {},
   "source": [
    "After taking a first look at our dataset, we have a general idea of features of dataset. We are going to only keep the features we need."
   ]
  },
  {
   "cell_type": "code",
   "execution_count": 24,
   "metadata": {
    "scrolled": false
   },
   "outputs": [
    {
     "data": {
      "text/html": [
       "<div>\n",
       "<style scoped>\n",
       "    .dataframe tbody tr th:only-of-type {\n",
       "        vertical-align: middle;\n",
       "    }\n",
       "\n",
       "    .dataframe tbody tr th {\n",
       "        vertical-align: top;\n",
       "    }\n",
       "\n",
       "    .dataframe thead th {\n",
       "        text-align: right;\n",
       "    }\n",
       "</style>\n",
       "<table border=\"1\" class=\"dataframe\">\n",
       "  <thead>\n",
       "    <tr style=\"text-align: right;\">\n",
       "      <th></th>\n",
       "      <th>incident_zip</th>\n",
       "      <th>created_date</th>\n",
       "      <th>borough</th>\n",
       "    </tr>\n",
       "  </thead>\n",
       "  <tbody>\n",
       "    <tr>\n",
       "      <th>0</th>\n",
       "      <td>10002</td>\n",
       "      <td>2020-03-10T00:47:13.000</td>\n",
       "      <td>MANHATTAN</td>\n",
       "    </tr>\n",
       "    <tr>\n",
       "      <th>1</th>\n",
       "      <td>10002</td>\n",
       "      <td>2020-03-10T00:43:44.000</td>\n",
       "      <td>MANHATTAN</td>\n",
       "    </tr>\n",
       "    <tr>\n",
       "      <th>2</th>\n",
       "      <td>11213</td>\n",
       "      <td>2020-03-10T00:35:10.000</td>\n",
       "      <td>BROOKLYN</td>\n",
       "    </tr>\n",
       "    <tr>\n",
       "      <th>3</th>\n",
       "      <td>10024</td>\n",
       "      <td>2020-03-09T20:32:15.000</td>\n",
       "      <td>MANHATTAN</td>\n",
       "    </tr>\n",
       "    <tr>\n",
       "      <th>4</th>\n",
       "      <td>10025</td>\n",
       "      <td>2020-03-09T20:21:23.000</td>\n",
       "      <td>MANHATTAN</td>\n",
       "    </tr>\n",
       "  </tbody>\n",
       "</table>\n",
       "</div>"
      ],
      "text/plain": [
       "  incident_zip             created_date    borough\n",
       "0        10002  2020-03-10T00:47:13.000  MANHATTAN\n",
       "1        10002  2020-03-10T00:43:44.000  MANHATTAN\n",
       "2        11213  2020-03-10T00:35:10.000   BROOKLYN\n",
       "3        10024  2020-03-09T20:32:15.000  MANHATTAN\n",
       "4        10025  2020-03-09T20:21:23.000  MANHATTAN"
      ]
     },
     "execution_count": 24,
     "metadata": {},
     "output_type": "execute_result"
    }
   ],
   "source": [
    "sightings = rat_sightings[['incident_zip', 'created_date', 'borough']]\n",
    "sightings.head()"
   ]
  },
  {
   "cell_type": "markdown",
   "metadata": {},
   "source": [
    "Let's only focus on Manhattan, and drop missing data."
   ]
  },
  {
   "cell_type": "code",
   "execution_count": 25,
   "metadata": {},
   "outputs": [],
   "source": [
    "sightings = sightings.loc[sightings['borough']=='MANHATTAN'].drop(columns = 'borough')\n",
    "sightings = sightings.dropna()\n",
    "sightings = sightings.drop(sightings.loc[sightings['incident_zip']=='N/A'].index)\n",
    "sightings['incident_zip'] = sightings['incident_zip'].astype(int)"
   ]
  },
  {
   "cell_type": "code",
   "execution_count": 26,
   "metadata": {},
   "outputs": [
    {
     "name": "stdout",
     "output_type": "stream",
     "text": [
      "<class 'pandas.core.frame.DataFrame'>\n",
      "Int64Index: 37146 entries, 0 to 143224\n",
      "Data columns (total 2 columns):\n",
      "incident_zip    37146 non-null int64\n",
      "created_date    37146 non-null object\n",
      "dtypes: int64(1), object(1)\n",
      "memory usage: 870.6+ KB\n"
     ]
    }
   ],
   "source": [
    "# Clean the zip codes:\n",
    "sightings = sightings.loc[(sightings['incident_zip']>10000)&(sightings['incident_zip']<20000)]\n",
    "sightings.info()"
   ]
  },
  {
   "cell_type": "code",
   "execution_count": 28,
   "metadata": {},
   "outputs": [],
   "source": [
    "# Export the cleaned data:\n",
    "sightings.to_csv('../datasets/rats_sightings.csv', index=False)"
   ]
  },
  {
   "cell_type": "markdown",
   "metadata": {},
   "source": [
    "So far, we have four datasets which are going to be used in next notebook for EDA."
   ]
  }
 ],
 "metadata": {
  "kernelspec": {
   "display_name": "Python 3",
   "language": "python",
   "name": "python3"
  },
  "language_info": {
   "codemirror_mode": {
    "name": "ipython",
    "version": 3
   },
   "file_extension": ".py",
   "mimetype": "text/x-python",
   "name": "python",
   "nbconvert_exporter": "python",
   "pygments_lexer": "ipython3",
   "version": "3.7.3"
  }
 },
 "nbformat": 4,
 "nbformat_minor": 2
}

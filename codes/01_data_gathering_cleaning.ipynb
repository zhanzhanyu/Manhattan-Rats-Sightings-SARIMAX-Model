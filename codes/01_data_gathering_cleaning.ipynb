{
 "cells": [
  {
   "cell_type": "markdown",
   "metadata": {},
   "source": [
    "# Data Gathering and Data Cleaning\n",
    "#### By: _Zhan Yu_"
   ]
  },
  {
   "cell_type": "markdown",
   "metadata": {},
   "source": [
    "## Table of Contents\n",
    "- [Loading Libraries & Data](#Loading-Libraries-&-Data)\n",
    "    -[Socrata](#Socrata)\n",
    "    -[Census Data](#Census-Data)\n",
    "- [Data Preprocessing](#Data-Preprocessing)\n",
    "    - [rats.csv](#rats.csv)\n",
    "    - [restaurants.csv](#restaurants.csv)\n",
    "    - [rat_sightings.csv](#rat_sightings.csv)\n",
    "- [Source](#Source)"
   ]
  },
  {
   "cell_type": "markdown",
   "metadata": {},
   "source": [
    "## Loading Libraries & Data"
   ]
  },
  {
   "cell_type": "markdown",
   "metadata": {},
   "source": [
    "In this project, the datasets [Rodent Inspection in NYC](https://data.cityofnewyork.us/Health/Rodent-Inspection/p937-wjvj), [Rat Sightings](https://data.cityofnewyork.us/Social-Services/Rat-Sightings/3q43-55fe) and [Restaurant-Inspection](https://data.cityofnewyork.us/Health/DOHMH-New-York-City-Restaurant-Inspection-Results/43nn-pn8j ) are public datasets from data.cityofnewyork.us. The census data are from [United States Census Bureau](https://www.census.gov/en.html)."
   ]
  },
  {
   "cell_type": "code",
   "execution_count": 1,
   "metadata": {},
   "outputs": [],
   "source": [
    "# Libraries: \n",
    "import pandas as pd\n",
    "import numpy as np\n",
    "import os\n",
    "import requests\n",
    "import json\n",
    "\n",
    "from sodapy import Socrata\n",
    "\n",
    "import warnings\n",
    "warnings.simplefilter(action=\"ignore\")"
   ]
  },
  {
   "cell_type": "markdown",
   "metadata": {},
   "source": [
    "### Socrata \n",
    "\n",
    "The Socrata APIs provide rich query functionality through a query language we call the “Socrata Query Language” or “SoQL”.   \n",
    "Install packages at the current environment (for example, mine is (dsi)) before running:\n",
    "``` Terminal\n",
    "pip install sodapy\n",
    "```\n",
    "From [NYC Open Data](https://opendata.cityofnewyork.us/), we can load Rodent Inspection dataset, NYC Restaurant Inspection dataset and Rat Sightings dataset by using `Socrata`.   \n",
    "Unauthenticated client only works with public data sets. Note `None` in place of application token, and no username or password.   \n",
    "In these three cases they are all public datasets."
   ]
  },
  {
   "cell_type": "code",
   "execution_count": 2,
   "metadata": {},
   "outputs": [
    {
     "name": "stderr",
     "output_type": "stream",
     "text": [
      "WARNING:root:Requests made without an app_token will be subject to strict throttling limits.\n"
     ]
    }
   ],
   "source": [
    "client = Socrata(\"data.cityofnewyork.us\", None)\n",
    "\n",
    "# First 1,000,000 results, returned as JSON from API / converted to Python list of dictionaries by sodapy.\n",
    "results = client.get(\"p937-wjvj\",                                # Rodent Inspection dataset\n",
    "                     limit=1_000_000, where=\"boro_code = 1\")\n",
    "\n",
    "# Convert to pandas DataFrame\n",
    "rats = pd.DataFrame.from_records(results)"
   ]
  },
  {
   "cell_type": "code",
   "execution_count": 4,
   "metadata": {},
   "outputs": [],
   "source": [
    "# First 150,000 results, returned as JSON from API / converted to Python list of\n",
    "# dictionaries by sodapy.\n",
    "\n",
    "results = client.get(\"3q43-55fe\",                                # Rat Sightings dataset\n",
    "                     limit=150_000)\n",
    "\n",
    "# Convert to pandas DataFrame\n",
    "rat_sightings = pd.DataFrame.from_records(results)"
   ]
  },
  {
   "cell_type": "markdown",
   "metadata": {},
   "source": [
    "Because the datasets are too big (about 200 MB), we are going to do some data cleaning and trimming before we export them."
   ]
  },
  {
   "cell_type": "markdown",
   "metadata": {},
   "source": [
    "### Restaurant Data"
   ]
  },
  {
   "cell_type": "markdown",
   "metadata": {},
   "source": [
    "From [United States Census Bureau](https://www.census.gov/en.html) we will use \"ZIP Codes Business Patterns\" from 2010 to 2017. The API key is not needed."
   ]
  },
  {
   "cell_type": "code",
   "execution_count": 67,
   "metadata": {},
   "outputs": [],
   "source": [
    "zip_manhattan = set(rats['zip_code'].dropna().astype(int))\n",
    "\n",
    "# Remove unwanted zip codes:\n",
    "zip_manhattan.remove(0)\n",
    "zip_manhattan.remove(10000) "
   ]
  },
  {
   "cell_type": "code",
   "execution_count": 104,
   "metadata": {},
   "outputs": [],
   "source": [
    "baseAPI = f\"https://api.census.gov/data/2012/zbp?get=ESTAB&for=zipcode:10002&NAICS2012=722\"\n",
    "response = requests.get(baseAPI)\n",
    "\n",
    "formattedResponse = json.loads(response.text)[1:]\n",
    "formattedResponse = [item[::-1] for item in formattedResponse]"
   ]
  },
  {
   "cell_type": "code",
   "execution_count": 105,
   "metadata": {},
   "outputs": [
    {
     "data": {
      "text/plain": [
       "[['10002', '722', '610']]"
      ]
     },
     "execution_count": 105,
     "metadata": {},
     "output_type": "execute_result"
    }
   ],
   "source": [
    "formattedResponse"
   ]
  },
  {
   "cell_type": "code",
   "execution_count": 107,
   "metadata": {},
   "outputs": [],
   "source": [
    "# 2010 - 2017 Business Patterns:\n",
    "zip_res_yr = pd.DataFrame(columns=['zipcode', 'type', 'count', 'year'], data=[]) \n",
    "\n",
    "# From 2010 to 2011:\n",
    "for year in range(2010,2012):\n",
    "    \n",
    "    #zipcode in Manhattan:\n",
    "    for zipcode in zip_manhattan:\n",
    "        \n",
    "        \n",
    "        try:\n",
    "            # \"ESTAB\": Number of establishments\n",
    "            # \"72\": \"Food services and drinking places\"\n",
    "            baseAPI = f\"https://api.census.gov/data/{year}/zbp?get=ESTAB&for=zipcode:{zipcode}&NAICS2007=72\"\n",
    "            response = requests.get(baseAPI)\n",
    "            formattedResponse = json.loads(response.text)[1:]\n",
    "            formattedResponse = [item[::-1] for item in formattedResponse]\n",
    "            \n",
    "            # Store the response in a dataframe\n",
    "            zip_res = pd.DataFrame(columns=['zipcode','type', 'count'], data=formattedResponse)\n",
    "            zip_res['year'] = year\n",
    "            zip_res_yr = pd.concat([zip_res_yr, zip_res], ignore_index=True)\n",
    "            \n",
    "        except:\n",
    "            pass\n",
    "\n",
    "# From 2012 to 2016:\n",
    "for year in range(2012,2017):\n",
    "    \n",
    "    #zipcode in Manhattan:\n",
    "    for zipcode in zip_manhattan:\n",
    "        \n",
    "        \n",
    "        try:            \n",
    "            # \"ESTAB\": Number of establishments\n",
    "            # \"722\": \"Food services and drinking places\"\n",
    "            baseAPI = f\"https://api.census.gov/data/{year}/zbp?get=ESTAB&for=zipcode:{zipcode}&NAICS2012=722\"\n",
    "            response = requests.get(baseAPI)\n",
    "            formattedResponse = json.loads(response.text)[1:]\n",
    "            formattedResponse = [item[::-1] for item in formattedResponse]\n",
    "            \n",
    "            # Store the response in a dataframe\n",
    "            zip_res = pd.DataFrame(columns=['zipcode','type', 'count'], data=formattedResponse)\n",
    "            zip_res['year'] = year\n",
    "            zip_res_yr = pd.concat([zip_res_yr, zip_res], ignore_index=True)\n",
    "            \n",
    "        except:\n",
    "            pass\n",
    "\n",
    "# Year 2017        \n",
    "for zipcode in zip_manhattan:\n",
    "    try:            \n",
    "        # \"ESTAB\": Number of establishments\n",
    "        # \"722\": \"Food services and drinking places\"\n",
    "        baseAPI = f\"https://api.census.gov/data/2017/zbp?get=ESTAB&for=zipcode:{zipcode}&NAICS2017=722\"\n",
    "        response = requests.get(baseAPI)\n",
    "        formattedResponse = json.loads(response.text)[1:]\n",
    "        formattedResponse = [item[::-1] for item in formattedResponse]\n",
    "            \n",
    "        # Store the response in a dataframe\n",
    "        zip_res = pd.DataFrame(columns=['zipcode','type', 'count'], data=formattedResponse)\n",
    "        zip_res['year'] = 2017\n",
    "        zip_res_yr = pd.concat([zip_res_yr, zip_res], ignore_index=True)\n",
    "            \n",
    "    except:\n",
    "        pass\n",
    "zip_res_yr= zip_res_yr.astype(int)\n"
   ]
  },
  {
   "cell_type": "code",
   "execution_count": 111,
   "metadata": {
    "scrolled": true
   },
   "outputs": [
    {
     "data": {
      "text/html": [
       "<div>\n",
       "<style scoped>\n",
       "    .dataframe tbody tr th:only-of-type {\n",
       "        vertical-align: middle;\n",
       "    }\n",
       "\n",
       "    .dataframe tbody tr th {\n",
       "        vertical-align: top;\n",
       "    }\n",
       "\n",
       "    .dataframe thead th {\n",
       "        text-align: right;\n",
       "    }\n",
       "</style>\n",
       "<table border=\"1\" class=\"dataframe\">\n",
       "  <thead>\n",
       "    <tr style=\"text-align: right;\">\n",
       "      <th></th>\n",
       "      <th>zipcode</th>\n",
       "      <th>type</th>\n",
       "      <th>count</th>\n",
       "      <th>year</th>\n",
       "      <th>zip_year</th>\n",
       "      <th>zip_year_month</th>\n",
       "    </tr>\n",
       "  </thead>\n",
       "  <tbody>\n",
       "    <tr>\n",
       "      <th>0</th>\n",
       "      <td>10271</td>\n",
       "      <td>72</td>\n",
       "      <td>2</td>\n",
       "      <td>2010</td>\n",
       "      <td>10271 2010</td>\n",
       "      <td></td>\n",
       "    </tr>\n",
       "    <tr>\n",
       "      <th>1</th>\n",
       "      <td>10278</td>\n",
       "      <td>72</td>\n",
       "      <td>1</td>\n",
       "      <td>2010</td>\n",
       "      <td>10278 2010</td>\n",
       "      <td></td>\n",
       "    </tr>\n",
       "    <tr>\n",
       "      <th>2</th>\n",
       "      <td>10279</td>\n",
       "      <td>72</td>\n",
       "      <td>1</td>\n",
       "      <td>2010</td>\n",
       "      <td>10279 2010</td>\n",
       "      <td></td>\n",
       "    </tr>\n",
       "    <tr>\n",
       "      <th>3</th>\n",
       "      <td>10280</td>\n",
       "      <td>72</td>\n",
       "      <td>9</td>\n",
       "      <td>2010</td>\n",
       "      <td>10280 2010</td>\n",
       "      <td></td>\n",
       "    </tr>\n",
       "    <tr>\n",
       "      <th>4</th>\n",
       "      <td>10281</td>\n",
       "      <td>72</td>\n",
       "      <td>15</td>\n",
       "      <td>2010</td>\n",
       "      <td>10281 2010</td>\n",
       "      <td></td>\n",
       "    </tr>\n",
       "  </tbody>\n",
       "</table>\n",
       "</div>"
      ],
      "text/plain": [
       "   zipcode  type  count  year    zip_year zip_year_month\n",
       "0    10271    72      2  2010  10271 2010               \n",
       "1    10278    72      1  2010  10278 2010               \n",
       "2    10279    72      1  2010  10279 2010               \n",
       "3    10280    72      9  2010  10280 2010               \n",
       "4    10281    72     15  2010  10281 2010               "
      ]
     },
     "execution_count": 111,
     "metadata": {},
     "output_type": "execute_result"
    }
   ],
   "source": [
    "zip_res_yr['zip_year'] = zip_res_yr['zipcode'].astype(str) + ' ' + zip_res_yr['year'].astype(str)\n",
    "zip_res_yr['zip_year_month'] = ''\n",
    "zip_res_yr.head()"
   ]
  },
  {
   "cell_type": "code",
   "execution_count": 112,
   "metadata": {
    "scrolled": true
   },
   "outputs": [
    {
     "data": {
      "text/html": [
       "<div>\n",
       "<style scoped>\n",
       "    .dataframe tbody tr th:only-of-type {\n",
       "        vertical-align: middle;\n",
       "    }\n",
       "\n",
       "    .dataframe tbody tr th {\n",
       "        vertical-align: top;\n",
       "    }\n",
       "\n",
       "    .dataframe thead th {\n",
       "        text-align: right;\n",
       "    }\n",
       "</style>\n",
       "<table border=\"1\" class=\"dataframe\">\n",
       "  <thead>\n",
       "    <tr style=\"text-align: right;\">\n",
       "      <th></th>\n",
       "      <th>zip_year</th>\n",
       "      <th>count</th>\n",
       "    </tr>\n",
       "  </thead>\n",
       "  <tbody>\n",
       "    <tr>\n",
       "      <th>0</th>\n",
       "      <td>10271 2010</td>\n",
       "      <td>2</td>\n",
       "    </tr>\n",
       "    <tr>\n",
       "      <th>1</th>\n",
       "      <td>10278 2010</td>\n",
       "      <td>1</td>\n",
       "    </tr>\n",
       "    <tr>\n",
       "      <th>2</th>\n",
       "      <td>10279 2010</td>\n",
       "      <td>1</td>\n",
       "    </tr>\n",
       "    <tr>\n",
       "      <th>3</th>\n",
       "      <td>10280 2010</td>\n",
       "      <td>9</td>\n",
       "    </tr>\n",
       "    <tr>\n",
       "      <th>4</th>\n",
       "      <td>10281 2010</td>\n",
       "      <td>15</td>\n",
       "    </tr>\n",
       "  </tbody>\n",
       "</table>\n",
       "</div>"
      ],
      "text/plain": [
       "     zip_year  count\n",
       "0  10271 2010      2\n",
       "1  10278 2010      1\n",
       "2  10279 2010      1\n",
       "3  10280 2010      9\n",
       "4  10281 2010     15"
      ]
     },
     "execution_count": 112,
     "metadata": {},
     "output_type": "execute_result"
    }
   ],
   "source": [
    "zip_res_yr = zip_res_yr[['zip_year', 'count']]\n",
    "zip_res_yr.head()"
   ]
  },
  {
   "cell_type": "code",
   "execution_count": 113,
   "metadata": {},
   "outputs": [],
   "source": [
    "# Export data as name \"zip_res_yr.csv\":\n",
    "zip_res_yr.to_csv('../datasets/zip_res_yr.csv', index=False)"
   ]
  },
  {
   "cell_type": "markdown",
   "metadata": {},
   "source": [
    "### Census Data"
   ]
  },
  {
   "cell_type": "markdown",
   "metadata": {},
   "source": [
    "From [United States Census Bureau](https://www.census.gov/en.html) we will use \"ACS 5-Year Data\" from 2011 to 2018 and \"Decennial Census\" of 2010.  \n",
    "First we need to get our an API key from [HERE](https://api.census.gov/data/key_signup.html)."
   ]
  },
  {
   "cell_type": "code",
   "execution_count": 5,
   "metadata": {},
   "outputs": [],
   "source": [
    "api_key = '9991b4ab66903673ef2f2f5dae3ec63d2ab4f4f2'"
   ]
  },
  {
   "cell_type": "code",
   "execution_count": 6,
   "metadata": {},
   "outputs": [],
   "source": [
    "# Initiate an empty data frame 'zip_pop_yr' which has columns 'zipcode', 'population' and 'year':\n",
    "zip_pop_yr = pd.DataFrame(columns=['zipcode', 'population', 'year'], data=[]) \n",
    "# 2010 Census data:\n",
    "for zipcode in zip_manhattan:\n",
    "    try:\n",
    "        baseAPI = f\"https://api.census.gov/data/2010/dec/sf1?key={api_key}&get=H010001&for=zip%20code%20tabulation%20area:{zipcode}\"\n",
    "        response = requests.get(baseAPI)\n",
    "        formattedResponse = json.loads(response.text)[1:]\n",
    "        formattedResponse = [item[::-1] for item in formattedResponse]\n",
    "        \n",
    "        # Store the response in a dataframe\n",
    "        zip_pop = pd.DataFrame(columns=['zipcode', 'population'], data=formattedResponse)\n",
    "        zip_pop['year'] = 2010\n",
    "        zip_pop_yr = pd.concat([zip_pop_yr, zip_pop], ignore_index=True)\n",
    "        \n",
    "    except:\n",
    "        pass"
   ]
  },
  {
   "cell_type": "code",
   "execution_count": 7,
   "metadata": {},
   "outputs": [],
   "source": [
    "# 2011-2018 American Community Survey 5-Year Data:\n",
    "acs_table = 'B01003_001E'  # Code of \"Total population\" \n",
    "\n",
    "# From 2011 to 2018:\n",
    "for year in range(2011,2019):\n",
    "    \n",
    "    #zipcode in Manhattan:\n",
    "    for zipcode in zip_manhattan:\n",
    "        \n",
    "        try:\n",
    "            \n",
    "            baseAPI = f\"https://api.census.gov/data/{year}/acs/acs5?key={api_key}&get={acs_table}&for=zip%20code%20tabulation%20area:{zipcode}\"\n",
    "            response = requests.get(baseAPI)\n",
    "            formattedResponse = json.loads(response.text)[1:]\n",
    "            formattedResponse = [item[::-1] for item in formattedResponse]\n",
    "            \n",
    "            # Store the response in a dataframe\n",
    "            zip_pop = pd.DataFrame(columns=['zipcode', 'population'], data=formattedResponse)\n",
    "            zip_pop['year'] = year\n",
    "            zip_pop_yr = pd.concat([zip_pop_yr, zip_pop], ignore_index=True)\n",
    "            \n",
    "        except:\n",
    "            pass\n",
    "        \n",
    "zip_pop_yr= zip_pop_yr.astype(int)\n"
   ]
  },
  {
   "cell_type": "code",
   "execution_count": 8,
   "metadata": {},
   "outputs": [
    {
     "data": {
      "text/plain": [
       "zipcode       int64\n",
       "population    int64\n",
       "year          int64\n",
       "dtype: object"
      ]
     },
     "execution_count": 8,
     "metadata": {},
     "output_type": "execute_result"
    }
   ],
   "source": [
    "zip_pop_yr.dtypes"
   ]
  },
  {
   "cell_type": "code",
   "execution_count": 9,
   "metadata": {},
   "outputs": [],
   "source": [
    "zip_pop_yr.to_csv('../datasets/zip_pop_yr.csv', index=False)"
   ]
  },
  {
   "cell_type": "markdown",
   "metadata": {},
   "source": [
    "## Data Preprocessing"
   ]
  },
  {
   "cell_type": "markdown",
   "metadata": {},
   "source": [
    "### rats.csv  "
   ]
  },
  {
   "cell_type": "code",
   "execution_count": 10,
   "metadata": {
    "scrolled": true
   },
   "outputs": [
    {
     "data": {
      "text/html": [
       "<div>\n",
       "<style scoped>\n",
       "    .dataframe tbody tr th:only-of-type {\n",
       "        vertical-align: middle;\n",
       "    }\n",
       "\n",
       "    .dataframe tbody tr th {\n",
       "        vertical-align: top;\n",
       "    }\n",
       "\n",
       "    .dataframe thead th {\n",
       "        text-align: right;\n",
       "    }\n",
       "</style>\n",
       "<table border=\"1\" class=\"dataframe\">\n",
       "  <thead>\n",
       "    <tr style=\"text-align: right;\">\n",
       "      <th></th>\n",
       "      <th>inspection_type</th>\n",
       "      <th>job_ticket_or_work_order_id</th>\n",
       "      <th>job_progress</th>\n",
       "      <th>bbl</th>\n",
       "      <th>boro_code</th>\n",
       "      <th>block</th>\n",
       "      <th>lot</th>\n",
       "      <th>house_number</th>\n",
       "      <th>street_name</th>\n",
       "      <th>zip_code</th>\n",
       "      <th>x_coord</th>\n",
       "      <th>y_coord</th>\n",
       "      <th>latitude</th>\n",
       "      <th>longitude</th>\n",
       "      <th>borough</th>\n",
       "      <th>inspection_date</th>\n",
       "      <th>result</th>\n",
       "      <th>approved_date</th>\n",
       "      <th>location</th>\n",
       "    </tr>\n",
       "    <tr>\n",
       "      <th>job_id</th>\n",
       "      <th></th>\n",
       "      <th></th>\n",
       "      <th></th>\n",
       "      <th></th>\n",
       "      <th></th>\n",
       "      <th></th>\n",
       "      <th></th>\n",
       "      <th></th>\n",
       "      <th></th>\n",
       "      <th></th>\n",
       "      <th></th>\n",
       "      <th></th>\n",
       "      <th></th>\n",
       "      <th></th>\n",
       "      <th></th>\n",
       "      <th></th>\n",
       "      <th></th>\n",
       "      <th></th>\n",
       "      <th></th>\n",
       "    </tr>\n",
       "  </thead>\n",
       "  <tbody>\n",
       "    <tr>\n",
       "      <th>PO2075886</th>\n",
       "      <td>INITIAL</td>\n",
       "      <td>2075886</td>\n",
       "      <td>1</td>\n",
       "      <td>1022430001</td>\n",
       "      <td>1</td>\n",
       "      <td>02243</td>\n",
       "      <td>0001</td>\n",
       "      <td>4977</td>\n",
       "      <td>BROADWAY</td>\n",
       "      <td>10034</td>\n",
       "      <td>1006543</td>\n",
       "      <td>255608</td>\n",
       "      <td>40.868203550611</td>\n",
       "      <td>-73.919469362846</td>\n",
       "      <td>Manhattan</td>\n",
       "      <td>2019-08-02T11:11:55.000</td>\n",
       "      <td>Active Rat Signs</td>\n",
       "      <td>2019-08-07T11:34:09.000</td>\n",
       "      <td>{'latitude': '40.868203550611', 'longitude': '...</td>\n",
       "    </tr>\n",
       "    <tr>\n",
       "      <th>PO333717</th>\n",
       "      <td>BAIT</td>\n",
       "      <td>70581</td>\n",
       "      <td>5</td>\n",
       "      <td>1009620100</td>\n",
       "      <td>1</td>\n",
       "      <td>00962</td>\n",
       "      <td>0100</td>\n",
       "      <td>462</td>\n",
       "      <td>1 AVENUE</td>\n",
       "      <td>10016</td>\n",
       "      <td>991147</td>\n",
       "      <td>208600</td>\n",
       "      <td>40.739489790595</td>\n",
       "      <td>-73.976623458224</td>\n",
       "      <td>Manhattan</td>\n",
       "      <td>2011-10-26T09:45:58.000</td>\n",
       "      <td>Bait applied</td>\n",
       "      <td>2011-10-28T07:14:07.000</td>\n",
       "      <td>{'latitude': '40.739489790595', 'longitude': '...</td>\n",
       "    </tr>\n",
       "    <tr>\n",
       "      <th>PO431003</th>\n",
       "      <td>BAIT</td>\n",
       "      <td>92841</td>\n",
       "      <td>1</td>\n",
       "      <td>1022290001</td>\n",
       "      <td>1</td>\n",
       "      <td>02229</td>\n",
       "      <td>0001</td>\n",
       "      <td>4986</td>\n",
       "      <td>BROADWAY</td>\n",
       "      <td>10034</td>\n",
       "      <td>1006611</td>\n",
       "      <td>255630</td>\n",
       "      <td>40.868266491555</td>\n",
       "      <td>-73.919201730342</td>\n",
       "      <td>Manhattan</td>\n",
       "      <td>2012-03-19T14:00:03.000</td>\n",
       "      <td>Bait applied</td>\n",
       "      <td>2012-03-20T07:20:09.000</td>\n",
       "      <td>{'latitude': '40.868266491555', 'longitude': '...</td>\n",
       "    </tr>\n",
       "    <tr>\n",
       "      <th>PO333717</th>\n",
       "      <td>BAIT</td>\n",
       "      <td>69386</td>\n",
       "      <td>4</td>\n",
       "      <td>1009620100</td>\n",
       "      <td>1</td>\n",
       "      <td>00962</td>\n",
       "      <td>0100</td>\n",
       "      <td>462</td>\n",
       "      <td>1 AVENUE</td>\n",
       "      <td>10016</td>\n",
       "      <td>991147</td>\n",
       "      <td>208600</td>\n",
       "      <td>40.739489790595</td>\n",
       "      <td>-73.976623458224</td>\n",
       "      <td>Manhattan</td>\n",
       "      <td>2011-10-17T13:50:37.000</td>\n",
       "      <td>Bait applied</td>\n",
       "      <td>2011-10-18T07:09:09.000</td>\n",
       "      <td>{'latitude': '40.739489790595', 'longitude': '...</td>\n",
       "    </tr>\n",
       "    <tr>\n",
       "      <th>PO422674</th>\n",
       "      <td>BAIT</td>\n",
       "      <td>91531</td>\n",
       "      <td>1</td>\n",
       "      <td>1022290001</td>\n",
       "      <td>1</td>\n",
       "      <td>02229</td>\n",
       "      <td>0001</td>\n",
       "      <td>4986</td>\n",
       "      <td>BROADWAY</td>\n",
       "      <td>10034</td>\n",
       "      <td>1006611</td>\n",
       "      <td>255630</td>\n",
       "      <td>40.868266491555</td>\n",
       "      <td>-73.919201730342</td>\n",
       "      <td>Manhattan</td>\n",
       "      <td>2012-03-08T13:51:50.000</td>\n",
       "      <td>Bait applied</td>\n",
       "      <td>2012-03-09T12:23:58.000</td>\n",
       "      <td>{'latitude': '40.868266491555', 'longitude': '...</td>\n",
       "    </tr>\n",
       "  </tbody>\n",
       "</table>\n",
       "</div>"
      ],
      "text/plain": [
       "          inspection_type job_ticket_or_work_order_id job_progress  \\\n",
       "job_id                                                               \n",
       "PO2075886         INITIAL                     2075886            1   \n",
       "PO333717             BAIT                       70581            5   \n",
       "PO431003             BAIT                       92841            1   \n",
       "PO333717             BAIT                       69386            4   \n",
       "PO422674             BAIT                       91531            1   \n",
       "\n",
       "                  bbl boro_code  block   lot house_number street_name  \\\n",
       "job_id                                                                  \n",
       "PO2075886  1022430001         1  02243  0001         4977    BROADWAY   \n",
       "PO333717   1009620100         1  00962  0100          462    1 AVENUE   \n",
       "PO431003   1022290001         1  02229  0001         4986    BROADWAY   \n",
       "PO333717   1009620100         1  00962  0100          462    1 AVENUE   \n",
       "PO422674   1022290001         1  02229  0001         4986    BROADWAY   \n",
       "\n",
       "          zip_code  x_coord y_coord         latitude         longitude  \\\n",
       "job_id                                                                   \n",
       "PO2075886    10034  1006543  255608  40.868203550611  -73.919469362846   \n",
       "PO333717     10016   991147  208600  40.739489790595  -73.976623458224   \n",
       "PO431003     10034  1006611  255630  40.868266491555  -73.919201730342   \n",
       "PO333717     10016   991147  208600  40.739489790595  -73.976623458224   \n",
       "PO422674     10034  1006611  255630  40.868266491555  -73.919201730342   \n",
       "\n",
       "             borough          inspection_date            result  \\\n",
       "job_id                                                            \n",
       "PO2075886  Manhattan  2019-08-02T11:11:55.000  Active Rat Signs   \n",
       "PO333717   Manhattan  2011-10-26T09:45:58.000      Bait applied   \n",
       "PO431003   Manhattan  2012-03-19T14:00:03.000      Bait applied   \n",
       "PO333717   Manhattan  2011-10-17T13:50:37.000      Bait applied   \n",
       "PO422674   Manhattan  2012-03-08T13:51:50.000      Bait applied   \n",
       "\n",
       "                     approved_date  \\\n",
       "job_id                               \n",
       "PO2075886  2019-08-07T11:34:09.000   \n",
       "PO333717   2011-10-28T07:14:07.000   \n",
       "PO431003   2012-03-20T07:20:09.000   \n",
       "PO333717   2011-10-18T07:09:09.000   \n",
       "PO422674   2012-03-09T12:23:58.000   \n",
       "\n",
       "                                                    location  \n",
       "job_id                                                        \n",
       "PO2075886  {'latitude': '40.868203550611', 'longitude': '...  \n",
       "PO333717   {'latitude': '40.739489790595', 'longitude': '...  \n",
       "PO431003   {'latitude': '40.868266491555', 'longitude': '...  \n",
       "PO333717   {'latitude': '40.739489790595', 'longitude': '...  \n",
       "PO422674   {'latitude': '40.868266491555', 'longitude': '...  "
      ]
     },
     "execution_count": 10,
     "metadata": {},
     "output_type": "execute_result"
    }
   ],
   "source": [
    "# Setting the index to 'job_id':\n",
    "rats.set_index('job_id',inplace = True)\n",
    "rats.head()"
   ]
  },
  {
   "cell_type": "code",
   "execution_count": 11,
   "metadata": {
    "scrolled": true
   },
   "outputs": [
    {
     "data": {
      "text/plain": [
       "(594536, 19)"
      ]
     },
     "execution_count": 11,
     "metadata": {},
     "output_type": "execute_result"
    }
   ],
   "source": [
    "# Check the shape of data frame:\n",
    "rats.shape"
   ]
  },
  {
   "cell_type": "markdown",
   "metadata": {},
   "source": [
    "After taking a first look at our dataset, we have a general idea of features of dataset. We are going to only keep the features we need."
   ]
  },
  {
   "cell_type": "code",
   "execution_count": 12,
   "metadata": {
    "scrolled": false
   },
   "outputs": [
    {
     "data": {
      "text/html": [
       "<div>\n",
       "<style scoped>\n",
       "    .dataframe tbody tr th:only-of-type {\n",
       "        vertical-align: middle;\n",
       "    }\n",
       "\n",
       "    .dataframe tbody tr th {\n",
       "        vertical-align: top;\n",
       "    }\n",
       "\n",
       "    .dataframe thead th {\n",
       "        text-align: right;\n",
       "    }\n",
       "</style>\n",
       "<table border=\"1\" class=\"dataframe\">\n",
       "  <thead>\n",
       "    <tr style=\"text-align: right;\">\n",
       "      <th></th>\n",
       "      <th>inspection_type</th>\n",
       "      <th>zip_code</th>\n",
       "      <th>inspection_date</th>\n",
       "    </tr>\n",
       "    <tr>\n",
       "      <th>job_id</th>\n",
       "      <th></th>\n",
       "      <th></th>\n",
       "      <th></th>\n",
       "    </tr>\n",
       "  </thead>\n",
       "  <tbody>\n",
       "    <tr>\n",
       "      <th>PO2075886</th>\n",
       "      <td>INITIAL</td>\n",
       "      <td>10034</td>\n",
       "      <td>2019-08-02T11:11:55.000</td>\n",
       "    </tr>\n",
       "    <tr>\n",
       "      <th>PO333717</th>\n",
       "      <td>BAIT</td>\n",
       "      <td>10016</td>\n",
       "      <td>2011-10-26T09:45:58.000</td>\n",
       "    </tr>\n",
       "    <tr>\n",
       "      <th>PO431003</th>\n",
       "      <td>BAIT</td>\n",
       "      <td>10034</td>\n",
       "      <td>2012-03-19T14:00:03.000</td>\n",
       "    </tr>\n",
       "    <tr>\n",
       "      <th>PO333717</th>\n",
       "      <td>BAIT</td>\n",
       "      <td>10016</td>\n",
       "      <td>2011-10-17T13:50:37.000</td>\n",
       "    </tr>\n",
       "    <tr>\n",
       "      <th>PO422674</th>\n",
       "      <td>BAIT</td>\n",
       "      <td>10034</td>\n",
       "      <td>2012-03-08T13:51:50.000</td>\n",
       "    </tr>\n",
       "  </tbody>\n",
       "</table>\n",
       "</div>"
      ],
      "text/plain": [
       "          inspection_type zip_code          inspection_date\n",
       "job_id                                                     \n",
       "PO2075886         INITIAL    10034  2019-08-02T11:11:55.000\n",
       "PO333717             BAIT    10016  2011-10-26T09:45:58.000\n",
       "PO431003             BAIT    10034  2012-03-19T14:00:03.000\n",
       "PO333717             BAIT    10016  2011-10-17T13:50:37.000\n",
       "PO422674             BAIT    10034  2012-03-08T13:51:50.000"
      ]
     },
     "execution_count": 12,
     "metadata": {},
     "output_type": "execute_result"
    }
   ],
   "source": [
    "rats_df = rats[['inspection_type',\n",
    "                'zip_code','inspection_date']]\n",
    "rats_df.head()"
   ]
  },
  {
   "cell_type": "code",
   "execution_count": 13,
   "metadata": {},
   "outputs": [
    {
     "data": {
      "text/plain": [
       "inspection_type    0.000000\n",
       "zip_code           0.004043\n",
       "inspection_date    0.000000\n",
       "dtype: float64"
      ]
     },
     "execution_count": 13,
     "metadata": {},
     "output_type": "execute_result"
    }
   ],
   "source": [
    "rats_df.isnull().mean()"
   ]
  },
  {
   "cell_type": "markdown",
   "metadata": {},
   "source": [
    "Since the missing values have very small percentage of total dataset, we can drop all the rows with missing values and still have a relatively large dataset."
   ]
  },
  {
   "cell_type": "code",
   "execution_count": 14,
   "metadata": {},
   "outputs": [
    {
     "data": {
      "text/plain": [
       "(592132, 3)"
      ]
     },
     "execution_count": 14,
     "metadata": {},
     "output_type": "execute_result"
    }
   ],
   "source": [
    "rats_df.dropna(inplace = True)\n",
    "rats_df.shape"
   ]
  },
  {
   "cell_type": "code",
   "execution_count": 15,
   "metadata": {
    "scrolled": true
   },
   "outputs": [
    {
     "data": {
      "text/plain": [
       "0"
      ]
     },
     "execution_count": 15,
     "metadata": {},
     "output_type": "execute_result"
    }
   ],
   "source": [
    "rats_df.isnull().sum().sum()"
   ]
  },
  {
   "cell_type": "markdown",
   "metadata": {},
   "source": [
    "We are going to check and change the original data types:"
   ]
  },
  {
   "cell_type": "code",
   "execution_count": 16,
   "metadata": {
    "scrolled": false
   },
   "outputs": [
    {
     "data": {
      "text/plain": [
       "inspection_type    object\n",
       "zip_code           object\n",
       "inspection_date    object\n",
       "dtype: object"
      ]
     },
     "execution_count": 16,
     "metadata": {},
     "output_type": "execute_result"
    }
   ],
   "source": [
    "# Checking the original data types:\n",
    "rats_df.dtypes"
   ]
  },
  {
   "cell_type": "code",
   "execution_count": 17,
   "metadata": {},
   "outputs": [
    {
     "data": {
      "text/plain": [
       "inspection_type            object\n",
       "zip_code                    int64\n",
       "inspection_date    datetime64[ns]\n",
       "dtype: object"
      ]
     },
     "execution_count": 17,
     "metadata": {},
     "output_type": "execute_result"
    }
   ],
   "source": [
    "# Changing date columns into datetime form: \n",
    "rats_df['inspection_date'] = pd.to_datetime(rats_df['inspection_date'])\n",
    "\n",
    "# Changing those columns which seem like numerical but actually strings:\n",
    "rats_df['zip_code']=rats_df['zip_code'].astype(int)\n",
    "\n",
    "# Checking data types again:\n",
    "rats_df.dtypes"
   ]
  },
  {
   "cell_type": "markdown",
   "metadata": {},
   "source": [
    "We are setting out dataset in chronological order because the time range of our data set is more than 100 years."
   ]
  },
  {
   "cell_type": "code",
   "execution_count": 18,
   "metadata": {},
   "outputs": [
    {
     "data": {
      "text/html": [
       "<div>\n",
       "<style scoped>\n",
       "    .dataframe tbody tr th:only-of-type {\n",
       "        vertical-align: middle;\n",
       "    }\n",
       "\n",
       "    .dataframe tbody tr th {\n",
       "        vertical-align: top;\n",
       "    }\n",
       "\n",
       "    .dataframe thead th {\n",
       "        text-align: right;\n",
       "    }\n",
       "</style>\n",
       "<table border=\"1\" class=\"dataframe\">\n",
       "  <thead>\n",
       "    <tr style=\"text-align: right;\">\n",
       "      <th></th>\n",
       "      <th>inspection_type</th>\n",
       "      <th>zip_code</th>\n",
       "      <th>inspection_date</th>\n",
       "    </tr>\n",
       "    <tr>\n",
       "      <th>job_id</th>\n",
       "      <th></th>\n",
       "      <th></th>\n",
       "      <th></th>\n",
       "    </tr>\n",
       "  </thead>\n",
       "  <tbody>\n",
       "    <tr>\n",
       "      <th>PO2167036</th>\n",
       "      <td>COMPLIANCE</td>\n",
       "      <td>10029</td>\n",
       "      <td>2020-01-08 13:20:54</td>\n",
       "    </tr>\n",
       "    <tr>\n",
       "      <th>PO2167008</th>\n",
       "      <td>COMPLIANCE</td>\n",
       "      <td>10029</td>\n",
       "      <td>2020-01-08 13:10:44</td>\n",
       "    </tr>\n",
       "    <tr>\n",
       "      <th>PO2189724</th>\n",
       "      <td>INITIAL</td>\n",
       "      <td>10002</td>\n",
       "      <td>2020-01-08 13:10:40</td>\n",
       "    </tr>\n",
       "    <tr>\n",
       "      <th>PO2125410</th>\n",
       "      <td>COMPLIANCE</td>\n",
       "      <td>10019</td>\n",
       "      <td>2020-01-08 13:05:13</td>\n",
       "    </tr>\n",
       "    <tr>\n",
       "      <th>PO2167016</th>\n",
       "      <td>COMPLIANCE</td>\n",
       "      <td>10029</td>\n",
       "      <td>2020-01-08 13:00:09</td>\n",
       "    </tr>\n",
       "  </tbody>\n",
       "</table>\n",
       "</div>"
      ],
      "text/plain": [
       "          inspection_type  zip_code     inspection_date\n",
       "job_id                                                 \n",
       "PO2167036      COMPLIANCE     10029 2020-01-08 13:20:54\n",
       "PO2167008      COMPLIANCE     10029 2020-01-08 13:10:44\n",
       "PO2189724         INITIAL     10002 2020-01-08 13:10:40\n",
       "PO2125410      COMPLIANCE     10019 2020-01-08 13:05:13\n",
       "PO2167016      COMPLIANCE     10029 2020-01-08 13:00:09"
      ]
     },
     "execution_count": 18,
     "metadata": {},
     "output_type": "execute_result"
    }
   ],
   "source": [
    "rats_df = rats_df.sort_values(by = 'inspection_date', ascending = False)\n",
    "rats_df.head()"
   ]
  },
  {
   "cell_type": "markdown",
   "metadata": {},
   "source": [
    "Let's only see the last 10 years data which are still the majority of data:"
   ]
  },
  {
   "cell_type": "code",
   "execution_count": 37,
   "metadata": {
    "scrolled": true
   },
   "outputs": [
    {
     "data": {
      "text/plain": [
       "(510172, 3)"
      ]
     },
     "execution_count": 37,
     "metadata": {},
     "output_type": "execute_result"
    }
   ],
   "source": [
    "rats_df = rats_df.loc[(rats_df['inspection_date'] >= '2010-01-01')&(rats_df['inspection_date'] < '2019-01-01')]\n",
    "rats_df = rats_df.loc[(rats_df['zip_code']>10000)&(rats_df['zip_code']<20000)]\n",
    "rats_df.shape"
   ]
  },
  {
   "cell_type": "code",
   "execution_count": 38,
   "metadata": {},
   "outputs": [],
   "source": [
    "# Export the cleaned data:\n",
    "rats_df.to_csv('../datasets/rats.csv', index=False)"
   ]
  },
  {
   "cell_type": "markdown",
   "metadata": {},
   "source": [
    "### restaurants.csv"
   ]
  },
  {
   "cell_type": "code",
   "execution_count": 21,
   "metadata": {
    "scrolled": true
   },
   "outputs": [
    {
     "data": {
      "text/plain": [
       "(401404, 26)"
      ]
     },
     "execution_count": 21,
     "metadata": {},
     "output_type": "execute_result"
    }
   ],
   "source": [
    "restaurants.shape"
   ]
  },
  {
   "cell_type": "code",
   "execution_count": 22,
   "metadata": {},
   "outputs": [
    {
     "data": {
      "text/html": [
       "<div>\n",
       "<style scoped>\n",
       "    .dataframe tbody tr th:only-of-type {\n",
       "        vertical-align: middle;\n",
       "    }\n",
       "\n",
       "    .dataframe tbody tr th {\n",
       "        vertical-align: top;\n",
       "    }\n",
       "\n",
       "    .dataframe thead th {\n",
       "        text-align: right;\n",
       "    }\n",
       "</style>\n",
       "<table border=\"1\" class=\"dataframe\">\n",
       "  <thead>\n",
       "    <tr style=\"text-align: right;\">\n",
       "      <th></th>\n",
       "      <th>dba</th>\n",
       "      <th>boro</th>\n",
       "      <th>building</th>\n",
       "      <th>street</th>\n",
       "      <th>zipcode</th>\n",
       "      <th>phone</th>\n",
       "      <th>cuisine_description</th>\n",
       "      <th>inspection_date</th>\n",
       "      <th>action</th>\n",
       "      <th>violation_code</th>\n",
       "      <th>...</th>\n",
       "      <th>latitude</th>\n",
       "      <th>longitude</th>\n",
       "      <th>community_board</th>\n",
       "      <th>council_district</th>\n",
       "      <th>census_tract</th>\n",
       "      <th>bin</th>\n",
       "      <th>bbl</th>\n",
       "      <th>nta</th>\n",
       "      <th>grade</th>\n",
       "      <th>grade_date</th>\n",
       "    </tr>\n",
       "    <tr>\n",
       "      <th>camis</th>\n",
       "      <th></th>\n",
       "      <th></th>\n",
       "      <th></th>\n",
       "      <th></th>\n",
       "      <th></th>\n",
       "      <th></th>\n",
       "      <th></th>\n",
       "      <th></th>\n",
       "      <th></th>\n",
       "      <th></th>\n",
       "      <th></th>\n",
       "      <th></th>\n",
       "      <th></th>\n",
       "      <th></th>\n",
       "      <th></th>\n",
       "      <th></th>\n",
       "      <th></th>\n",
       "      <th></th>\n",
       "      <th></th>\n",
       "      <th></th>\n",
       "      <th></th>\n",
       "    </tr>\n",
       "  </thead>\n",
       "  <tbody>\n",
       "    <tr>\n",
       "      <th>40610087</th>\n",
       "      <td>RUSSIAN VODKA ROOM</td>\n",
       "      <td>Manhattan</td>\n",
       "      <td>265</td>\n",
       "      <td>WEST   52 STREET</td>\n",
       "      <td>10019</td>\n",
       "      <td>2123075835</td>\n",
       "      <td>Russian</td>\n",
       "      <td>2019-03-30T00:00:00.000</td>\n",
       "      <td>Violations were cited in the following area(s).</td>\n",
       "      <td>10F</td>\n",
       "      <td>...</td>\n",
       "      <td>40.763175639217</td>\n",
       "      <td>-73.984315014892</td>\n",
       "      <td>105</td>\n",
       "      <td>03</td>\n",
       "      <td>013100</td>\n",
       "      <td>1024825</td>\n",
       "      <td>1010240001</td>\n",
       "      <td>MN17</td>\n",
       "      <td>NaN</td>\n",
       "      <td>NaN</td>\n",
       "    </tr>\n",
       "    <tr>\n",
       "      <th>41046726</th>\n",
       "      <td>THE CAPITAL GRILLE</td>\n",
       "      <td>Manhattan</td>\n",
       "      <td>155</td>\n",
       "      <td>EAST   42 STREET</td>\n",
       "      <td>10017</td>\n",
       "      <td>2129532000</td>\n",
       "      <td>Steak</td>\n",
       "      <td>2018-04-12T00:00:00.000</td>\n",
       "      <td>Violations were cited in the following area(s).</td>\n",
       "      <td>06E</td>\n",
       "      <td>...</td>\n",
       "      <td>40.751173988368</td>\n",
       "      <td>-73.975406637538</td>\n",
       "      <td>106</td>\n",
       "      <td>04</td>\n",
       "      <td>009200</td>\n",
       "      <td>1036160</td>\n",
       "      <td>1012970031</td>\n",
       "      <td>MN19</td>\n",
       "      <td>A</td>\n",
       "      <td>2018-04-12T00:00:00.000</td>\n",
       "    </tr>\n",
       "  </tbody>\n",
       "</table>\n",
       "<p>2 rows × 25 columns</p>\n",
       "</div>"
      ],
      "text/plain": [
       "                         dba       boro building            street zipcode  \\\n",
       "camis                                                                        \n",
       "40610087  RUSSIAN VODKA ROOM  Manhattan      265  WEST   52 STREET   10019   \n",
       "41046726  THE CAPITAL GRILLE  Manhattan      155  EAST   42 STREET   10017   \n",
       "\n",
       "               phone cuisine_description          inspection_date  \\\n",
       "camis                                                               \n",
       "40610087  2123075835             Russian  2019-03-30T00:00:00.000   \n",
       "41046726  2129532000               Steak  2018-04-12T00:00:00.000   \n",
       "\n",
       "                                                   action violation_code  ...  \\\n",
       "camis                                                                     ...   \n",
       "40610087  Violations were cited in the following area(s).            10F  ...   \n",
       "41046726  Violations were cited in the following area(s).            06E  ...   \n",
       "\n",
       "                 latitude         longitude community_board council_district  \\\n",
       "camis                                                                          \n",
       "40610087  40.763175639217  -73.984315014892             105               03   \n",
       "41046726  40.751173988368  -73.975406637538             106               04   \n",
       "\n",
       "         census_tract      bin         bbl   nta grade  \\\n",
       "camis                                                    \n",
       "40610087       013100  1024825  1010240001  MN17   NaN   \n",
       "41046726       009200  1036160  1012970031  MN19     A   \n",
       "\n",
       "                       grade_date  \n",
       "camis                              \n",
       "40610087                      NaN  \n",
       "41046726  2018-04-12T00:00:00.000  \n",
       "\n",
       "[2 rows x 25 columns]"
      ]
     },
     "execution_count": 22,
     "metadata": {},
     "output_type": "execute_result"
    }
   ],
   "source": [
    "restaurants = restaurants.loc[restaurants['boro'] == 'Manhattan']\n",
    "\n",
    "# Setting the index to 'job_id':\n",
    "restaurants.set_index('camis',inplace = True)\n",
    "restaurants.head(2)"
   ]
  },
  {
   "cell_type": "code",
   "execution_count": 23,
   "metadata": {
    "scrolled": true
   },
   "outputs": [
    {
     "data": {
      "text/html": [
       "<div>\n",
       "<style scoped>\n",
       "    .dataframe tbody tr th:only-of-type {\n",
       "        vertical-align: middle;\n",
       "    }\n",
       "\n",
       "    .dataframe tbody tr th {\n",
       "        vertical-align: top;\n",
       "    }\n",
       "\n",
       "    .dataframe thead th {\n",
       "        text-align: right;\n",
       "    }\n",
       "</style>\n",
       "<table border=\"1\" class=\"dataframe\">\n",
       "  <thead>\n",
       "    <tr style=\"text-align: right;\">\n",
       "      <th></th>\n",
       "      <th>inspection_date</th>\n",
       "      <th>zipcode</th>\n",
       "    </tr>\n",
       "    <tr>\n",
       "      <th>camis</th>\n",
       "      <th></th>\n",
       "      <th></th>\n",
       "    </tr>\n",
       "  </thead>\n",
       "  <tbody>\n",
       "    <tr>\n",
       "      <th>40610087</th>\n",
       "      <td>2019-03-30T00:00:00.000</td>\n",
       "      <td>10019</td>\n",
       "    </tr>\n",
       "    <tr>\n",
       "      <th>41046726</th>\n",
       "      <td>2018-04-12T00:00:00.000</td>\n",
       "      <td>10017</td>\n",
       "    </tr>\n",
       "    <tr>\n",
       "      <th>41540529</th>\n",
       "      <td>2016-09-08T00:00:00.000</td>\n",
       "      <td>10003</td>\n",
       "    </tr>\n",
       "    <tr>\n",
       "      <th>50072484</th>\n",
       "      <td>2020-01-07T00:00:00.000</td>\n",
       "      <td>10128</td>\n",
       "    </tr>\n",
       "    <tr>\n",
       "      <th>50092747</th>\n",
       "      <td>2019-06-27T00:00:00.000</td>\n",
       "      <td>10010</td>\n",
       "    </tr>\n",
       "  </tbody>\n",
       "</table>\n",
       "</div>"
      ],
      "text/plain": [
       "                  inspection_date zipcode\n",
       "camis                                    \n",
       "40610087  2019-03-30T00:00:00.000   10019\n",
       "41046726  2018-04-12T00:00:00.000   10017\n",
       "41540529  2016-09-08T00:00:00.000   10003\n",
       "50072484  2020-01-07T00:00:00.000   10128\n",
       "50092747  2019-06-27T00:00:00.000   10010"
      ]
     },
     "execution_count": 23,
     "metadata": {},
     "output_type": "execute_result"
    }
   ],
   "source": [
    "restaurants_df = restaurants[['inspection_date','zipcode']]\n",
    "restaurants_df.head()"
   ]
  },
  {
   "cell_type": "code",
   "execution_count": 24,
   "metadata": {
    "scrolled": true
   },
   "outputs": [
    {
     "data": {
      "text/plain": [
       "inspection_date    0.000000\n",
       "zipcode            0.016684\n",
       "dtype: float64"
      ]
     },
     "execution_count": 24,
     "metadata": {},
     "output_type": "execute_result"
    }
   ],
   "source": [
    "restaurants_df.isnull().mean()"
   ]
  },
  {
   "cell_type": "code",
   "execution_count": 25,
   "metadata": {},
   "outputs": [],
   "source": [
    "# Changing date columns into datetime form: \n",
    "restaurants_df['inspection_date'] = pd.to_datetime(restaurants_df['inspection_date'])"
   ]
  },
  {
   "cell_type": "code",
   "execution_count": 26,
   "metadata": {},
   "outputs": [
    {
     "data": {
      "text/plain": [
       "(88308, 2)"
      ]
     },
     "execution_count": 26,
     "metadata": {},
     "output_type": "execute_result"
    }
   ],
   "source": [
    "# We are going to keep the data from 2010 to 2018:\n",
    "restaurants_df = restaurants_df.loc[(restaurants_df['inspection_date'] >= '2010-01-01')&(restaurants_df['inspection_date'] < '2019-01-01')]\n",
    "restaurants_df.shape"
   ]
  },
  {
   "cell_type": "code",
   "execution_count": 72,
   "metadata": {},
   "outputs": [
    {
     "data": {
      "text/plain": [
       "(86673, 2)"
      ]
     },
     "execution_count": 72,
     "metadata": {},
     "output_type": "execute_result"
    }
   ],
   "source": [
    "restaurants_df.dropna(inplace = True)\n",
    "restaurants_df['zipcode'] = restaurants_df['zipcode'].astype(int)\n",
    "restaurants_df = restaurants_df.loc[restaurants_df['zipcode']>10000]\n",
    "restaurants_df.shape"
   ]
  },
  {
   "cell_type": "code",
   "execution_count": 73,
   "metadata": {},
   "outputs": [],
   "source": [
    "# Export data as name \"rat_sightings.csv\":\n",
    "restaurants_df.to_csv('../datasets/restaurants_df.csv', index=False)"
   ]
  },
  {
   "cell_type": "markdown",
   "metadata": {},
   "source": [
    "### rat_sightings.csv"
   ]
  },
  {
   "cell_type": "code",
   "execution_count": 29,
   "metadata": {},
   "outputs": [
    {
     "data": {
      "text/plain": [
       "(142889, 36)"
      ]
     },
     "execution_count": 29,
     "metadata": {},
     "output_type": "execute_result"
    }
   ],
   "source": [
    "rat_sightings.shape"
   ]
  },
  {
   "cell_type": "code",
   "execution_count": 30,
   "metadata": {
    "scrolled": true
   },
   "outputs": [
    {
     "data": {
      "text/html": [
       "<div>\n",
       "<style scoped>\n",
       "    .dataframe tbody tr th:only-of-type {\n",
       "        vertical-align: middle;\n",
       "    }\n",
       "\n",
       "    .dataframe tbody tr th {\n",
       "        vertical-align: top;\n",
       "    }\n",
       "\n",
       "    .dataframe thead th {\n",
       "        text-align: right;\n",
       "    }\n",
       "</style>\n",
       "<table border=\"1\" class=\"dataframe\">\n",
       "  <thead>\n",
       "    <tr style=\"text-align: right;\">\n",
       "      <th></th>\n",
       "      <th>descriptor</th>\n",
       "      <th>incident_zip</th>\n",
       "      <th>x_coordinate_state_plane_</th>\n",
       "      <th>created_date</th>\n",
       "      <th>location</th>\n",
       "      <th>city</th>\n",
       "      <th>:@computed_region_sbqj_enih</th>\n",
       "      <th>cross_street_2</th>\n",
       "      <th>:@computed_region_efsh_h5xi</th>\n",
       "      <th>park_facility_name</th>\n",
       "      <th>...</th>\n",
       "      <th>longitude</th>\n",
       "      <th>:@computed_region_f5dn_yrer</th>\n",
       "      <th>status</th>\n",
       "      <th>unique_key</th>\n",
       "      <th>intersection_street_2</th>\n",
       "      <th>closed_date</th>\n",
       "      <th>resolution_action_updated_date</th>\n",
       "      <th>address_type</th>\n",
       "      <th>due_date</th>\n",
       "      <th>facility_type</th>\n",
       "    </tr>\n",
       "  </thead>\n",
       "  <tbody>\n",
       "    <tr>\n",
       "      <th>0</th>\n",
       "      <td>Rat Sighting</td>\n",
       "      <td>10023</td>\n",
       "      <td>987231</td>\n",
       "      <td>2020-03-01T00:32:41.000</td>\n",
       "      <td>{'latitude': '40.77421945878715', 'human_addre...</td>\n",
       "      <td>NEW YORK</td>\n",
       "      <td>12</td>\n",
       "      <td>FREEDOM PLACE SOUTH</td>\n",
       "      <td>10091</td>\n",
       "      <td>Unspecified</td>\n",
       "      <td>...</td>\n",
       "      <td>-73.9892371845004</td>\n",
       "      <td>20</td>\n",
       "      <td>In Progress</td>\n",
       "      <td>45723202</td>\n",
       "      <td>FREEDOM PLACE SOUTH</td>\n",
       "      <td>NaN</td>\n",
       "      <td>NaN</td>\n",
       "      <td>NaN</td>\n",
       "      <td>NaN</td>\n",
       "      <td>NaN</td>\n",
       "    </tr>\n",
       "    <tr>\n",
       "      <th>1</th>\n",
       "      <td>Rat Sighting</td>\n",
       "      <td>11378</td>\n",
       "      <td>1013601</td>\n",
       "      <td>2020-02-29T23:00:22.000</td>\n",
       "      <td>{'latitude': '40.72403295808778', 'human_addre...</td>\n",
       "      <td>MASPETH</td>\n",
       "      <td>62</td>\n",
       "      <td>69 PLACE</td>\n",
       "      <td>14788</td>\n",
       "      <td>Unspecified</td>\n",
       "      <td>...</td>\n",
       "      <td>-73.89410882860271</td>\n",
       "      <td>54</td>\n",
       "      <td>In Progress</td>\n",
       "      <td>45722503</td>\n",
       "      <td>69 PLACE</td>\n",
       "      <td>NaN</td>\n",
       "      <td>NaN</td>\n",
       "      <td>NaN</td>\n",
       "      <td>NaN</td>\n",
       "      <td>NaN</td>\n",
       "    </tr>\n",
       "    <tr>\n",
       "      <th>2</th>\n",
       "      <td>Rat Sighting</td>\n",
       "      <td>11103</td>\n",
       "      <td>1009282</td>\n",
       "      <td>2020-02-29T22:19:31.000</td>\n",
       "      <td>{'latitude': '40.76639220669787', 'human_addre...</td>\n",
       "      <td>ASTORIA</td>\n",
       "      <td>72</td>\n",
       "      <td>28 AVENUE</td>\n",
       "      <td>16860</td>\n",
       "      <td>Unspecified</td>\n",
       "      <td>...</td>\n",
       "      <td>-73.90963328356786</td>\n",
       "      <td>39</td>\n",
       "      <td>In Progress</td>\n",
       "      <td>45725479</td>\n",
       "      <td>28 AVENUE</td>\n",
       "      <td>NaN</td>\n",
       "      <td>NaN</td>\n",
       "      <td>NaN</td>\n",
       "      <td>NaN</td>\n",
       "      <td>NaN</td>\n",
       "    </tr>\n",
       "    <tr>\n",
       "      <th>3</th>\n",
       "      <td>Rat Sighting</td>\n",
       "      <td>11374</td>\n",
       "      <td>1023190</td>\n",
       "      <td>2020-02-29T22:07:07.000</td>\n",
       "      <td>{'latitude': '40.72997950637147', 'human_addre...</td>\n",
       "      <td>REGO PARK</td>\n",
       "      <td>70</td>\n",
       "      <td>98 STREET</td>\n",
       "      <td>14785</td>\n",
       "      <td>Unspecified</td>\n",
       "      <td>...</td>\n",
       "      <td>-73.85950151820727</td>\n",
       "      <td>40</td>\n",
       "      <td>In Progress</td>\n",
       "      <td>45722505</td>\n",
       "      <td>98 STREET</td>\n",
       "      <td>NaN</td>\n",
       "      <td>NaN</td>\n",
       "      <td>NaN</td>\n",
       "      <td>NaN</td>\n",
       "      <td>NaN</td>\n",
       "    </tr>\n",
       "    <tr>\n",
       "      <th>4</th>\n",
       "      <td>Rat Sighting</td>\n",
       "      <td>10472</td>\n",
       "      <td>1017766</td>\n",
       "      <td>2020-02-29T21:11:35.000</td>\n",
       "      <td>{'latitude': '40.8274342564627', 'human_addres...</td>\n",
       "      <td>BRONX</td>\n",
       "      <td>26</td>\n",
       "      <td>WESTCHESTER AVENUE</td>\n",
       "      <td>11610</td>\n",
       "      <td>Unspecified</td>\n",
       "      <td>...</td>\n",
       "      <td>-73.87889462284318</td>\n",
       "      <td>58</td>\n",
       "      <td>In Progress</td>\n",
       "      <td>45724727</td>\n",
       "      <td>WESTCHESTER AVENUE</td>\n",
       "      <td>NaN</td>\n",
       "      <td>NaN</td>\n",
       "      <td>NaN</td>\n",
       "      <td>NaN</td>\n",
       "      <td>NaN</td>\n",
       "    </tr>\n",
       "  </tbody>\n",
       "</table>\n",
       "<p>5 rows × 36 columns</p>\n",
       "</div>"
      ],
      "text/plain": [
       "     descriptor incident_zip x_coordinate_state_plane_  \\\n",
       "0  Rat Sighting        10023                    987231   \n",
       "1  Rat Sighting        11378                   1013601   \n",
       "2  Rat Sighting        11103                   1009282   \n",
       "3  Rat Sighting        11374                   1023190   \n",
       "4  Rat Sighting        10472                   1017766   \n",
       "\n",
       "              created_date                                           location  \\\n",
       "0  2020-03-01T00:32:41.000  {'latitude': '40.77421945878715', 'human_addre...   \n",
       "1  2020-02-29T23:00:22.000  {'latitude': '40.72403295808778', 'human_addre...   \n",
       "2  2020-02-29T22:19:31.000  {'latitude': '40.76639220669787', 'human_addre...   \n",
       "3  2020-02-29T22:07:07.000  {'latitude': '40.72997950637147', 'human_addre...   \n",
       "4  2020-02-29T21:11:35.000  {'latitude': '40.8274342564627', 'human_addres...   \n",
       "\n",
       "        city :@computed_region_sbqj_enih       cross_street_2  \\\n",
       "0   NEW YORK                          12  FREEDOM PLACE SOUTH   \n",
       "1    MASPETH                          62             69 PLACE   \n",
       "2    ASTORIA                          72            28 AVENUE   \n",
       "3  REGO PARK                          70            98 STREET   \n",
       "4      BRONX                          26   WESTCHESTER AVENUE   \n",
       "\n",
       "  :@computed_region_efsh_h5xi park_facility_name  ...           longitude  \\\n",
       "0                       10091        Unspecified  ...   -73.9892371845004   \n",
       "1                       14788        Unspecified  ...  -73.89410882860271   \n",
       "2                       16860        Unspecified  ...  -73.90963328356786   \n",
       "3                       14785        Unspecified  ...  -73.85950151820727   \n",
       "4                       11610        Unspecified  ...  -73.87889462284318   \n",
       "\n",
       "  :@computed_region_f5dn_yrer       status unique_key intersection_street_2  \\\n",
       "0                          20  In Progress   45723202   FREEDOM PLACE SOUTH   \n",
       "1                          54  In Progress   45722503              69 PLACE   \n",
       "2                          39  In Progress   45725479             28 AVENUE   \n",
       "3                          40  In Progress   45722505             98 STREET   \n",
       "4                          58  In Progress   45724727    WESTCHESTER AVENUE   \n",
       "\n",
       "  closed_date resolution_action_updated_date address_type due_date  \\\n",
       "0         NaN                            NaN          NaN      NaN   \n",
       "1         NaN                            NaN          NaN      NaN   \n",
       "2         NaN                            NaN          NaN      NaN   \n",
       "3         NaN                            NaN          NaN      NaN   \n",
       "4         NaN                            NaN          NaN      NaN   \n",
       "\n",
       "  facility_type  \n",
       "0           NaN  \n",
       "1           NaN  \n",
       "2           NaN  \n",
       "3           NaN  \n",
       "4           NaN  \n",
       "\n",
       "[5 rows x 36 columns]"
      ]
     },
     "execution_count": 30,
     "metadata": {},
     "output_type": "execute_result"
    }
   ],
   "source": [
    "rat_sightings.head(2)"
   ]
  },
  {
   "cell_type": "code",
   "execution_count": 31,
   "metadata": {
    "scrolled": false
   },
   "outputs": [
    {
     "data": {
      "text/html": [
       "<div>\n",
       "<style scoped>\n",
       "    .dataframe tbody tr th:only-of-type {\n",
       "        vertical-align: middle;\n",
       "    }\n",
       "\n",
       "    .dataframe tbody tr th {\n",
       "        vertical-align: top;\n",
       "    }\n",
       "\n",
       "    .dataframe thead th {\n",
       "        text-align: right;\n",
       "    }\n",
       "</style>\n",
       "<table border=\"1\" class=\"dataframe\">\n",
       "  <thead>\n",
       "    <tr style=\"text-align: right;\">\n",
       "      <th></th>\n",
       "      <th>incident_zip</th>\n",
       "      <th>created_date</th>\n",
       "      <th>borough</th>\n",
       "    </tr>\n",
       "  </thead>\n",
       "  <tbody>\n",
       "    <tr>\n",
       "      <th>0</th>\n",
       "      <td>10023</td>\n",
       "      <td>2020-03-01T00:32:41.000</td>\n",
       "      <td>MANHATTAN</td>\n",
       "    </tr>\n",
       "    <tr>\n",
       "      <th>1</th>\n",
       "      <td>11378</td>\n",
       "      <td>2020-02-29T23:00:22.000</td>\n",
       "      <td>QUEENS</td>\n",
       "    </tr>\n",
       "    <tr>\n",
       "      <th>2</th>\n",
       "      <td>11103</td>\n",
       "      <td>2020-02-29T22:19:31.000</td>\n",
       "      <td>QUEENS</td>\n",
       "    </tr>\n",
       "    <tr>\n",
       "      <th>3</th>\n",
       "      <td>11374</td>\n",
       "      <td>2020-02-29T22:07:07.000</td>\n",
       "      <td>QUEENS</td>\n",
       "    </tr>\n",
       "    <tr>\n",
       "      <th>4</th>\n",
       "      <td>10472</td>\n",
       "      <td>2020-02-29T21:11:35.000</td>\n",
       "      <td>BRONX</td>\n",
       "    </tr>\n",
       "  </tbody>\n",
       "</table>\n",
       "</div>"
      ],
      "text/plain": [
       "  incident_zip             created_date    borough\n",
       "0        10023  2020-03-01T00:32:41.000  MANHATTAN\n",
       "1        11378  2020-02-29T23:00:22.000     QUEENS\n",
       "2        11103  2020-02-29T22:19:31.000     QUEENS\n",
       "3        11374  2020-02-29T22:07:07.000     QUEENS\n",
       "4        10472  2020-02-29T21:11:35.000      BRONX"
      ]
     },
     "execution_count": 31,
     "metadata": {},
     "output_type": "execute_result"
    }
   ],
   "source": [
    "sightings = rat_sightings[['incident_zip', 'created_date', 'borough']]\n",
    "sightings.head()"
   ]
  },
  {
   "cell_type": "code",
   "execution_count": 32,
   "metadata": {},
   "outputs": [],
   "source": [
    "sightings = sightings.loc[sightings['borough']=='MANHATTAN'].drop(columns = 'borough')\n",
    "sightings = sightings.dropna()"
   ]
  },
  {
   "cell_type": "code",
   "execution_count": 33,
   "metadata": {},
   "outputs": [],
   "source": [
    "sightings = sightings.drop(sightings.loc[sightings['incident_zip']=='N/A'].index)\n",
    "sightings['incident_zip'] = sightings['incident_zip'].astype(int)"
   ]
  },
  {
   "cell_type": "code",
   "execution_count": 69,
   "metadata": {},
   "outputs": [
    {
     "name": "stdout",
     "output_type": "stream",
     "text": [
      "<class 'pandas.core.frame.DataFrame'>\n",
      "Int64Index: 37042 entries, 0 to 142886\n",
      "Data columns (total 2 columns):\n",
      "incident_zip    37042 non-null int64\n",
      "created_date    37042 non-null object\n",
      "dtypes: int64(1), object(1)\n",
      "memory usage: 868.2+ KB\n"
     ]
    }
   ],
   "source": [
    "sightings = sightings.loc[(sightings['incident_zip']>10000)&(sightings['incident_zip']<20000)]\n",
    "sightings.info()"
   ]
  },
  {
   "cell_type": "code",
   "execution_count": 35,
   "metadata": {},
   "outputs": [],
   "source": []
  },
  {
   "cell_type": "code",
   "execution_count": null,
   "metadata": {},
   "outputs": [],
   "source": []
  },
  {
   "cell_type": "code",
   "execution_count": null,
   "metadata": {},
   "outputs": [],
   "source": []
  }
 ],
 "metadata": {
  "kernelspec": {
   "display_name": "Python 3",
   "language": "python",
   "name": "python3"
  },
  "language_info": {
   "codemirror_mode": {
    "name": "ipython",
    "version": 3
   },
   "file_extension": ".py",
   "mimetype": "text/x-python",
   "name": "python",
   "nbconvert_exporter": "python",
   "pygments_lexer": "ipython3",
   "version": "3.7.3"
  }
 },
 "nbformat": 4,
 "nbformat_minor": 2
}

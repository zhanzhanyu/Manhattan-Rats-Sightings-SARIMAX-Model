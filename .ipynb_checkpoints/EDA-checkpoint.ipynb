{
 "cells": [
  {
   "cell_type": "markdown",
   "metadata": {},
   "source": [
    "# EDA\n",
    "#### By: _Zhan Yu_"
   ]
  },
  {
   "cell_type": "markdown",
   "metadata": {},
   "source": [
    "## Table of Contents\n",
    "- [Loading Libraries & Data](#Loading-Libraries-&-Data)"
   ]
  },
  {
   "cell_type": "markdown",
   "metadata": {},
   "source": [
    "## Loading Libraries & Data"
   ]
  },
  {
   "cell_type": "markdown",
   "metadata": {},
   "source": [
    "In this project, the two datasets [Rodent Inspection in NYC](https://data.cityofnewyork.us/Health/Rodent-Inspection/p937-wjvj) and [Restaurant-Inspection](https://data.cityofnewyork.us/Health/DOHMH-New-York-City-Restaurant-Inspection-Results/43nn-pn8j ) are public datasets from data.cityofnewyork.us"
   ]
  },
  {
   "cell_type": "code",
   "execution_count": 1,
   "metadata": {},
   "outputs": [],
   "source": [
    "# Libraries: \n",
    "import pandas as pd\n",
    "\n",
    "import os\n",
    "from sodapy import Socrata"
   ]
  },
  {
   "cell_type": "markdown",
   "metadata": {},
   "source": [
    "### SoQL(Socrata Query Language)  \n",
    "\n",
    "The Socrata APIs provide rich query functionality through a query language we call the “Socrata Query Language” or “SoQL”.   \n",
    "Install packages at the current environment (for example, mine is (dsi)) before running:\n",
    "``` Terminal\n",
    "pip install sodapy\n",
    "```"
   ]
  },
  {
   "cell_type": "code",
   "execution_count": 3,
   "metadata": {},
   "outputs": [
    {
     "name": "stderr",
     "output_type": "stream",
     "text": [
      "WARNING:root:Requests made without an app_token will be subject to strict throttling limits.\n"
     ]
    }
   ],
   "source": [
    "# Unauthenticated client only works with public data sets. Note 'None'\n",
    "# in place of application token, and no username or password:\n",
    "client = Socrata(\"data.cityofnewyork.us\", None)\n",
    "\n",
    "# Example authenticated client (needed for non-public datasets):\n",
    "# client = Socrata(data.cityofnewyork.us,\n",
    "#                  MyAppToken,\n",
    "#                  userame=\"user@example.com\",\n",
    "#                  password=\"AFakePassword\")\n",
    "\n",
    "# In this case they are public datasets.\n",
    "\n",
    "# First 1,000,000 results, returned as JSON from API / converted to Python list of\n",
    "# dictionaries by sodapy.\n",
    "results = client.get(\"p937-wjvj\",                                # Rodent Inspection dataset\n",
    "                     limit=1_000_000, where=\"boro_code = 1\")\n",
    "\n",
    "# Convert to pandas DataFrame\n",
    "rats = pd.DataFrame.from_records(results)"
   ]
  },
  {
   "cell_type": "code",
   "execution_count": null,
   "metadata": {},
   "outputs": [],
   "source": [
    "# First 500,000 results, returned as JSON from API / converted to Python list of\n",
    "# dictionaries by sodapy.\n",
    "results = client.get(\"43nn-pn8j\",                                # NYC Restaurant Inspection dataset\n",
    "                     limit=500_000)\n",
    "\n",
    "# Convert to pandas DataFrame\n",
    "restaurants = pd.DataFrame.from_records(results)"
   ]
  },
  {
   "cell_type": "code",
   "execution_count": 5,
   "metadata": {},
   "outputs": [],
   "source": [
    "# Datasets are too big (both about 200 MB) \n",
    "# rats.to_csv('datasets/rats_raw.csv', index=False)\n",
    "# restaurants.to_csv('datasets/restaurants_raw.csv', index=False)"
   ]
  },
  {
   "cell_type": "markdown",
   "metadata": {},
   "source": [
    "**rats.csv**"
   ]
  },
  {
   "cell_type": "code",
   "execution_count": 6,
   "metadata": {
    "scrolled": true
   },
   "outputs": [
    {
     "data": {
      "text/plain": [
       "(594536, 20)"
      ]
     },
     "execution_count": 6,
     "metadata": {},
     "output_type": "execute_result"
    }
   ],
   "source": [
    "rats.shape"
   ]
  },
  {
   "cell_type": "code",
   "execution_count": 7,
   "metadata": {
    "scrolled": true
   },
   "outputs": [
    {
     "data": {
      "text/plain": [
       "inspection_type                0.000000\n",
       "job_ticket_or_work_order_id    0.000000\n",
       "job_id                         0.000000\n",
       "job_progress                   0.000000\n",
       "bbl                            0.000000\n",
       "boro_code                      0.000000\n",
       "block                          0.000000\n",
       "lot                            0.000000\n",
       "house_number                   0.013893\n",
       "street_name                    0.000631\n",
       "zip_code                       0.004043\n",
       "x_coord                        0.001759\n",
       "y_coord                        0.001759\n",
       "latitude                       0.000891\n",
       "longitude                      0.000891\n",
       "borough                        0.000000\n",
       "inspection_date                0.000000\n",
       "result                         0.000002\n",
       "approved_date                  0.000000\n",
       "location                       0.001097\n",
       "dtype: float64"
      ]
     },
     "execution_count": 7,
     "metadata": {},
     "output_type": "execute_result"
    }
   ],
   "source": [
    "rats.isnull().mean()"
   ]
  },
  {
   "cell_type": "code",
   "execution_count": 8,
   "metadata": {},
   "outputs": [],
   "source": [
    "rats.dropna(inplace = True)"
   ]
  },
  {
   "cell_type": "code",
   "execution_count": 9,
   "metadata": {
    "scrolled": false
   },
   "outputs": [
    {
     "data": {
      "text/plain": [
       "(583054, 20)"
      ]
     },
     "execution_count": 9,
     "metadata": {},
     "output_type": "execute_result"
    }
   ],
   "source": [
    "rats.shape"
   ]
  },
  {
   "cell_type": "code",
   "execution_count": 10,
   "metadata": {},
   "outputs": [],
   "source": [
    "rats.set_index('job_id',inplace = True)"
   ]
  },
  {
   "cell_type": "code",
   "execution_count": 11,
   "metadata": {
    "scrolled": true
   },
   "outputs": [
    {
     "data": {
      "text/plain": [
       "Index(['inspection_type', 'job_ticket_or_work_order_id', 'job_progress', 'bbl',\n",
       "       'boro_code', 'block', 'lot', 'house_number', 'street_name', 'zip_code',\n",
       "       'x_coord', 'y_coord', 'latitude', 'longitude', 'borough',\n",
       "       'inspection_date', 'result', 'approved_date', 'location'],\n",
       "      dtype='object')"
      ]
     },
     "execution_count": 11,
     "metadata": {},
     "output_type": "execute_result"
    }
   ],
   "source": [
    "rats.columns"
   ]
  },
  {
   "cell_type": "code",
   "execution_count": 13,
   "metadata": {
    "scrolled": false
   },
   "outputs": [
    {
     "data": {
      "text/html": [
       "<div>\n",
       "<style scoped>\n",
       "    .dataframe tbody tr th:only-of-type {\n",
       "        vertical-align: middle;\n",
       "    }\n",
       "\n",
       "    .dataframe tbody tr th {\n",
       "        vertical-align: top;\n",
       "    }\n",
       "\n",
       "    .dataframe thead th {\n",
       "        text-align: right;\n",
       "    }\n",
       "</style>\n",
       "<table border=\"1\" class=\"dataframe\">\n",
       "  <thead>\n",
       "    <tr style=\"text-align: right;\">\n",
       "      <th></th>\n",
       "      <th>inspection_type</th>\n",
       "      <th>job_progress</th>\n",
       "      <th>bbl</th>\n",
       "      <th>latitude</th>\n",
       "      <th>longitude</th>\n",
       "      <th>inspection_date</th>\n",
       "      <th>result</th>\n",
       "      <th>approved_date</th>\n",
       "    </tr>\n",
       "    <tr>\n",
       "      <th>job_id</th>\n",
       "      <th></th>\n",
       "      <th></th>\n",
       "      <th></th>\n",
       "      <th></th>\n",
       "      <th></th>\n",
       "      <th></th>\n",
       "      <th></th>\n",
       "      <th></th>\n",
       "    </tr>\n",
       "  </thead>\n",
       "  <tbody>\n",
       "    <tr>\n",
       "      <th>PO2075886</th>\n",
       "      <td>INITIAL</td>\n",
       "      <td>1</td>\n",
       "      <td>1022430001</td>\n",
       "      <td>40.868203550611</td>\n",
       "      <td>-73.919469362846</td>\n",
       "      <td>2019-08-02T11:11:55.000</td>\n",
       "      <td>Active Rat Signs</td>\n",
       "      <td>2019-08-07T11:34:09.000</td>\n",
       "    </tr>\n",
       "    <tr>\n",
       "      <th>PO333717</th>\n",
       "      <td>BAIT</td>\n",
       "      <td>5</td>\n",
       "      <td>1009620100</td>\n",
       "      <td>40.739489790595</td>\n",
       "      <td>-73.976623458224</td>\n",
       "      <td>2011-10-26T09:45:58.000</td>\n",
       "      <td>Bait applied</td>\n",
       "      <td>2011-10-28T07:14:07.000</td>\n",
       "    </tr>\n",
       "    <tr>\n",
       "      <th>PO431003</th>\n",
       "      <td>BAIT</td>\n",
       "      <td>1</td>\n",
       "      <td>1022290001</td>\n",
       "      <td>40.868266491555</td>\n",
       "      <td>-73.919201730342</td>\n",
       "      <td>2012-03-19T14:00:03.000</td>\n",
       "      <td>Bait applied</td>\n",
       "      <td>2012-03-20T07:20:09.000</td>\n",
       "    </tr>\n",
       "    <tr>\n",
       "      <th>PO333717</th>\n",
       "      <td>BAIT</td>\n",
       "      <td>4</td>\n",
       "      <td>1009620100</td>\n",
       "      <td>40.739489790595</td>\n",
       "      <td>-73.976623458224</td>\n",
       "      <td>2011-10-17T13:50:37.000</td>\n",
       "      <td>Bait applied</td>\n",
       "      <td>2011-10-18T07:09:09.000</td>\n",
       "    </tr>\n",
       "    <tr>\n",
       "      <th>PO422674</th>\n",
       "      <td>BAIT</td>\n",
       "      <td>1</td>\n",
       "      <td>1022290001</td>\n",
       "      <td>40.868266491555</td>\n",
       "      <td>-73.919201730342</td>\n",
       "      <td>2012-03-08T13:51:50.000</td>\n",
       "      <td>Bait applied</td>\n",
       "      <td>2012-03-09T12:23:58.000</td>\n",
       "    </tr>\n",
       "  </tbody>\n",
       "</table>\n",
       "</div>"
      ],
      "text/plain": [
       "          inspection_type job_progress         bbl         latitude  \\\n",
       "job_id                                                                \n",
       "PO2075886         INITIAL            1  1022430001  40.868203550611   \n",
       "PO333717             BAIT            5  1009620100  40.739489790595   \n",
       "PO431003             BAIT            1  1022290001  40.868266491555   \n",
       "PO333717             BAIT            4  1009620100  40.739489790595   \n",
       "PO422674             BAIT            1  1022290001  40.868266491555   \n",
       "\n",
       "                  longitude          inspection_date            result  \\\n",
       "job_id                                                                   \n",
       "PO2075886  -73.919469362846  2019-08-02T11:11:55.000  Active Rat Signs   \n",
       "PO333717   -73.976623458224  2011-10-26T09:45:58.000      Bait applied   \n",
       "PO431003   -73.919201730342  2012-03-19T14:00:03.000      Bait applied   \n",
       "PO333717   -73.976623458224  2011-10-17T13:50:37.000      Bait applied   \n",
       "PO422674   -73.919201730342  2012-03-08T13:51:50.000      Bait applied   \n",
       "\n",
       "                     approved_date  \n",
       "job_id                              \n",
       "PO2075886  2019-08-07T11:34:09.000  \n",
       "PO333717   2011-10-28T07:14:07.000  \n",
       "PO431003   2012-03-20T07:20:09.000  \n",
       "PO333717   2011-10-18T07:09:09.000  \n",
       "PO422674   2012-03-09T12:23:58.000  "
      ]
     },
     "execution_count": 13,
     "metadata": {},
     "output_type": "execute_result"
    }
   ],
   "source": [
    "rats_df = rats[['inspection_type',\n",
    "       'job_progress', 'bbl','latitude',\n",
    "       'longitude','inspection_date', 'result', 'approved_date']]\n",
    "rats_df.head()"
   ]
  },
  {
   "cell_type": "code",
   "execution_count": 14,
   "metadata": {
    "scrolled": true
   },
   "outputs": [
    {
     "data": {
      "text/plain": [
       "0"
      ]
     },
     "execution_count": 14,
     "metadata": {},
     "output_type": "execute_result"
    }
   ],
   "source": [
    "rats.isnull().sum().sum()"
   ]
  },
  {
   "cell_type": "code",
   "execution_count": 15,
   "metadata": {},
   "outputs": [
    {
     "name": "stderr",
     "output_type": "stream",
     "text": [
      "/Users/zhan/opt/anaconda3/envs/dsi/lib/python3.7/site-packages/ipykernel_launcher.py:1: SettingWithCopyWarning: \n",
      "A value is trying to be set on a copy of a slice from a DataFrame.\n",
      "Try using .loc[row_indexer,col_indexer] = value instead\n",
      "\n",
      "See the caveats in the documentation: http://pandas.pydata.org/pandas-docs/stable/user_guide/indexing.html#returning-a-view-versus-a-copy\n",
      "  \"\"\"Entry point for launching an IPython kernel.\n",
      "/Users/zhan/opt/anaconda3/envs/dsi/lib/python3.7/site-packages/ipykernel_launcher.py:2: SettingWithCopyWarning: \n",
      "A value is trying to be set on a copy of a slice from a DataFrame.\n",
      "Try using .loc[row_indexer,col_indexer] = value instead\n",
      "\n",
      "See the caveats in the documentation: http://pandas.pydata.org/pandas-docs/stable/user_guide/indexing.html#returning-a-view-versus-a-copy\n",
      "  \n"
     ]
    }
   ],
   "source": [
    "rats_df['inspection_date'] = pd.to_datetime(rats_df['inspection_date'])\n",
    "rats_df['approved_date'] = pd.to_datetime(rats_df['approved_date'])"
   ]
  },
  {
   "cell_type": "code",
   "execution_count": 16,
   "metadata": {},
   "outputs": [
    {
     "data": {
      "text/plain": [
       "inspection_type            object\n",
       "job_progress               object\n",
       "bbl                        object\n",
       "latitude                   object\n",
       "longitude                  object\n",
       "inspection_date    datetime64[ns]\n",
       "result                     object\n",
       "approved_date      datetime64[ns]\n",
       "dtype: object"
      ]
     },
     "execution_count": 16,
     "metadata": {},
     "output_type": "execute_result"
    }
   ],
   "source": [
    "rats_df.dtypes"
   ]
  },
  {
   "cell_type": "code",
   "execution_count": 17,
   "metadata": {
    "scrolled": true
   },
   "outputs": [
    {
     "data": {
      "text/plain": [
       "Index(['PO2167036', 'PO2167008', 'PO2189724', 'PO2125410', 'PO2167016',\n",
       "       'PO2166220', 'PO2104678', 'PO2167032', 'PO2166216', 'PO2167034',\n",
       "       ...\n",
       "       'PO1492406', 'PO1907117', 'PO1948729', 'PO2066470', 'PO1292060',\n",
       "       'PO1429204', 'PO1992462', 'PO1344062', 'PO51132', 'PO1836311'],\n",
       "      dtype='object', name='job_id', length=583054)"
      ]
     },
     "execution_count": 17,
     "metadata": {},
     "output_type": "execute_result"
    }
   ],
   "source": [
    "rats_df['inspection_date'].sort_values(ascending = False).index"
   ]
  },
  {
   "cell_type": "code",
   "execution_count": 21,
   "metadata": {},
   "outputs": [],
   "source": [
    "rats_df = rats_df.sort_values(by = 'inspection_date', ascending = False)"
   ]
  },
  {
   "cell_type": "code",
   "execution_count": 22,
   "metadata": {},
   "outputs": [
    {
     "data": {
      "text/html": [
       "<div>\n",
       "<style scoped>\n",
       "    .dataframe tbody tr th:only-of-type {\n",
       "        vertical-align: middle;\n",
       "    }\n",
       "\n",
       "    .dataframe tbody tr th {\n",
       "        vertical-align: top;\n",
       "    }\n",
       "\n",
       "    .dataframe thead th {\n",
       "        text-align: right;\n",
       "    }\n",
       "</style>\n",
       "<table border=\"1\" class=\"dataframe\">\n",
       "  <thead>\n",
       "    <tr style=\"text-align: right;\">\n",
       "      <th></th>\n",
       "      <th>inspection_type</th>\n",
       "      <th>job_progress</th>\n",
       "      <th>bbl</th>\n",
       "      <th>latitude</th>\n",
       "      <th>longitude</th>\n",
       "      <th>inspection_date</th>\n",
       "      <th>result</th>\n",
       "      <th>approved_date</th>\n",
       "    </tr>\n",
       "    <tr>\n",
       "      <th>job_id</th>\n",
       "      <th></th>\n",
       "      <th></th>\n",
       "      <th></th>\n",
       "      <th></th>\n",
       "      <th></th>\n",
       "      <th></th>\n",
       "      <th></th>\n",
       "      <th></th>\n",
       "    </tr>\n",
       "  </thead>\n",
       "  <tbody>\n",
       "    <tr>\n",
       "      <th>PO2167036</th>\n",
       "      <td>COMPLIANCE</td>\n",
       "      <td>2</td>\n",
       "      <td>1016390133</td>\n",
       "      <td>40.795053875967</td>\n",
       "      <td>-73.943041006587</td>\n",
       "      <td>2020-01-08 13:20:54</td>\n",
       "      <td>Active Rat Signs</td>\n",
       "      <td>2020-01-09 08:16:29</td>\n",
       "    </tr>\n",
       "    <tr>\n",
       "      <th>PO2167008</th>\n",
       "      <td>COMPLIANCE</td>\n",
       "      <td>2</td>\n",
       "      <td>1016390021</td>\n",
       "      <td>40.795248979755</td>\n",
       "      <td>-73.943499517247</td>\n",
       "      <td>2020-01-08 13:10:44</td>\n",
       "      <td>Active Rat Signs</td>\n",
       "      <td>2020-01-09 08:16:29</td>\n",
       "    </tr>\n",
       "    <tr>\n",
       "      <th>PO2189724</th>\n",
       "      <td>INITIAL</td>\n",
       "      <td>1</td>\n",
       "      <td>1004160001</td>\n",
       "      <td>40.720992060105</td>\n",
       "      <td>-73.990497583403</td>\n",
       "      <td>2020-01-08 13:10:40</td>\n",
       "      <td>Passed Inspection</td>\n",
       "      <td>2020-01-09 09:39:57</td>\n",
       "    </tr>\n",
       "    <tr>\n",
       "      <th>PO2125410</th>\n",
       "      <td>COMPLIANCE</td>\n",
       "      <td>2</td>\n",
       "      <td>1010100046</td>\n",
       "      <td>40.765455462661</td>\n",
       "      <td>-73.977827275154</td>\n",
       "      <td>2020-01-08 13:05:13</td>\n",
       "      <td>Passed Inspection</td>\n",
       "      <td>2020-01-09 08:54:36</td>\n",
       "    </tr>\n",
       "    <tr>\n",
       "      <th>PO2167016</th>\n",
       "      <td>COMPLIANCE</td>\n",
       "      <td>2</td>\n",
       "      <td>1016390035</td>\n",
       "      <td>40.794940931638</td>\n",
       "      <td>-73.942221265198</td>\n",
       "      <td>2020-01-08 13:00:09</td>\n",
       "      <td>Passed Inspection</td>\n",
       "      <td>2020-01-09 08:16:29</td>\n",
       "    </tr>\n",
       "  </tbody>\n",
       "</table>\n",
       "</div>"
      ],
      "text/plain": [
       "          inspection_type job_progress         bbl         latitude  \\\n",
       "job_id                                                                \n",
       "PO2167036      COMPLIANCE            2  1016390133  40.795053875967   \n",
       "PO2167008      COMPLIANCE            2  1016390021  40.795248979755   \n",
       "PO2189724         INITIAL            1  1004160001  40.720992060105   \n",
       "PO2125410      COMPLIANCE            2  1010100046  40.765455462661   \n",
       "PO2167016      COMPLIANCE            2  1016390035  40.794940931638   \n",
       "\n",
       "                  longitude     inspection_date             result  \\\n",
       "job_id                                                               \n",
       "PO2167036  -73.943041006587 2020-01-08 13:20:54   Active Rat Signs   \n",
       "PO2167008  -73.943499517247 2020-01-08 13:10:44   Active Rat Signs   \n",
       "PO2189724  -73.990497583403 2020-01-08 13:10:40  Passed Inspection   \n",
       "PO2125410  -73.977827275154 2020-01-08 13:05:13  Passed Inspection   \n",
       "PO2167016  -73.942221265198 2020-01-08 13:00:09  Passed Inspection   \n",
       "\n",
       "                approved_date  \n",
       "job_id                         \n",
       "PO2167036 2020-01-09 08:16:29  \n",
       "PO2167008 2020-01-09 08:16:29  \n",
       "PO2189724 2020-01-09 09:39:57  \n",
       "PO2125410 2020-01-09 08:54:36  \n",
       "PO2167016 2020-01-09 08:16:29  "
      ]
     },
     "execution_count": 22,
     "metadata": {},
     "output_type": "execute_result"
    }
   ],
   "source": [
    "rats_df.head()"
   ]
  },
  {
   "cell_type": "code",
   "execution_count": 29,
   "metadata": {},
   "outputs": [
    {
     "data": {
      "text/plain": [
       "1003020001    428\n",
       "1001650001    408\n",
       "1001220001    327\n",
       "1003890036    313\n",
       "1004200001    282\n",
       "             ... \n",
       "1016670013      1\n",
       "1008490053      1\n",
       "1012607501      1\n",
       "1017708900      1\n",
       "1005940074      1\n",
       "Name: bbl, Length: 43542, dtype: int64"
      ]
     },
     "execution_count": 29,
     "metadata": {},
     "output_type": "execute_result"
    }
   ],
   "source": [
    "rats_df['bbl'].value_counts()"
   ]
  },
  {
   "cell_type": "markdown",
   "metadata": {},
   "source": [
    "**restaurants.csv**"
   ]
  },
  {
   "cell_type": "code",
   "execution_count": 13,
   "metadata": {
    "scrolled": true
   },
   "outputs": [
    {
     "data": {
      "text/plain": [
       "(401074, 26)"
      ]
     },
     "execution_count": 13,
     "metadata": {},
     "output_type": "execute_result"
    }
   ],
   "source": [
    "restaurants.shape"
   ]
  },
  {
   "cell_type": "code",
   "execution_count": 25,
   "metadata": {},
   "outputs": [],
   "source": [
    "restaurants = restaurants.loc[restaurants['boro'] == 'Manhattan']"
   ]
  },
  {
   "cell_type": "code",
   "execution_count": 30,
   "metadata": {
    "scrolled": true
   },
   "outputs": [
    {
     "data": {
      "text/plain": [
       "camis                    0.000000\n",
       "dba                      0.000811\n",
       "boro                     0.000000\n",
       "building                 0.000665\n",
       "street                   0.000000\n",
       "zipcode                  0.016704\n",
       "phone                    0.000000\n",
       "cuisine_description      0.000000\n",
       "inspection_date          0.000000\n",
       "action                   0.003598\n",
       "violation_code           0.013454\n",
       "violation_description    0.020105\n",
       "critical_flag            0.020105\n",
       "score                    0.042313\n",
       "grade                    0.497169\n",
       "grade_date               0.504136\n",
       "record_date              0.000000\n",
       "inspection_type          0.003598\n",
       "latitude                 0.001051\n",
       "longitude                0.001051\n",
       "community_board          0.017755\n",
       "council_district         0.017679\n",
       "census_tract             0.017679\n",
       "bin                      0.020764\n",
       "bbl                      0.001051\n",
       "nta                      0.017755\n",
       "dtype: float64"
      ]
     },
     "execution_count": 30,
     "metadata": {},
     "output_type": "execute_result"
    }
   ],
   "source": [
    "restaurants.isnull().mean()"
   ]
  },
  {
   "cell_type": "code",
   "execution_count": 23,
   "metadata": {
    "scrolled": true
   },
   "outputs": [
    {
     "data": {
      "text/html": [
       "<div>\n",
       "<style scoped>\n",
       "    .dataframe tbody tr th:only-of-type {\n",
       "        vertical-align: middle;\n",
       "    }\n",
       "\n",
       "    .dataframe tbody tr th {\n",
       "        vertical-align: top;\n",
       "    }\n",
       "\n",
       "    .dataframe thead th {\n",
       "        text-align: right;\n",
       "    }\n",
       "</style>\n",
       "<table border=\"1\" class=\"dataframe\">\n",
       "  <thead>\n",
       "    <tr style=\"text-align: right;\">\n",
       "      <th></th>\n",
       "      <th>camis</th>\n",
       "      <th>dba</th>\n",
       "      <th>boro</th>\n",
       "      <th>building</th>\n",
       "      <th>street</th>\n",
       "      <th>zipcode</th>\n",
       "      <th>phone</th>\n",
       "      <th>cuisine_description</th>\n",
       "      <th>inspection_date</th>\n",
       "      <th>action</th>\n",
       "      <th>...</th>\n",
       "      <th>record_date</th>\n",
       "      <th>inspection_type</th>\n",
       "      <th>latitude</th>\n",
       "      <th>longitude</th>\n",
       "      <th>community_board</th>\n",
       "      <th>council_district</th>\n",
       "      <th>census_tract</th>\n",
       "      <th>bin</th>\n",
       "      <th>bbl</th>\n",
       "      <th>nta</th>\n",
       "    </tr>\n",
       "  </thead>\n",
       "  <tbody>\n",
       "    <tr>\n",
       "      <th>0</th>\n",
       "      <td>50017603</td>\n",
       "      <td>SWEET GARDEN CHINESE TAKEOUT RESTAURANT</td>\n",
       "      <td>Queens</td>\n",
       "      <td>7922</td>\n",
       "      <td>PARSONS BLVD</td>\n",
       "      <td>11366</td>\n",
       "      <td>7185913462</td>\n",
       "      <td>Chinese</td>\n",
       "      <td>2018-05-17T00:00:00.000</td>\n",
       "      <td>Violations were cited in the following area(s).</td>\n",
       "      <td>...</td>\n",
       "      <td>2020-02-25T06:00:52.000</td>\n",
       "      <td>Cycle Inspection / Re-inspection</td>\n",
       "      <td>40.720644462955</td>\n",
       "      <td>-73.809263463716</td>\n",
       "      <td>408</td>\n",
       "      <td>24</td>\n",
       "      <td>077904</td>\n",
       "      <td>4147723</td>\n",
       "      <td>4068170020</td>\n",
       "      <td>QN37</td>\n",
       "    </tr>\n",
       "    <tr>\n",
       "      <th>1</th>\n",
       "      <td>40400049</td>\n",
       "      <td>PANYA/AUTRE KYOYA</td>\n",
       "      <td>Manhattan</td>\n",
       "      <td>810</td>\n",
       "      <td>STUYVESANT STREET</td>\n",
       "      <td>NaN</td>\n",
       "      <td>2125980454</td>\n",
       "      <td>Japanese</td>\n",
       "      <td>2017-01-03T00:00:00.000</td>\n",
       "      <td>Violations were cited in the following area(s).</td>\n",
       "      <td>...</td>\n",
       "      <td>2020-02-25T06:00:52.000</td>\n",
       "      <td>Cycle Inspection / Re-inspection</td>\n",
       "      <td>0</td>\n",
       "      <td>0</td>\n",
       "      <td>NaN</td>\n",
       "      <td>NaN</td>\n",
       "      <td>NaN</td>\n",
       "      <td>NaN</td>\n",
       "      <td>1</td>\n",
       "      <td>NaN</td>\n",
       "    </tr>\n",
       "  </tbody>\n",
       "</table>\n",
       "<p>2 rows × 26 columns</p>\n",
       "</div>"
      ],
      "text/plain": [
       "      camis                                      dba       boro building  \\\n",
       "0  50017603  SWEET GARDEN CHINESE TAKEOUT RESTAURANT     Queens     7922   \n",
       "1  40400049                        PANYA/AUTRE KYOYA  Manhattan      810   \n",
       "\n",
       "              street zipcode       phone cuisine_description  \\\n",
       "0       PARSONS BLVD   11366  7185913462             Chinese   \n",
       "1  STUYVESANT STREET     NaN  2125980454            Japanese   \n",
       "\n",
       "           inspection_date                                           action  \\\n",
       "0  2018-05-17T00:00:00.000  Violations were cited in the following area(s).   \n",
       "1  2017-01-03T00:00:00.000  Violations were cited in the following area(s).   \n",
       "\n",
       "   ...              record_date                   inspection_type  \\\n",
       "0  ...  2020-02-25T06:00:52.000  Cycle Inspection / Re-inspection   \n",
       "1  ...  2020-02-25T06:00:52.000  Cycle Inspection / Re-inspection   \n",
       "\n",
       "          latitude         longitude community_board council_district  \\\n",
       "0  40.720644462955  -73.809263463716             408               24   \n",
       "1                0                 0             NaN              NaN   \n",
       "\n",
       "  census_tract      bin         bbl   nta  \n",
       "0       077904  4147723  4068170020  QN37  \n",
       "1          NaN      NaN           1   NaN  \n",
       "\n",
       "[2 rows x 26 columns]"
      ]
     },
     "execution_count": 23,
     "metadata": {},
     "output_type": "execute_result"
    }
   ],
   "source": [
    "restaurants.head(2)"
   ]
  },
  {
   "cell_type": "code",
   "execution_count": null,
   "metadata": {},
   "outputs": [],
   "source": [
    "res"
   ]
  },
  {
   "cell_type": "code",
   "execution_count": 9,
   "metadata": {},
   "outputs": [
    {
     "data": {
      "text/plain": [
       "{'Active Rat Signs',\n",
       " 'Bait applied',\n",
       " 'Cleanup done',\n",
       " 'Monitoring visit',\n",
       " 'Passed Inspection',\n",
       " 'Problem Conditions',\n",
       " nan}"
      ]
     },
     "execution_count": 9,
     "metadata": {},
     "output_type": "execute_result"
    }
   ],
   "source": [
    "set(rats['result'])"
   ]
  },
  {
   "cell_type": "code",
   "execution_count": 15,
   "metadata": {},
   "outputs": [
    {
     "data": {
      "text/plain": [
       "{'BAIT', 'CLEAN_UPS', 'COMPLIANCE', 'INITIAL'}"
      ]
     },
     "execution_count": 15,
     "metadata": {},
     "output_type": "execute_result"
    }
   ],
   "source": [
    "set(rats['inspection_type'])"
   ]
  },
  {
   "cell_type": "code",
   "execution_count": 16,
   "metadata": {},
   "outputs": [
    {
     "data": {
      "text/plain": [
       "{'Establishment Closed by DOHMH.  Violations were cited in the following area(s) and those requiring immediate action were addressed.',\n",
       " 'Establishment re-closed by DOHMH',\n",
       " 'Establishment re-opened by DOHMH',\n",
       " 'No violations were recorded at the time of this inspection.',\n",
       " 'Violations were cited in the following area(s).',\n",
       " nan}"
      ]
     },
     "execution_count": 16,
     "metadata": {},
     "output_type": "execute_result"
    }
   ],
   "source": [
    "set(restaurants['action'])"
   ]
  }
 ],
 "metadata": {
  "kernelspec": {
   "display_name": "Python 3",
   "language": "python",
   "name": "python3"
  },
  "language_info": {
   "codemirror_mode": {
    "name": "ipython",
    "version": 3
   },
   "file_extension": ".py",
   "mimetype": "text/x-python",
   "name": "python",
   "nbconvert_exporter": "python",
   "pygments_lexer": "ipython3",
   "version": "3.7.3"
  }
 },
 "nbformat": 4,
 "nbformat_minor": 2
}

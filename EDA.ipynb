{
 "cells": [
  {
   "cell_type": "markdown",
   "metadata": {},
   "source": [
    "# EDA\n",
    "#### By: _Zhan Yu_"
   ]
  },
  {
   "cell_type": "markdown",
   "metadata": {},
   "source": [
    "## Table of Contents\n",
    "- [Loading Libraries & Data](#Loading-Libraries-&-Data)"
   ]
  },
  {
   "cell_type": "markdown",
   "metadata": {},
   "source": [
    "## Loading Libraries & Data"
   ]
  },
  {
   "cell_type": "markdown",
   "metadata": {},
   "source": [
    "In this project, the two datasets [Rodent Inspection in NYC](https://data.cityofnewyork.us/Health/Rodent-Inspection/p937-wjvj) and [Restaurant-Inspection](https://data.cityofnewyork.us/Health/DOHMH-New-York-City-Restaurant-Inspection-Results/43nn-pn8j ) are public datasets from data.cityofnewyork.us"
   ]
  },
  {
   "cell_type": "code",
   "execution_count": 1,
   "metadata": {},
   "outputs": [],
   "source": [
    "# Libraries: \n",
    "import pandas as pd\n",
    "\n",
    "import os\n",
    "from sodapy import Socrata"
   ]
  },
  {
   "cell_type": "markdown",
   "metadata": {},
   "source": [
    "### SoQL(Socrata Query Language)  \n",
    "\n",
    "The Socrata APIs provide rich query functionality through a query language we call the “Socrata Query Language” or “SoQL”.   \n",
    "Install packages at the current environment (for example, mine is (dsi)) before running:\n",
    "``` Terminal\n",
    "pip install sodapy\n",
    "```"
   ]
  },
  {
   "cell_type": "code",
   "execution_count": 5,
   "metadata": {},
   "outputs": [
    {
     "name": "stderr",
     "output_type": "stream",
     "text": [
      "WARNING:root:Requests made without an app_token will be subject to strict throttling limits.\n"
     ]
    }
   ],
   "source": [
    "# Unauthenticated client only works with public data sets. Note 'None'\n",
    "# in place of application token, and no username or password:\n",
    "client = Socrata(\"data.cityofnewyork.us\", None)\n",
    "\n",
    "# Example authenticated client (needed for non-public datasets):\n",
    "# client = Socrata(data.cityofnewyork.us,\n",
    "#                  MyAppToken,\n",
    "#                  userame=\"user@example.com\",\n",
    "#                  password=\"AFakePassword\")\n",
    "\n",
    "# In this case they are public datasets.\n",
    "\n",
    "# First 1,000,000 results, returned as JSON from API / converted to Python list of\n",
    "# dictionaries by sodapy.\n",
    "results = client.get(\"p937-wjvj\",                                # Rodent Inspection dataset\n",
    "                     limit=1_000_000, where=\"boro_code = 1\")\n",
    "\n",
    "# Convert to pandas DataFrame\n",
    "rats = pd.DataFrame.from_records(results)"
   ]
  },
  {
   "cell_type": "code",
   "execution_count": 12,
   "metadata": {},
   "outputs": [],
   "source": [
    "# First 500,000 results, returned as JSON from API / converted to Python list of\n",
    "# dictionaries by sodapy.\n",
    "results = client.get(\"43nn-pn8j\",                                # NYC Restaurant Inspection dataset\n",
    "                     limit=500_000)\n",
    "\n",
    "# Convert to pandas DataFrame\n",
    "restaurants = pd.DataFrame.from_records(results)"
   ]
  },
  {
   "cell_type": "code",
   "execution_count": 17,
   "metadata": {},
   "outputs": [],
   "source": [
    "# Datasets are too big (both about 200 MB) \n",
    "# rats.to_csv('datasets/rats_raw.csv', index=False)\n",
    "# restaurants.to_csv('datasets/restaurants_raw.csv', index=False)"
   ]
  },
  {
   "cell_type": "markdown",
   "metadata": {},
   "source": [
    "**rats.csv**"
   ]
  },
  {
   "cell_type": "code",
   "execution_count": 6,
   "metadata": {
    "scrolled": true
   },
   "outputs": [
    {
     "data": {
      "text/plain": [
       "(594536, 20)"
      ]
     },
     "execution_count": 6,
     "metadata": {},
     "output_type": "execute_result"
    }
   ],
   "source": [
    "rats.shape"
   ]
  },
  {
   "cell_type": "code",
   "execution_count": 20,
   "metadata": {
    "scrolled": true
   },
   "outputs": [
    {
     "data": {
      "text/plain": [
       "inspection_type                0.000000\n",
       "job_ticket_or_work_order_id    0.000000\n",
       "job_id                         0.000000\n",
       "job_progress                   0.000000\n",
       "bbl                            0.000000\n",
       "boro_code                      0.000000\n",
       "block                          0.000000\n",
       "lot                            0.000000\n",
       "house_number                   0.013893\n",
       "street_name                    0.000631\n",
       "zip_code                       0.004043\n",
       "x_coord                        0.001759\n",
       "y_coord                        0.001759\n",
       "latitude                       0.000891\n",
       "longitude                      0.000891\n",
       "borough                        0.000000\n",
       "inspection_date                0.000000\n",
       "result                         0.000002\n",
       "approved_date                  0.000000\n",
       "location                       0.001097\n",
       "dtype: float64"
      ]
     },
     "execution_count": 20,
     "metadata": {},
     "output_type": "execute_result"
    }
   ],
   "source": [
    "rats.isnull().mean()"
   ]
  },
  {
   "cell_type": "code",
   "execution_count": 22,
   "metadata": {},
   "outputs": [],
   "source": [
    "rats.dropna(inplace = True)"
   ]
  },
  {
   "cell_type": "code",
   "execution_count": 23,
   "metadata": {
    "scrolled": false
   },
   "outputs": [
    {
     "data": {
      "text/plain": [
       "(583054, 20)"
      ]
     },
     "execution_count": 23,
     "metadata": {},
     "output_type": "execute_result"
    }
   ],
   "source": [
    "rats.shape"
   ]
  },
  {
   "cell_type": "code",
   "execution_count": 32,
   "metadata": {},
   "outputs": [],
   "source": [
    "rats.set_index('job_id',inplace = True)"
   ]
  },
  {
   "cell_type": "code",
   "execution_count": 24,
   "metadata": {
    "scrolled": true
   },
   "outputs": [
    {
     "data": {
      "text/plain": [
       "Index(['inspection_type', 'job_ticket_or_work_order_id', 'job_id',\n",
       "       'job_progress', 'bbl', 'boro_code', 'block', 'lot', 'house_number',\n",
       "       'street_name', 'zip_code', 'x_coord', 'y_coord', 'latitude',\n",
       "       'longitude', 'borough', 'inspection_date', 'result', 'approved_date',\n",
       "       'location'],\n",
       "      dtype='object')"
      ]
     },
     "execution_count": 24,
     "metadata": {},
     "output_type": "execute_result"
    }
   ],
   "source": [
    "rats.columns"
   ]
  },
  {
   "cell_type": "code",
   "execution_count": 33,
   "metadata": {
    "scrolled": false
   },
   "outputs": [
    {
     "data": {
      "text/html": [
       "<div>\n",
       "<style scoped>\n",
       "    .dataframe tbody tr th:only-of-type {\n",
       "        vertical-align: middle;\n",
       "    }\n",
       "\n",
       "    .dataframe tbody tr th {\n",
       "        vertical-align: top;\n",
       "    }\n",
       "\n",
       "    .dataframe thead th {\n",
       "        text-align: right;\n",
       "    }\n",
       "</style>\n",
       "<table border=\"1\" class=\"dataframe\">\n",
       "  <thead>\n",
       "    <tr style=\"text-align: right;\">\n",
       "      <th></th>\n",
       "      <th>inspection_type</th>\n",
       "      <th>job_progress</th>\n",
       "      <th>bbl</th>\n",
       "      <th>latitude</th>\n",
       "      <th>longitude</th>\n",
       "      <th>inspection_date</th>\n",
       "      <th>result</th>\n",
       "      <th>approved_date</th>\n",
       "    </tr>\n",
       "    <tr>\n",
       "      <th>job_id</th>\n",
       "      <th></th>\n",
       "      <th></th>\n",
       "      <th></th>\n",
       "      <th></th>\n",
       "      <th></th>\n",
       "      <th></th>\n",
       "      <th></th>\n",
       "      <th></th>\n",
       "    </tr>\n",
       "  </thead>\n",
       "  <tbody>\n",
       "    <tr>\n",
       "      <th>PO2075886</th>\n",
       "      <td>INITIAL</td>\n",
       "      <td>1</td>\n",
       "      <td>1022430001</td>\n",
       "      <td>40.868203550611</td>\n",
       "      <td>-73.919469362846</td>\n",
       "      <td>2019-08-02T11:11:55.000</td>\n",
       "      <td>Active Rat Signs</td>\n",
       "      <td>2019-08-07T11:34:09.000</td>\n",
       "    </tr>\n",
       "    <tr>\n",
       "      <th>PO333717</th>\n",
       "      <td>BAIT</td>\n",
       "      <td>5</td>\n",
       "      <td>1009620100</td>\n",
       "      <td>40.739489790595</td>\n",
       "      <td>-73.976623458224</td>\n",
       "      <td>2011-10-26T09:45:58.000</td>\n",
       "      <td>Bait applied</td>\n",
       "      <td>2011-10-28T07:14:07.000</td>\n",
       "    </tr>\n",
       "    <tr>\n",
       "      <th>PO431003</th>\n",
       "      <td>BAIT</td>\n",
       "      <td>1</td>\n",
       "      <td>1022290001</td>\n",
       "      <td>40.868266491555</td>\n",
       "      <td>-73.919201730342</td>\n",
       "      <td>2012-03-19T14:00:03.000</td>\n",
       "      <td>Bait applied</td>\n",
       "      <td>2012-03-20T07:20:09.000</td>\n",
       "    </tr>\n",
       "    <tr>\n",
       "      <th>PO333717</th>\n",
       "      <td>BAIT</td>\n",
       "      <td>4</td>\n",
       "      <td>1009620100</td>\n",
       "      <td>40.739489790595</td>\n",
       "      <td>-73.976623458224</td>\n",
       "      <td>2011-10-17T13:50:37.000</td>\n",
       "      <td>Bait applied</td>\n",
       "      <td>2011-10-18T07:09:09.000</td>\n",
       "    </tr>\n",
       "    <tr>\n",
       "      <th>PO422674</th>\n",
       "      <td>BAIT</td>\n",
       "      <td>1</td>\n",
       "      <td>1022290001</td>\n",
       "      <td>40.868266491555</td>\n",
       "      <td>-73.919201730342</td>\n",
       "      <td>2012-03-08T13:51:50.000</td>\n",
       "      <td>Bait applied</td>\n",
       "      <td>2012-03-09T12:23:58.000</td>\n",
       "    </tr>\n",
       "  </tbody>\n",
       "</table>\n",
       "</div>"
      ],
      "text/plain": [
       "          inspection_type job_progress         bbl         latitude  \\\n",
       "job_id                                                                \n",
       "PO2075886         INITIAL            1  1022430001  40.868203550611   \n",
       "PO333717             BAIT            5  1009620100  40.739489790595   \n",
       "PO431003             BAIT            1  1022290001  40.868266491555   \n",
       "PO333717             BAIT            4  1009620100  40.739489790595   \n",
       "PO422674             BAIT            1  1022290001  40.868266491555   \n",
       "\n",
       "                  longitude          inspection_date            result  \\\n",
       "job_id                                                                   \n",
       "PO2075886  -73.919469362846  2019-08-02T11:11:55.000  Active Rat Signs   \n",
       "PO333717   -73.976623458224  2011-10-26T09:45:58.000      Bait applied   \n",
       "PO431003   -73.919201730342  2012-03-19T14:00:03.000      Bait applied   \n",
       "PO333717   -73.976623458224  2011-10-17T13:50:37.000      Bait applied   \n",
       "PO422674   -73.919201730342  2012-03-08T13:51:50.000      Bait applied   \n",
       "\n",
       "                     approved_date  \n",
       "job_id                              \n",
       "PO2075886  2019-08-07T11:34:09.000  \n",
       "PO333717   2011-10-28T07:14:07.000  \n",
       "PO431003   2012-03-20T07:20:09.000  \n",
       "PO333717   2011-10-18T07:09:09.000  \n",
       "PO422674   2012-03-09T12:23:58.000  "
      ]
     },
     "execution_count": 33,
     "metadata": {},
     "output_type": "execute_result"
    }
   ],
   "source": [
    "rats_df = rats[['inspection_type',\n",
    "       'job_progress', 'bbl','latitude',\n",
    "       'longitude','inspection_date', 'result', 'approved_date']]\n",
    "rats_df.head()"
   ]
  },
  {
   "cell_type": "code",
   "execution_count": 27,
   "metadata": {
    "scrolled": true
   },
   "outputs": [
    {
     "data": {
      "text/plain": [
       "0"
      ]
     },
     "execution_count": 27,
     "metadata": {},
     "output_type": "execute_result"
    }
   ],
   "source": [
    "rats.isnull().sum().sum()"
   ]
  },
  {
   "cell_type": "code",
   "execution_count": 36,
   "metadata": {},
   "outputs": [
    {
     "name": "stderr",
     "output_type": "stream",
     "text": [
      "/Users/zhan/opt/anaconda3/envs/dsi/lib/python3.7/site-packages/ipykernel_launcher.py:1: SettingWithCopyWarning: \n",
      "A value is trying to be set on a copy of a slice from a DataFrame.\n",
      "Try using .loc[row_indexer,col_indexer] = value instead\n",
      "\n",
      "See the caveats in the documentation: http://pandas.pydata.org/pandas-docs/stable/user_guide/indexing.html#returning-a-view-versus-a-copy\n",
      "  \"\"\"Entry point for launching an IPython kernel.\n",
      "/Users/zhan/opt/anaconda3/envs/dsi/lib/python3.7/site-packages/ipykernel_launcher.py:2: SettingWithCopyWarning: \n",
      "A value is trying to be set on a copy of a slice from a DataFrame.\n",
      "Try using .loc[row_indexer,col_indexer] = value instead\n",
      "\n",
      "See the caveats in the documentation: http://pandas.pydata.org/pandas-docs/stable/user_guide/indexing.html#returning-a-view-versus-a-copy\n",
      "  \n"
     ]
    }
   ],
   "source": [
    "rats_df['inspection_date'] = pd.to_datetime(rats_df['inspection_date'])\n",
    "rats_df['approved_date'] = pd.to_datetime(rats_df['approved_date'])"
   ]
  },
  {
   "cell_type": "code",
   "execution_count": 38,
   "metadata": {},
   "outputs": [
    {
     "data": {
      "text/plain": [
       "inspection_type            object\n",
       "job_progress               object\n",
       "bbl                        object\n",
       "latitude                   object\n",
       "longitude                  object\n",
       "inspection_date    datetime64[ns]\n",
       "result                     object\n",
       "approved_date      datetime64[ns]\n",
       "dtype: object"
      ]
     },
     "execution_count": 38,
     "metadata": {},
     "output_type": "execute_result"
    }
   ],
   "source": [
    "rats_df.dtypes"
   ]
  },
  {
   "cell_type": "code",
   "execution_count": 41,
   "metadata": {},
   "outputs": [
    {
     "data": {
      "text/plain": [
       "job_id\n",
       "PO2167036   2020-01-08 13:20:54\n",
       "PO2167008   2020-01-08 13:10:44\n",
       "PO2189724   2020-01-08 13:10:40\n",
       "PO2125410   2020-01-08 13:05:13\n",
       "PO2167016   2020-01-08 13:00:09\n",
       "                    ...        \n",
       "PO1429204   1945-06-14 08:13:52\n",
       "PO1992462   1935-04-24 14:35:49\n",
       "PO1344062   1935-02-22 10:19:31\n",
       "PO51132     1930-01-30 08:24:15\n",
       "PO1836311   1918-10-19 14:34:44\n",
       "Name: inspection_date, Length: 583054, dtype: datetime64[ns]"
      ]
     },
     "execution_count": 41,
     "metadata": {},
     "output_type": "execute_result"
    }
   ],
   "source": [
    "rats_df['inspection_date'].sort_values(ascending = False)"
   ]
  },
  {
   "cell_type": "markdown",
   "metadata": {},
   "source": [
    "**restaurants.csv**"
   ]
  },
  {
   "cell_type": "code",
   "execution_count": 13,
   "metadata": {
    "scrolled": true
   },
   "outputs": [
    {
     "data": {
      "text/plain": [
       "(401074, 26)"
      ]
     },
     "execution_count": 13,
     "metadata": {},
     "output_type": "execute_result"
    }
   ],
   "source": [
    "restaurants.shape"
   ]
  },
  {
   "cell_type": "code",
   "execution_count": 21,
   "metadata": {
    "scrolled": false
   },
   "outputs": [
    {
     "data": {
      "text/plain": [
       "camis                    0.000000\n",
       "dba                      0.001010\n",
       "boro                     0.000000\n",
       "building                 0.000621\n",
       "street                   0.000000\n",
       "zipcode                  0.013661\n",
       "phone                    0.000042\n",
       "cuisine_description      0.000000\n",
       "inspection_date          0.000000\n",
       "action                   0.003486\n",
       "violation_code           0.014182\n",
       "violation_description    0.022617\n",
       "critical_flag            0.022617\n",
       "score                    0.042242\n",
       "record_date              0.000000\n",
       "inspection_type          0.003486\n",
       "latitude                 0.001032\n",
       "longitude                0.001032\n",
       "community_board          0.014693\n",
       "council_district         0.014663\n",
       "census_tract             0.014663\n",
       "bin                      0.019001\n",
       "bbl                      0.001032\n",
       "nta                      0.014693\n",
       "grade                    0.494552\n",
       "grade_date               0.500910\n",
       "dtype: float64"
      ]
     },
     "execution_count": 21,
     "metadata": {},
     "output_type": "execute_result"
    }
   ],
   "source": [
    "restaurants.isnull().mean()"
   ]
  },
  {
   "cell_type": "code",
   "execution_count": 7,
   "metadata": {
    "scrolled": false
   },
   "outputs": [
    {
     "data": {
      "text/html": [
       "<div>\n",
       "<style scoped>\n",
       "    .dataframe tbody tr th:only-of-type {\n",
       "        vertical-align: middle;\n",
       "    }\n",
       "\n",
       "    .dataframe tbody tr th {\n",
       "        vertical-align: top;\n",
       "    }\n",
       "\n",
       "    .dataframe thead th {\n",
       "        text-align: right;\n",
       "    }\n",
       "</style>\n",
       "<table border=\"1\" class=\"dataframe\">\n",
       "  <thead>\n",
       "    <tr style=\"text-align: right;\">\n",
       "      <th></th>\n",
       "      <th>inspection_type</th>\n",
       "      <th>job_ticket_or_work_order_id</th>\n",
       "      <th>job_id</th>\n",
       "      <th>job_progress</th>\n",
       "      <th>bbl</th>\n",
       "      <th>boro_code</th>\n",
       "      <th>block</th>\n",
       "      <th>lot</th>\n",
       "      <th>house_number</th>\n",
       "      <th>street_name</th>\n",
       "      <th>zip_code</th>\n",
       "      <th>x_coord</th>\n",
       "      <th>y_coord</th>\n",
       "      <th>latitude</th>\n",
       "      <th>longitude</th>\n",
       "      <th>borough</th>\n",
       "      <th>inspection_date</th>\n",
       "      <th>result</th>\n",
       "      <th>approved_date</th>\n",
       "      <th>location</th>\n",
       "    </tr>\n",
       "  </thead>\n",
       "  <tbody>\n",
       "    <tr>\n",
       "      <th>594531</th>\n",
       "      <td>COMPLIANCE</td>\n",
       "      <td>1448107</td>\n",
       "      <td>PO1439162</td>\n",
       "      <td>2</td>\n",
       "      <td>1018380042</td>\n",
       "      <td>1</td>\n",
       "      <td>01838</td>\n",
       "      <td>0042</td>\n",
       "      <td>14</td>\n",
       "      <td>WEST 103 STREET</td>\n",
       "      <td>10025</td>\n",
       "      <td>994678</td>\n",
       "      <td>229458</td>\n",
       "      <td>40.796472628049</td>\n",
       "      <td>-73.962337133531</td>\n",
       "      <td>Manhattan</td>\n",
       "      <td>2017-06-22T11:57:03.000</td>\n",
       "      <td>Passed Inspection</td>\n",
       "      <td>2017-06-26T09:10:19.000</td>\n",
       "      <td>{'latitude': '40.796472628049', 'longitude': '...</td>\n",
       "    </tr>\n",
       "    <tr>\n",
       "      <th>594532</th>\n",
       "      <td>INITIAL</td>\n",
       "      <td>1289507</td>\n",
       "      <td>PO1289507</td>\n",
       "      <td>1</td>\n",
       "      <td>1005500017</td>\n",
       "      <td>1</td>\n",
       "      <td>00550</td>\n",
       "      <td>0017</td>\n",
       "      <td>60</td>\n",
       "      <td>WASHINGTON MEWS</td>\n",
       "      <td>10003</td>\n",
       "      <td>985381</td>\n",
       "      <td>205835</td>\n",
       "      <td>40.731427971626</td>\n",
       "      <td>-73.99562690223</td>\n",
       "      <td>Manhattan</td>\n",
       "      <td>2016-11-22T11:59:08.000</td>\n",
       "      <td>Passed Inspection</td>\n",
       "      <td>2016-11-23T12:16:42.000</td>\n",
       "      <td>{'latitude': '40.731427971626', 'longitude': '...</td>\n",
       "    </tr>\n",
       "    <tr>\n",
       "      <th>594533</th>\n",
       "      <td>INITIAL</td>\n",
       "      <td>814770</td>\n",
       "      <td>PO814770</td>\n",
       "      <td>1</td>\n",
       "      <td>1021740077</td>\n",
       "      <td>1</td>\n",
       "      <td>02174</td>\n",
       "      <td>0077</td>\n",
       "      <td>126</td>\n",
       "      <td>NAGLE AVENUE</td>\n",
       "      <td>10040</td>\n",
       "      <td>1004604</td>\n",
       "      <td>253094</td>\n",
       "      <td>40.861022449888</td>\n",
       "      <td>-73.92632894516</td>\n",
       "      <td>Manhattan</td>\n",
       "      <td>2014-06-11T11:53:38.000</td>\n",
       "      <td>Active Rat Signs</td>\n",
       "      <td>2014-06-13T11:05:49.000</td>\n",
       "      <td>{'latitude': '40.861022449888', 'longitude': '...</td>\n",
       "    </tr>\n",
       "    <tr>\n",
       "      <th>594534</th>\n",
       "      <td>INITIAL</td>\n",
       "      <td>44963</td>\n",
       "      <td>PO44963</td>\n",
       "      <td>1</td>\n",
       "      <td>1022260015</td>\n",
       "      <td>1</td>\n",
       "      <td>02226</td>\n",
       "      <td>0015</td>\n",
       "      <td>125</td>\n",
       "      <td>VERMILYEA AVENUE</td>\n",
       "      <td>10034</td>\n",
       "      <td>1006063</td>\n",
       "      <td>254932</td>\n",
       "      <td>40.866486626423</td>\n",
       "      <td>-73.921311751905</td>\n",
       "      <td>Manhattan</td>\n",
       "      <td>2010-01-06T10:03:58.000</td>\n",
       "      <td>Active Rat Signs</td>\n",
       "      <td>2010-01-11T13:16:55.000</td>\n",
       "      <td>{'latitude': '40.866486626423', 'longitude': '...</td>\n",
       "    </tr>\n",
       "    <tr>\n",
       "      <th>594535</th>\n",
       "      <td>BAIT</td>\n",
       "      <td>484725</td>\n",
       "      <td>PO1954284</td>\n",
       "      <td>4</td>\n",
       "      <td>1022270019</td>\n",
       "      <td>1</td>\n",
       "      <td>02227</td>\n",
       "      <td>0019</td>\n",
       "      <td>530</td>\n",
       "      <td>ISHAM STREET</td>\n",
       "      <td>10034</td>\n",
       "      <td>1006667</td>\n",
       "      <td>254965</td>\n",
       "      <td>40.866545234657</td>\n",
       "      <td>-73.918759119886</td>\n",
       "      <td>Manhattan</td>\n",
       "      <td>2019-06-06T12:43:54.000</td>\n",
       "      <td>Bait applied</td>\n",
       "      <td>2019-06-10T12:15:50.000</td>\n",
       "      <td>{'latitude': '40.866545234657', 'longitude': '...</td>\n",
       "    </tr>\n",
       "  </tbody>\n",
       "</table>\n",
       "</div>"
      ],
      "text/plain": [
       "       inspection_type job_ticket_or_work_order_id     job_id job_progress  \\\n",
       "594531      COMPLIANCE                     1448107  PO1439162            2   \n",
       "594532         INITIAL                     1289507  PO1289507            1   \n",
       "594533         INITIAL                      814770   PO814770            1   \n",
       "594534         INITIAL                       44963    PO44963            1   \n",
       "594535            BAIT                      484725  PO1954284            4   \n",
       "\n",
       "               bbl boro_code  block   lot house_number       street_name  \\\n",
       "594531  1018380042         1  01838  0042           14   WEST 103 STREET   \n",
       "594532  1005500017         1  00550  0017           60   WASHINGTON MEWS   \n",
       "594533  1021740077         1  02174  0077          126      NAGLE AVENUE   \n",
       "594534  1022260015         1  02226  0015          125  VERMILYEA AVENUE   \n",
       "594535  1022270019         1  02227  0019          530      ISHAM STREET   \n",
       "\n",
       "       zip_code  x_coord y_coord         latitude         longitude  \\\n",
       "594531    10025   994678  229458  40.796472628049  -73.962337133531   \n",
       "594532    10003   985381  205835  40.731427971626   -73.99562690223   \n",
       "594533    10040  1004604  253094  40.861022449888   -73.92632894516   \n",
       "594534    10034  1006063  254932  40.866486626423  -73.921311751905   \n",
       "594535    10034  1006667  254965  40.866545234657  -73.918759119886   \n",
       "\n",
       "          borough          inspection_date             result  \\\n",
       "594531  Manhattan  2017-06-22T11:57:03.000  Passed Inspection   \n",
       "594532  Manhattan  2016-11-22T11:59:08.000  Passed Inspection   \n",
       "594533  Manhattan  2014-06-11T11:53:38.000   Active Rat Signs   \n",
       "594534  Manhattan  2010-01-06T10:03:58.000   Active Rat Signs   \n",
       "594535  Manhattan  2019-06-06T12:43:54.000       Bait applied   \n",
       "\n",
       "                  approved_date  \\\n",
       "594531  2017-06-26T09:10:19.000   \n",
       "594532  2016-11-23T12:16:42.000   \n",
       "594533  2014-06-13T11:05:49.000   \n",
       "594534  2010-01-11T13:16:55.000   \n",
       "594535  2019-06-10T12:15:50.000   \n",
       "\n",
       "                                                 location  \n",
       "594531  {'latitude': '40.796472628049', 'longitude': '...  \n",
       "594532  {'latitude': '40.731427971626', 'longitude': '...  \n",
       "594533  {'latitude': '40.861022449888', 'longitude': '...  \n",
       "594534  {'latitude': '40.866486626423', 'longitude': '...  \n",
       "594535  {'latitude': '40.866545234657', 'longitude': '...  "
      ]
     },
     "execution_count": 7,
     "metadata": {},
     "output_type": "execute_result"
    }
   ],
   "source": [
    "rats.tail()"
   ]
  },
  {
   "cell_type": "code",
   "execution_count": 14,
   "metadata": {
    "scrolled": true
   },
   "outputs": [
    {
     "data": {
      "text/html": [
       "<div>\n",
       "<style scoped>\n",
       "    .dataframe tbody tr th:only-of-type {\n",
       "        vertical-align: middle;\n",
       "    }\n",
       "\n",
       "    .dataframe tbody tr th {\n",
       "        vertical-align: top;\n",
       "    }\n",
       "\n",
       "    .dataframe thead th {\n",
       "        text-align: right;\n",
       "    }\n",
       "</style>\n",
       "<table border=\"1\" class=\"dataframe\">\n",
       "  <thead>\n",
       "    <tr style=\"text-align: right;\">\n",
       "      <th></th>\n",
       "      <th>camis</th>\n",
       "      <th>dba</th>\n",
       "      <th>boro</th>\n",
       "      <th>building</th>\n",
       "      <th>street</th>\n",
       "      <th>zipcode</th>\n",
       "      <th>phone</th>\n",
       "      <th>cuisine_description</th>\n",
       "      <th>inspection_date</th>\n",
       "      <th>action</th>\n",
       "      <th>...</th>\n",
       "      <th>latitude</th>\n",
       "      <th>longitude</th>\n",
       "      <th>community_board</th>\n",
       "      <th>council_district</th>\n",
       "      <th>census_tract</th>\n",
       "      <th>bin</th>\n",
       "      <th>bbl</th>\n",
       "      <th>nta</th>\n",
       "      <th>grade</th>\n",
       "      <th>grade_date</th>\n",
       "    </tr>\n",
       "  </thead>\n",
       "  <tbody>\n",
       "    <tr>\n",
       "      <th>0</th>\n",
       "      <td>50073722</td>\n",
       "      <td>SAMWON GARDEN</td>\n",
       "      <td>Manhattan</td>\n",
       "      <td>37</td>\n",
       "      <td>W 32ND ST</td>\n",
       "      <td>10001</td>\n",
       "      <td>2126953131</td>\n",
       "      <td>Korean</td>\n",
       "      <td>2018-02-05T00:00:00.000</td>\n",
       "      <td>Violations were cited in the following area(s).</td>\n",
       "      <td>...</td>\n",
       "      <td>40.747629611437</td>\n",
       "      <td>-73.986610434278</td>\n",
       "      <td>105</td>\n",
       "      <td>04</td>\n",
       "      <td>007600</td>\n",
       "      <td>1015845</td>\n",
       "      <td>1008340021</td>\n",
       "      <td>MN17</td>\n",
       "      <td>NaN</td>\n",
       "      <td>NaN</td>\n",
       "    </tr>\n",
       "    <tr>\n",
       "      <th>1</th>\n",
       "      <td>50044714</td>\n",
       "      <td>THE HIDEOUT TAVERN</td>\n",
       "      <td>Bronx</td>\n",
       "      <td>143</td>\n",
       "      <td>E 233RD ST</td>\n",
       "      <td>10470</td>\n",
       "      <td>3472751105</td>\n",
       "      <td>Irish</td>\n",
       "      <td>2016-02-04T00:00:00.000</td>\n",
       "      <td>Violations were cited in the following area(s).</td>\n",
       "      <td>...</td>\n",
       "      <td>40.896425170898</td>\n",
       "      <td>-73.871547455917</td>\n",
       "      <td>212</td>\n",
       "      <td>11</td>\n",
       "      <td>044901</td>\n",
       "      <td>2018882</td>\n",
       "      <td>2033690024</td>\n",
       "      <td>BX62</td>\n",
       "      <td>A</td>\n",
       "      <td>2016-02-04T00:00:00.000</td>\n",
       "    </tr>\n",
       "    <tr>\n",
       "      <th>2</th>\n",
       "      <td>50002562</td>\n",
       "      <td>EXQUISITO RESTAURANT</td>\n",
       "      <td>Queens</td>\n",
       "      <td>2112</td>\n",
       "      <td>36TH AVENUE</td>\n",
       "      <td>11106</td>\n",
       "      <td>7187843505</td>\n",
       "      <td>Spanish</td>\n",
       "      <td>2018-11-28T00:00:00.000</td>\n",
       "      <td>Establishment Closed by DOHMH.  Violations wer...</td>\n",
       "      <td>...</td>\n",
       "      <td>40.759769411236</td>\n",
       "      <td>-73.936581040398</td>\n",
       "      <td>401</td>\n",
       "      <td>26</td>\n",
       "      <td>003300</td>\n",
       "      <td>4004269</td>\n",
       "      <td>4003480019</td>\n",
       "      <td>QN68</td>\n",
       "      <td>NaN</td>\n",
       "      <td>NaN</td>\n",
       "    </tr>\n",
       "    <tr>\n",
       "      <th>3</th>\n",
       "      <td>41382110</td>\n",
       "      <td>CAFFEINA ESPRESSO BAR</td>\n",
       "      <td>Queens</td>\n",
       "      <td>4402</td>\n",
       "      <td>23 STREET</td>\n",
       "      <td>11101</td>\n",
       "      <td>7183616408</td>\n",
       "      <td>Café/Coffee/Tea</td>\n",
       "      <td>2020-01-31T00:00:00.000</td>\n",
       "      <td>Violations were cited in the following area(s).</td>\n",
       "      <td>...</td>\n",
       "      <td>40.748906949623</td>\n",
       "      <td>-73.944379896967</td>\n",
       "      <td>402</td>\n",
       "      <td>26</td>\n",
       "      <td>001900</td>\n",
       "      <td>4005192</td>\n",
       "      <td>4004390039</td>\n",
       "      <td>QN31</td>\n",
       "      <td>A</td>\n",
       "      <td>2020-01-31T00:00:00.000</td>\n",
       "    </tr>\n",
       "    <tr>\n",
       "      <th>4</th>\n",
       "      <td>50011059</td>\n",
       "      <td>PARDON MY FRENCH</td>\n",
       "      <td>Manhattan</td>\n",
       "      <td>103</td>\n",
       "      <td>AVENUE B</td>\n",
       "      <td>10009</td>\n",
       "      <td>2123589683</td>\n",
       "      <td>French</td>\n",
       "      <td>2018-04-10T00:00:00.000</td>\n",
       "      <td>Violations were cited in the following area(s).</td>\n",
       "      <td>...</td>\n",
       "      <td>40.724822636463</td>\n",
       "      <td>-73.981376497697</td>\n",
       "      <td>103</td>\n",
       "      <td>02</td>\n",
       "      <td>002602</td>\n",
       "      <td>1004672</td>\n",
       "      <td>1003890006</td>\n",
       "      <td>MN28</td>\n",
       "      <td>B</td>\n",
       "      <td>2018-04-10T00:00:00.000</td>\n",
       "    </tr>\n",
       "  </tbody>\n",
       "</table>\n",
       "<p>5 rows × 26 columns</p>\n",
       "</div>"
      ],
      "text/plain": [
       "      camis                    dba       boro building       street zipcode  \\\n",
       "0  50073722          SAMWON GARDEN  Manhattan       37    W 32ND ST   10001   \n",
       "1  50044714     THE HIDEOUT TAVERN      Bronx      143   E 233RD ST   10470   \n",
       "2  50002562   EXQUISITO RESTAURANT     Queens     2112  36TH AVENUE   11106   \n",
       "3  41382110  CAFFEINA ESPRESSO BAR     Queens     4402    23 STREET   11101   \n",
       "4  50011059       PARDON MY FRENCH  Manhattan      103     AVENUE B   10009   \n",
       "\n",
       "        phone cuisine_description          inspection_date  \\\n",
       "0  2126953131              Korean  2018-02-05T00:00:00.000   \n",
       "1  3472751105               Irish  2016-02-04T00:00:00.000   \n",
       "2  7187843505             Spanish  2018-11-28T00:00:00.000   \n",
       "3  7183616408     Café/Coffee/Tea  2020-01-31T00:00:00.000   \n",
       "4  2123589683              French  2018-04-10T00:00:00.000   \n",
       "\n",
       "                                              action  ...         latitude  \\\n",
       "0    Violations were cited in the following area(s).  ...  40.747629611437   \n",
       "1    Violations were cited in the following area(s).  ...  40.896425170898   \n",
       "2  Establishment Closed by DOHMH.  Violations wer...  ...  40.759769411236   \n",
       "3    Violations were cited in the following area(s).  ...  40.748906949623   \n",
       "4    Violations were cited in the following area(s).  ...  40.724822636463   \n",
       "\n",
       "          longitude community_board council_district census_tract      bin  \\\n",
       "0  -73.986610434278             105               04       007600  1015845   \n",
       "1  -73.871547455917             212               11       044901  2018882   \n",
       "2  -73.936581040398             401               26       003300  4004269   \n",
       "3  -73.944379896967             402               26       001900  4005192   \n",
       "4  -73.981376497697             103               02       002602  1004672   \n",
       "\n",
       "          bbl   nta grade               grade_date  \n",
       "0  1008340021  MN17   NaN                      NaN  \n",
       "1  2033690024  BX62     A  2016-02-04T00:00:00.000  \n",
       "2  4003480019  QN68   NaN                      NaN  \n",
       "3  4004390039  QN31     A  2020-01-31T00:00:00.000  \n",
       "4  1003890006  MN28     B  2018-04-10T00:00:00.000  \n",
       "\n",
       "[5 rows x 26 columns]"
      ]
     },
     "execution_count": 14,
     "metadata": {},
     "output_type": "execute_result"
    }
   ],
   "source": [
    "restaurants.head()"
   ]
  },
  {
   "cell_type": "code",
   "execution_count": 9,
   "metadata": {},
   "outputs": [
    {
     "data": {
      "text/plain": [
       "{'Active Rat Signs',\n",
       " 'Bait applied',\n",
       " 'Cleanup done',\n",
       " 'Monitoring visit',\n",
       " 'Passed Inspection',\n",
       " 'Problem Conditions',\n",
       " nan}"
      ]
     },
     "execution_count": 9,
     "metadata": {},
     "output_type": "execute_result"
    }
   ],
   "source": [
    "set(rats['result'])"
   ]
  },
  {
   "cell_type": "code",
   "execution_count": 15,
   "metadata": {},
   "outputs": [
    {
     "data": {
      "text/plain": [
       "{'BAIT', 'CLEAN_UPS', 'COMPLIANCE', 'INITIAL'}"
      ]
     },
     "execution_count": 15,
     "metadata": {},
     "output_type": "execute_result"
    }
   ],
   "source": [
    "set(rats['inspection_type'])"
   ]
  },
  {
   "cell_type": "code",
   "execution_count": 16,
   "metadata": {},
   "outputs": [
    {
     "data": {
      "text/plain": [
       "{'Establishment Closed by DOHMH.  Violations were cited in the following area(s) and those requiring immediate action were addressed.',\n",
       " 'Establishment re-closed by DOHMH',\n",
       " 'Establishment re-opened by DOHMH',\n",
       " 'No violations were recorded at the time of this inspection.',\n",
       " 'Violations were cited in the following area(s).',\n",
       " nan}"
      ]
     },
     "execution_count": 16,
     "metadata": {},
     "output_type": "execute_result"
    }
   ],
   "source": [
    "set(restaurants['action'])"
   ]
  }
 ],
 "metadata": {
  "kernelspec": {
   "display_name": "Python 3",
   "language": "python",
   "name": "python3"
  },
  "language_info": {
   "codemirror_mode": {
    "name": "ipython",
    "version": 3
   },
   "file_extension": ".py",
   "mimetype": "text/x-python",
   "name": "python",
   "nbconvert_exporter": "python",
   "pygments_lexer": "ipython3",
   "version": "3.7.3"
  }
 },
 "nbformat": 4,
 "nbformat_minor": 2
}
